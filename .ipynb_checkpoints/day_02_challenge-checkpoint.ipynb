{
 "cells": [
  {
   "cell_type": "markdown",
   "id": "750437da",
   "metadata": {},
   "source": [
    "## Day 2 Challenge: Control Structures and Basic Data Structures\n",
    "\n",
    "## Topics:\n",
    "1. Control Structures\n",
    "   - if, elif, else statements\n",
    "   - for loops\n",
    "   - while loops\n",
    "   - break and continue statements\n",
    "   - range() function\n",
    "\n",
    "2. Basic Data Structures\n",
    "   - Lists\n",
    "     - Creating lists\n",
    "     - Accessing and modifying list elements\n",
    "     - List methods (append(), extend(), insert(), remove(), pop(), etc.)\n",
    "     - List slicing\n",
    "   - Tuples\n",
    "     - Creating tuples\n",
    "     - Accessing tuple elements\n",
    "     - Immutability of tuples\n",
    "   - Dictionaries\n",
    "     - Creating dictionaries\n",
    "     - Accessing and modifying dictionary elements\n",
    "     - Dictionary methods (keys(), values(), items(), get(), etc.)\n",
    "\n",
    "3. List Comprehensions\n",
    "   - Basic syntax\n",
    "   - Conditional list comprehensions\n",
    "\n",
    "## Exercises:\n",
    "1. Write a program that prints the first 10 even numbers using a for loop and the range() function.\n",
    "\n",
    "2. Create a program that asks the user to enter numbers until they enter 'done'. Then print the sum, count, and average of the numbers.\n",
    "\n",
    "3. Write a function that takes a list of numbers and returns a new list with only the even numbers.\n",
    "\n",
    "4. Create a dictionary of your favorite books with authors as keys and titles as values. Write a program to print all the authors and titles in a formatted way.\n",
    "\n",
    "5. Use a list comprehension to create a list of squares of numbers from 1 to 10.\n",
    "\n",
    "6. Write a program that simulates a simple guessing game. The program should generate a random number between 1 and 100, and the user should guess the number. Provide hints like \"Too high\" or \"Too low\" until the user guesses correctly.\n",
    "\n",
    "## Assignment:\n",
    "Create a simple to-do list manager using a dictionary. The program should allow users to:\n",
    "- Add tasks (with a description and due date)\n",
    "- View all tasks\n",
    "- Mark tasks as complete\n",
    "- Remove tasks\n",
    "- Quit the program\n",
    "\n",
    "Use appropriate control structures and data structures to implement this functionality.\n",
    "\n",
    "## Notes:\n",
    "- Pay attention to proper indentation in control structures\n",
    "- Remember that lists are mutable, while tuples are immutable\n",
    "- Dictionary keys must be unique and immutable\n",
    "- List comprehensions can make your code more concise, but don't sacrifice readability\n",
    "- Practice using the Python interactive shell to experiment with different data structures\n",
    "\n",
    "## Additional Resources:\n",
    "- Python Control Flow: https://docs.python.org/3/tutorial/controlflow.html\n",
    "- Python Datax Structures: https://docs.python.org/3/tutorial/datastructures.html\n",
    "- Python List Comprehensions: https://docs.python.org/3/tutorial/datastructures.html#list-comprehensions\n",
    "- W3Schools Python Tutorial: https://www.w3schools.com/python/\n",
    "\n",
    "Remember to commit your code to GitHub at the end of the day, including your exercises and the to-do list manager assignment. Don't hesitate to experiment and explore beyond these exercises. The more you practice, the more comfortable you'll become with these fundamental concepts.\n"
   ]
  },
  {
   "cell_type": "code",
   "execution_count": null,
   "id": "772dedcc-3d39-437f-bf31-6d14c1cdbb0c",
   "metadata": {},
   "outputs": [],
   "source": []
  },
  {
   "cell_type": "code",
   "execution_count": 1,
   "id": "3bfe4c0f-149c-43a9-ad87-e775cb33d299",
   "metadata": {},
   "outputs": [
    {
     "name": "stdout",
     "output_type": "stream",
     "text": [
      "A. Conditional Statements\n",
      "Teenager\n"
     ]
    },
    {
     "name": "stdin",
     "output_type": "stream",
     "text": [
      "Enter a number:  17\n"
     ]
    },
    {
     "name": "stdout",
     "output_type": "stream",
     "text": [
      "Positive\n"
     ]
    }
   ],
   "source": [
    "# Day 2: Control Structures and Basic Data Structures\n",
    "\n",
    "# I. Control Structures\n",
    "\n",
    "# A. Conditional Statements (if, elif, else)\n",
    "\n",
    "print(\"A. Conditional Statements\")\n",
    "\n",
    "# Example\n",
    "age = 18\n",
    "if age < 13:\n",
    "    print(\"Child\")\n",
    "elif age < 20:\n",
    "    print(\"Teenager\")\n",
    "else:\n",
    "    print(\"Adult\")\n",
    "\n",
    "# Exercise 1: Check if a number is positive, negative, or zero\n",
    "number = float(input(\"Enter a number: \"))\n",
    "if number > 0:\n",
    "    print(\"Positive\")\n",
    "elif number < 0:\n",
    "    print(\"Negative\")\n",
    "else:\n",
    "    print(\"Zero\")\n",
    "    "
   ]
  },
  {
   "cell_type": "code",
   "execution_count": 3,
   "id": "47831852-bb28-4463-96e6-8ce878127b91",
   "metadata": {},
   "outputs": [
    {
     "name": "stdout",
     "output_type": "stream",
     "text": [
      "\n",
      "B. For Loops\n",
      "apple\n",
      "banana\n",
      "cherry\n",
      "Sum of numbers: 15\n",
      "\n",
      "C. While Loops\n",
      "0\n",
      "1\n",
      "2\n",
      "3\n",
      "4\n"
     ]
    }
   ],
   "source": [
    "# B. For Loops\n",
    "\n",
    "print(\"\\nB. For Loops\")\n",
    "\n",
    "# Example\n",
    "fruits = [\"apple\", \"banana\", \"cherry\"]\n",
    "for fruit in fruits:\n",
    "    print(fruit)\n",
    "\n",
    "# Exercise 2: Calculate the sum of numbers in a list\n",
    "numbers = [1, 2, 3, 4, 5]\n",
    "sum_of_numbers = 0\n",
    "for num in numbers:\n",
    "    sum_of_numbers += num\n",
    "print(f\"Sum of numbers: {sum_of_numbers}\")\n",
    "\n",
    "# C. While Loops\n",
    "\n",
    "print(\"\\nC. While Loops\")\n",
    "\n",
    "# Example\n",
    "count = 0\n",
    "while count < 5:\n",
    "    print(count)\n",
    "    count += 1\n"
   ]
  },
  {
   "cell_type": "code",
   "execution_count": 2,
   "id": "aa768d20-7549-4f92-9169-2f3e3c9cf899",
   "metadata": {},
   "outputs": [
    {
     "name": "stdin",
     "output_type": "stream",
     "text": [
      "Guess a number between 1 and 20: 3\n"
     ]
    },
    {
     "name": "stdout",
     "output_type": "stream",
     "text": [
      "Too Low\n"
     ]
    },
    {
     "name": "stdin",
     "output_type": "stream",
     "text": [
      "Guess a number between 1 and 20: 7\n"
     ]
    },
    {
     "name": "stdout",
     "output_type": "stream",
     "text": [
      "Too high\n"
     ]
    },
    {
     "name": "stdin",
     "output_type": "stream",
     "text": [
      "Guess a number between 1 and 20: 10\n"
     ]
    },
    {
     "name": "stdout",
     "output_type": "stream",
     "text": [
      "Too high\n"
     ]
    },
    {
     "name": "stdin",
     "output_type": "stream",
     "text": [
      "Guess a number between 1 and 20: 15\n"
     ]
    },
    {
     "name": "stdout",
     "output_type": "stream",
     "text": [
      "Too high\n"
     ]
    },
    {
     "name": "stdin",
     "output_type": "stream",
     "text": [
      "Guess a number between 1 and 20: 20\n"
     ]
    },
    {
     "name": "stdout",
     "output_type": "stream",
     "text": [
      "Too high\n"
     ]
    },
    {
     "name": "stdin",
     "output_type": "stream",
     "text": [
      "Guess a number between 1 and 20: 3\n"
     ]
    },
    {
     "name": "stdout",
     "output_type": "stream",
     "text": [
      "Too Low\n"
     ]
    },
    {
     "name": "stdin",
     "output_type": "stream",
     "text": [
      "Guess a number between 1 and 20: 13\n"
     ]
    },
    {
     "name": "stdout",
     "output_type": "stream",
     "text": [
      "Too high\n"
     ]
    },
    {
     "name": "stdin",
     "output_type": "stream",
     "text": [
      "Guess a number between 1 and 20: 9\n"
     ]
    },
    {
     "name": "stdout",
     "output_type": "stream",
     "text": [
      "Too high\n"
     ]
    },
    {
     "name": "stdin",
     "output_type": "stream",
     "text": [
      "Guess a number between 1 and 20: 8\n"
     ]
    },
    {
     "name": "stdout",
     "output_type": "stream",
     "text": [
      "Too high\n"
     ]
    },
    {
     "name": "stdin",
     "output_type": "stream",
     "text": [
      "Guess a number between 1 and 20: 7\n"
     ]
    },
    {
     "name": "stdout",
     "output_type": "stream",
     "text": [
      "Too high\n"
     ]
    },
    {
     "name": "stdin",
     "output_type": "stream",
     "text": [
      "Guess a number between 1 and 20: 6\n"
     ]
    },
    {
     "name": "stdout",
     "output_type": "stream",
     "text": [
      "Too high\n"
     ]
    },
    {
     "name": "stdin",
     "output_type": "stream",
     "text": [
      "Guess a number between 1 and 20: 5\n"
     ]
    },
    {
     "name": "stdout",
     "output_type": "stream",
     "text": [
      "Too high\n"
     ]
    },
    {
     "name": "stdin",
     "output_type": "stream",
     "text": [
      "Guess a number between 1 and 20: 4\n"
     ]
    },
    {
     "name": "stdout",
     "output_type": "stream",
     "text": [
      "Correct\n"
     ]
    }
   ],
   "source": [
    "## Exercise 3: Guessing game\n",
    "\n",
    "import random\n",
    "secret_number = random.randint(1, 20)\n",
    "guess = 0\n",
    "while guess != secret_number:\n",
    "    guess = int(input(\"Guess a number between 1 and 20:\"))\n",
    "    if guess < secret_number:\n",
    "        print(\"Too Low\")\n",
    "    elif guess > secret_number:\n",
    "        print(\"Too high\")\n",
    "print(\"Correct\")"
   ]
  },
  {
   "cell_type": "code",
   "execution_count": 8,
   "id": "3c75fd2e-eddc-4198-8a4f-ac7ac09bdb41",
   "metadata": {},
   "outputs": [
    {
     "name": "stdout",
     "output_type": "stream",
     "text": [
      "\n",
      "D. Break and Continue Statements\n",
      "0\n",
      "1\n",
      "2\n",
      "3\n",
      "4\n",
      "5\n",
      "7\n",
      "8\n",
      "9\n",
      "10\n",
      "11\n",
      "12\n",
      "1\n",
      "2\n",
      "4\n",
      "5\n",
      "7\n",
      "8\n",
      "10\n",
      "11\n",
      "13\n",
      "14\n",
      "\n",
      "E. Range Function\n",
      "2\n",
      "4\n",
      "6\n",
      "8\n",
      "1\n",
      "3\n",
      "5\n",
      "7\n",
      "9\n",
      "11\n",
      "13\n",
      "15\n",
      "17\n",
      "19\n"
     ]
    }
   ],
   "source": [
    "# D. Break and Continue Statements\n",
    "\n",
    "print(\"\\nD. Break and Continue Statements\")\n",
    "\n",
    "# Example\n",
    "for i in range(17):\n",
    "    if i == 6:\n",
    "        continue\n",
    "    if i == 13:\n",
    "        break\n",
    "    print(i)\n",
    "\n",
    "# Exercise 4: Print numbers from 1 to 20, skip multiples of 3, stop after 15\n",
    "for i in range(1, 21):\n",
    "    if i % 3 == 0:\n",
    "        continue\n",
    "    if i > 15:\n",
    "        break\n",
    "    print(i)\n",
    "\n",
    "# E. Range Function\n",
    "\n",
    "print(\"\\nE. Range Function\")\n",
    "\n",
    "# Example\n",
    "for i in range(2, 10, 2):\n",
    "    print(i)\n",
    "\n",
    "# Exercise 5: Print odd numbers between 1 and 20\n",
    "for i in range(1, 21, 2):\n",
    "    print(i)\n",
    "    "
   ]
  },
  {
   "cell_type": "code",
   "execution_count": 4,
   "id": "643daf76-fd53-4996-a3f5-c9159995f4a4",
   "metadata": {},
   "outputs": [
    {
     "name": "stdout",
     "output_type": "stream",
     "text": [
      "0\n",
      "1\n",
      "2\n",
      "3\n",
      "4\n",
      "6\n",
      "7\n",
      "8\n",
      "9\n",
      "10\n",
      "11\n",
      "12\n",
      "13\n",
      "14\n",
      "15\n"
     ]
    }
   ],
   "source": [
    "for i in range(20):\n",
    "    if i == 5:\n",
    "        continue\n",
    "    if i > 15:\n",
    "        break\n",
    "    print(i)"
   ]
  },
  {
   "cell_type": "code",
   "execution_count": 7,
   "id": "9e908289-5742-4ba5-8265-8ebda98d9421",
   "metadata": {},
   "outputs": [
    {
     "name": "stdout",
     "output_type": "stream",
     "text": [
      "1\n",
      "2\n",
      "3\n",
      "4\n",
      "5\n",
      "6\n",
      "7\n",
      "9\n",
      "10\n",
      "11\n",
      "12\n",
      "13\n",
      "14\n",
      "15\n",
      "17\n",
      "18\n",
      "19\n",
      "20\n"
     ]
    }
   ],
   "source": [
    "## Exercise 4: Print numbers from 1 to 27, skip multiple of 8, stop after 23.\n",
    "\n",
    "for i in range (1, 21):\n",
    "    if i % 8 == 0:\n",
    "        continue \n",
    "    if i > 23:\n",
    "        break\n",
    "    print(i)"
   ]
  },
  {
   "cell_type": "code",
   "execution_count": 1,
   "id": "44700b0e-4cd4-4d53-9bf5-51f947f4711f",
   "metadata": {},
   "outputs": [
    {
     "name": "stdout",
     "output_type": "stream",
     "text": [
      "\n",
      "A. Lists\n",
      "1\n",
      "[1, 10, 4]\n",
      "[7, 6, 5, 4, 10, 1, 0]\n"
     ]
    }
   ],
   "source": [
    "# II. Basic Data Structures\n",
    "\n",
    "# A. Lists\n",
    "\n",
    "print(\"\\nA. Lists\")\n",
    "\n",
    "# Creating lists\n",
    "my_list = [1, 2, 3, 4, 5]\n",
    "empty_list = []\n",
    "\n",
    "# Accessing and modifying\n",
    "print(my_list[0])  # Access first element\n",
    "my_list[1] = 10    # Modify second element\n",
    "\n",
    "# List methods\n",
    "my_list.append(6)   # Add element to the end\n",
    "my_list.extend([7, 8])  # Add multiple elements\n",
    "my_list.insert(0, 0)    # Insert at specific index\n",
    "my_list.remove(3)       # Remove first occurrence of 3\n",
    "popped = my_list.pop()  # Remove and return last element\n",
    "\n",
    "# List slicing\n",
    "print(my_list[1:4])  # Elements from index 1 to 3\n",
    "print(my_list[::-1])  # Reverse the list\n",
    "\n",
    "\n"
   ]
  },
  {
   "cell_type": "code",
   "execution_count": 2,
   "id": "19662e56-7e95-4eba-9f4d-fbe22f9f092c",
   "metadata": {},
   "outputs": [
    {
     "name": "stdout",
     "output_type": "stream",
     "text": [
      "['pizza', 'pasta', 'tacos']\n"
     ]
    }
   ],
   "source": [
    "## EXERCISE 6\n",
    "\n",
    "fav_foods = [\"pizza\", \"sushi\", \"burger\", \"pasta\", \"ice cream\"]\n",
    "fav_foods.append(\"tacos\")\n",
    "fav_foods.remove(\"burger\")\n",
    "fav_foods[1] = \"sashimi\"\n",
    "print(fav_foods[::2])"
   ]
  },
  {
   "cell_type": "code",
   "execution_count": 1,
   "id": "b9228fe6-3b32-4ce7-998a-98c914429fe1",
   "metadata": {},
   "outputs": [
    {
     "name": "stdout",
     "output_type": "stream",
     "text": [
      "\n",
      "B. Tuples\n",
      "1\n",
      "\n",
      "C. Dictionaries\n",
      "Great\n",
      "dict_keys(['name', 'age', 'city'])\n",
      "dict_values(['Great', 31, 'Lagos'])\n",
      "dict_items([('name', 'Great'), ('age', 31), ('city', 'Lagos')])\n",
      "Not Found\n"
     ]
    }
   ],
   "source": [
    "# B. Tuples\n",
    "\n",
    "print(\"\\nB. Tuples\")\n",
    "\n",
    "# Creating tuples\n",
    "my_tuple = (1, 2, 3, 4, 5)\n",
    "single_element_tuple = (1,)\n",
    "\n",
    "# Accessing tuple elements\n",
    "print(my_tuple[0])  # Access first element\n",
    "\n",
    "\n",
    "# C. Dictionaries\n",
    "\n",
    "print(\"\\nC. Dictionaries\")\n",
    "\n",
    "# Creating dictionaries\n",
    "my_dict = {\"name\": \"Great\", \"age\": 27, \"city\": \"Lagos\"}\n",
    "empty_dict = {}\n",
    "\n",
    "# Accessing and modifying\n",
    "print(my_dict[\"name\"])  # Access value by key\n",
    "my_dict[\"age\"] = 31     # Modify value\n",
    "\n",
    "# Dictionary methods\n",
    "print(my_dict.keys())    # Get all keys\n",
    "print(my_dict.values())  # Get all values\n",
    "print(my_dict.items())   # Get all key-value pairs\n",
    "print(my_dict.get(\"job\", \"Not Found\"))  # Get with default value\n"
   ]
  },
  {
   "cell_type": "code",
   "execution_count": 2,
   "id": "82e712d0-472e-439b-afd9-160ec4bd5405",
   "metadata": {},
   "outputs": [
    {
     "name": "stdout",
     "output_type": "stream",
     "text": [
      "('The Great Gatsby', 'F. Scott Fitzgerald', 1925, 'Scribner')\n"
     ]
    }
   ],
   "source": [
    "# Exercise 7: Book information tuple\n",
    "\n",
    "\n",
    "book = (\"The Great Gatsby\", \"F. Scott Fitzgerald\", 1925)\n",
    "# book[1] = \"Ernest Hemingway\"  # This would raise an error\n",
    "updated_book = (\"The Great Gatsby\", \"F. Scott Fitzgerald\", 1925, \"Scribner\")\n",
    "print(updated_book)\n"
   ]
  },
  {
   "cell_type": "code",
   "execution_count": 3,
   "id": "697687a5-8ce2-4ebe-ad14-68b189d26b49",
   "metadata": {},
   "outputs": [
    {
     "name": "stdout",
     "output_type": "stream",
     "text": [
      "Keys: dict_keys(['name', 'age', 'job', 'city'])\n",
      "Values: dict_values(['Melody', 28, 'Software Engineer', 'Owerri'])\n",
      "Items: dict_items([('name', 'Melody'), ('age', 28), ('job', 'Software Engineer'), ('city', 'Owerri')])\n"
     ]
    }
   ],
   "source": [
    "# Exercise 8: Person dictionary\n",
    "person = {\n",
    "    \"name\": \"Melody\",\n",
    "    \"age\": 28,\n",
    "    \"job\": \"Software Engineer\",\n",
    "    \"city\": \"Owerri\"\n",
    "}\n",
    "print(\"Keys:\", person.keys())\n",
    "print(\"Values:\", person.values())\n",
    "print(\"Items:\", person.items())\n"
   ]
  },
  {
   "cell_type": "code",
   "execution_count": 4,
   "id": "0a587991-12e8-41de-82dc-1f88da750e35",
   "metadata": {},
   "outputs": [
    {
     "name": "stdout",
     "output_type": "stream",
     "text": [
      "\n",
      "III. List Comprehensions\n",
      "[3, 6, 9, 12, 15, 18, 21, 24, 27, 30, 33, 36, 39, 42, 45, 48, 51, 54, 57, 60]\n"
     ]
    }
   ],
   "source": [
    "# III. List Comprehensions\n",
    "\n",
    "print(\"\\nIII. List Comprehensions\")\n",
    "\n",
    "# Example\n",
    "squares = [x**2 for x in range(10)]\n",
    "even_squares = [x**2 for x in range(10) if x % 2 == 0]\n",
    "\n",
    "\n",
    "\n",
    "# Exercise 9: First 20 multiples of 3\n",
    "multiples_of_three = [x * 3 for x in range(1, 21)]\n",
    "print(multiples_of_three)\n"
   ]
  },
  {
   "cell_type": "markdown",
   "id": "3a565364-db4d-448f-9d7a-56d98ccf3148",
   "metadata": {},
   "source": [
    "\n",
    "## TASK MANAGER ASSIGNMENT SOLUTION"
   ]
  },
  {
   "cell_type": "code",
   "execution_count": null,
   "id": "6b0d2806-ce1b-4909-ba53-7c6a5e674a43",
   "metadata": {
    "collapsed": true,
    "jupyter": {
     "outputs_hidden": true
    }
   },
   "outputs": [
    {
     "name": "stdout",
     "output_type": "stream",
     "text": [
      "\n",
      "Assignment: To-Do List Manager\n",
      "\n",
      "--- To-Do List Manager ---\n",
      "1. Add Task\n",
      "2. View Tasks\n",
      "3. Mark Task as Complete\n",
      "4. Remove Task\n",
      "5. Quit\n"
     ]
    },
    {
     "name": "stdin",
     "output_type": "stream",
     "text": [
      "Enter your choice (1-5):  1\n",
      "Enter task description:  Complete my portfolio website application and deploy to heroku. \n",
      "Enter due date (YYYY-MM-DD):  2025-01-20\n"
     ]
    },
    {
     "name": "stdout",
     "output_type": "stream",
     "text": [
      "Task added with ID: 1\n",
      "\n",
      "--- To-Do List Manager ---\n",
      "1. Add Task\n",
      "2. View Tasks\n",
      "3. Mark Task as Complete\n",
      "4. Remove Task\n",
      "5. Quit\n"
     ]
    },
    {
     "name": "stdin",
     "output_type": "stream",
     "text": [
      "Enter your choice (1-5):  2\n"
     ]
    },
    {
     "name": "stdout",
     "output_type": "stream",
     "text": [
      "Task ID: 1\n",
      "Description: Complete my portfolio website application and deploy to heroku. \n",
      "Due Date: 2025-01-20\n",
      "Status: Incomplete\n",
      "\n",
      "\n",
      "--- To-Do List Manager ---\n",
      "1. Add Task\n",
      "2. View Tasks\n",
      "3. Mark Task as Complete\n",
      "4. Remove Task\n",
      "5. Quit\n"
     ]
    },
    {
     "name": "stdin",
     "output_type": "stream",
     "text": [
      "Enter your choice (1-5):  1\n",
      "Enter task description:  Complete my AWS certified associate course\n",
      "Enter due date (YYYY-MM-DD):  2025-02-03\n"
     ]
    },
    {
     "name": "stdout",
     "output_type": "stream",
     "text": [
      "Task added with ID: 2\n",
      "\n",
      "--- To-Do List Manager ---\n",
      "1. Add Task\n",
      "2. View Tasks\n",
      "3. Mark Task as Complete\n",
      "4. Remove Task\n",
      "5. Quit\n"
     ]
    },
    {
     "name": "stdin",
     "output_type": "stream",
     "text": [
      "Enter your choice (1-5):  3\n",
      "Enter task ID to mark as complete:  1\n"
     ]
    },
    {
     "name": "stdout",
     "output_type": "stream",
     "text": [
      "Task 1 marked as complete.\n",
      "\n",
      "--- To-Do List Manager ---\n",
      "1. Add Task\n",
      "2. View Tasks\n",
      "3. Mark Task as Complete\n",
      "4. Remove Task\n",
      "5. Quit\n"
     ]
    },
    {
     "name": "stdin",
     "output_type": "stream",
     "text": [
      "Enter your choice (1-5):  2\n"
     ]
    },
    {
     "name": "stdout",
     "output_type": "stream",
     "text": [
      "Task ID: 1\n",
      "Description: Complete my portfolio website application and deploy to heroku. \n",
      "Due Date: 2025-01-20\n",
      "Status: Complete\n",
      "\n",
      "Task ID: 2\n",
      "Description: Complete my AWS certified associate course\n",
      "Due Date: 2025-02-03\n",
      "Status: Incomplete\n",
      "\n",
      "\n",
      "--- To-Do List Manager ---\n",
      "1. Add Task\n",
      "2. View Tasks\n",
      "3. Mark Task as Complete\n",
      "4. Remove Task\n",
      "5. Quit\n"
     ]
    },
    {
     "name": "stdin",
     "output_type": "stream",
     "text": [
      "Enter your choice (1-5):  2\n"
     ]
    },
    {
     "name": "stdout",
     "output_type": "stream",
     "text": [
      "Task ID: 1\n",
      "Description: Complete my portfolio website application and deploy to heroku. \n",
      "Due Date: 2025-01-20\n",
      "Status: Complete\n",
      "\n",
      "Task ID: 2\n",
      "Description: Complete my AWS certified associate course\n",
      "Due Date: 2025-02-03\n",
      "Status: Incomplete\n",
      "\n",
      "\n",
      "--- To-Do List Manager ---\n",
      "1. Add Task\n",
      "2. View Tasks\n",
      "3. Mark Task as Complete\n",
      "4. Remove Task\n",
      "5. Quit\n"
     ]
    },
    {
     "name": "stdin",
     "output_type": "stream",
     "text": [
      "Enter your choice (1-5):  3\n",
      "Enter task ID to mark as complete:  1\n"
     ]
    },
    {
     "name": "stdout",
     "output_type": "stream",
     "text": [
      "Task 1 marked as complete.\n",
      "\n",
      "--- To-Do List Manager ---\n",
      "1. Add Task\n",
      "2. View Tasks\n",
      "3. Mark Task as Complete\n",
      "4. Remove Task\n",
      "5. Quit\n"
     ]
    },
    {
     "name": "stdin",
     "output_type": "stream",
     "text": [
      "Enter your choice (1-5):  2\n"
     ]
    },
    {
     "name": "stdout",
     "output_type": "stream",
     "text": [
      "Task ID: 1\n",
      "Description: Complete my portfolio website application and deploy to heroku. \n",
      "Due Date: 2025-01-20\n",
      "Status: Complete\n",
      "\n",
      "Task ID: 2\n",
      "Description: Complete my AWS certified associate course\n",
      "Due Date: 2025-02-03\n",
      "Status: Incomplete\n",
      "\n",
      "\n",
      "--- To-Do List Manager ---\n",
      "1. Add Task\n",
      "2. View Tasks\n",
      "3. Mark Task as Complete\n",
      "4. Remove Task\n",
      "5. Quit\n"
     ]
    },
    {
     "name": "stdin",
     "output_type": "stream",
     "text": [
      "Enter your choice (1-5):  5\n"
     ]
    },
    {
     "name": "stdout",
     "output_type": "stream",
     "text": [
      "Thank you for using the To-Do List Manager. Goodbye!\n",
      "\n",
      "--- To-Do List Manager ---\n",
      "1. Add Task\n",
      "2. View Tasks\n",
      "3. Mark Task as Complete\n",
      "4. Remove Task\n",
      "5. Quit\n"
     ]
    }
   ],
   "source": [
    "print(\"\\nAssignment: To-Do List Manager\")\n",
    "\n",
    "tasks = {}\n",
    "task_id_counter = 1\n",
    "\n",
    "def add_task(description, due_date):\n",
    "    global task_id_counter\n",
    "    tasks[task_id_counter] = {\n",
    "        \"description\": description,\n",
    "        \"due_date\": due_date,\n",
    "        \"status\": \"Incomplete\"\n",
    "    }\n",
    "    print(f\"Task added with ID: {task_id_counter}\")\n",
    "    task_id_counter += 1\n",
    "\n",
    "def view_tasks():\n",
    "    if not tasks:\n",
    "        print(\"No tasks found.\")\n",
    "    else:\n",
    "        for task_id, task in tasks.items():\n",
    "            print(f\"Task ID: {task_id}\")\n",
    "            print(f\"Description: {task['description']}\")\n",
    "            print(f\"Due Date: {task['due_date']}\")\n",
    "            print(f\"Status: {task['status']}\")\n",
    "            print()\n",
    "def mark_complete(task_id):\n",
    "    if task_id in tasks:\n",
    "        tasks[task_id][\"status\"] = \"Complete\"\n",
    "        print(f\"Task {task_id} marked as complete.\")\n",
    "    else:\n",
    "        print(\"Task not found.\")\n",
    "\n",
    "def remove_task(task_id):\n",
    "    if task_id in tasks:\n",
    "        del tasks[task_id]\n",
    "        print(f\"Task {task_id} removed.\")\n",
    "    else:\n",
    "        print(\"Task not found.\")\n",
    "\n",
    "def quit_program():\n",
    "    print(\"Thank you for using the To-Do List Manager. Goodbye!\")\n",
    "    exit()\n",
    "\n",
    "# Main program loop\n",
    "while True:\n",
    "    print(\"\\n--- To-Do List Manager ---\")\n",
    "    print(\"1. Add Task\")\n",
    "    print(\"2. View Tasks\")\n",
    "    print(\"3. Mark Task as Complete\")\n",
    "    print(\"4. Remove Task\")\n",
    "    print(\"5. Quit\")\n",
    "    \n",
    "    choice = input(\"Enter your choice (1-5): \")\n",
    "    \n",
    "    if choice == \"1\":\n",
    "        description = input(\"Enter task description: \")\n",
    "        due_date = input(\"Enter due date (YYYY-MM-DD): \")\n",
    "        add_task(description, due_date)\n",
    "    elif choice == \"2\":\n",
    "        view_tasks()\n",
    "    elif choice == \"3\":\n",
    "        task_id = int(input(\"Enter task ID to mark as complete: \"))\n",
    "        mark_complete(task_id)\n",
    "    elif choice == \"4\":\n",
    "        task_id = int(input(\"Enter task ID to remove: \"))\n",
    "        remove_task(task_id)\n",
    "    elif choice == \"5\":\n",
    "        quit_program()\n",
    "    else:\n",
    "        print(\"Invalid choice. Please try again.\")\n",
    "        "
   ]
  },
  {
   "cell_type": "code",
   "execution_count": null,
   "id": "416efe97-1b5f-4563-963e-a4f4bb102da3",
   "metadata": {},
   "outputs": [],
   "source": [
    "## GUI INTEGRATION"
   ]
  },
  {
   "cell_type": "code",
   "execution_count": null,
   "id": "673294c0-705e-45f4-8234-76e611eac16d",
   "metadata": {},
   "outputs": [],
   "source": [
    "!pip install PyQt6\n",
    "\n",
    "# The PyQt6 should only be used on system not mobile phone.\n",
    "# The mobile GUI is Implemented using kivy3 and available under /day_02/challenge.py"
   ]
  },
  {
   "cell_type": "code",
   "execution_count": null,
   "id": "b718382d-67aa-40d7-9b01-1375dc5e3d1b",
   "metadata": {},
   "outputs": [],
   "source": [
    "import sys\n",
    "from PyQt6.QtWidgets import (QApplication, QMainWindow, QWidget, QVBoxLayout, QHBoxLayout, \n",
    "                             QLineEdit, QPushButton, QLabel, QListWidget, QMessageBox, \n",
    "                             QDateEdit, QListWidgetItem)\n",
    "from PyQt6.QtCore import Qt, QDate\n",
    "from PyQt6.QtGui import QFont, QColor\n",
    "\n",
    "class Task:\n",
    "    def __init__(self, description, due_date):\n",
    "        self.description = description\n",
    "        self.due_date = due_date\n",
    "        self.status = \"Incomplete\"\n",
    "\n",
    "class ToDoListManager(QMainWindow):\n",
    "    def __init__(self):\n",
    "        super().__init__()\n",
    "        self.setWindowTitle(\"To-Do List Manager\")\n",
    "        self.setGeometry(100, 100, 600, 400)\n",
    "        self.setStyleSheet(\"\"\"\n",
    "            QMainWindow {\n",
    "                background-color: #f0f0f0;\n",
    "            }\n",
    "            QLabel {\n",
    "                font-size: 14px;\n",
    "                color: #333;\n",
    "            }\n",
    "            QLineEdit, QDateEdit {\n",
    "                padding: 5px;\n",
    "                border: 1px solid #ccc;\n",
    "                border-radius: 3px;\n",
    "            }\n",
    "            QPushButton {\n",
    "                background-color: #4CAF50;\n",
    "                color: white;\n",
    "                padding: 8px 16px;\n",
    "                border: none;\n",
    "                border-radius: 4px;\n",
    "            }\n",
    "            QPushButton:hover {\n",
    "                background-color: #45a049;\n",
    "            }\n",
    "            QListWidget {\n",
    "                border: 1px solid #ccc;\n",
    "                border-radius: 3px;\n",
    "            }\n",
    "        \"\"\")\n",
    "\n",
    "        self.tasks = []\n",
    "        self.init_ui()\n",
    "\n",
    "    def init_ui(self):\n",
    "        central_widget = QWidget()\n",
    "        self.setCentralWidget(central_widget)\n",
    "        layout = QVBoxLayout()\n",
    "\n",
    "        # Input section\n",
    "        input_layout = QHBoxLayout()\n",
    "        self.description_input = QLineEdit()\n",
    "        self.description_input.setPlaceholderText(\"Enter task description\")\n",
    "        self.due_date_input = QDateEdit()\n",
    "        self.due_date_input.setDate(QDate.currentDate())\n",
    "        self.add_button = QPushButton(\"Add Task\")\n",
    "        self.add_button.clicked.connect(self.add_task)\n",
    "\n",
    "        input_layout.addWidget(self.description_input)\n",
    "        input_layout.addWidget(self.due_date_input)\n",
    "        input_layout.addWidget(self.add_button)\n",
    "\n",
    "        # Task list\n",
    "        self.task_list = QListWidget()\n",
    "        self.task_list.setSelectionMode(QListWidget.SelectionMode.SingleSelection)\n",
    "\n",
    "        # Action buttons\n",
    "        action_layout = QHBoxLayout()\n",
    "        self.complete_button = QPushButton(\"Mark Complete\")\n",
    "        self.complete_button.clicked.connect(self.mark_complete)\n",
    "        self.remove_button = QPushButton(\"Remove Task\")\n",
    "        self.remove_button.clicked.connect(self.remove_task)\n",
    "\n",
    "        action_layout.addWidget(self.complete_button)\n",
    "        action_layout.addWidget(self.remove_button)\n",
    "\n",
    "        layout.addLayout(input_layout)\n",
    "        layout.addWidget(self.task_list)\n",
    "        layout.addLayout(action_layout)\n",
    "\n",
    "        central_widget.setLayout(layout)\n",
    "\n",
    "    def add_task(self):\n",
    "        description = self.description_input.text()\n",
    "        due_date = self.due_date_input.date().toString(Qt.DateFormat.ISODate)\n",
    "        \n",
    "        if description:\n",
    "            task = Task(description, due_date)\n",
    "            self.tasks.append(task)\n",
    "            self.update_task_list()\n",
    "            self.description_input.clear()\n",
    "        else:\n",
    "            QMessageBox.warning(self, \"Input Error\", \"Please enter a task description.\")\n",
    "\n",
    "    def update_task_list(self):\n",
    "        self.task_list.clear()\n",
    "        for task in self.tasks:\n",
    "            item = QListWidgetItem(f\"{task.description} (Due: {task.due_date}) - {task.status}\")\n",
    "            if task.status == \"Complete\":\n",
    "                item.setForeground(QColor(\"green\"))\n",
    "            self.task_list.addItem(item)\n",
    "\n",
    "    def mark_complete(self):\n",
    "        current_item = self.task_list.currentItem()\n",
    "        if current_item:\n",
    "            index = self.task_list.row(current_item)\n",
    "            self.tasks[index].status = \"Complete\"\n",
    "            self.update_task_list()\n",
    "        else:\n",
    "            QMessageBox.warning(self, \"Selection Error\", \"Please select a task to mark as complete.\")\n",
    "\n",
    "    def remove_task(self):\n",
    "        current_item = self.task_list.currentItem()\n",
    "        if current_item:\n",
    "            index = self.task_list.row(current_item)\n",
    "            del self.tasks[index]\n",
    "            self.update_task_list()\n",
    "        else:\n",
    "            QMessageBox.warning(self, \"Selection Error\", \"Please select a task to remove.\")\n",
    "\n",
    "if __name__ == \"__main__\":\n",
    "    app = QApplication(sys.argv)\n",
    "    window = ToDoListManager()\n",
    "    window.show()\n",
    "    sys.exit(app.exec())\n",
    "\t"
   ]
  }
 ],
 "metadata": {
  "kernelspec": {
   "display_name": "Python 3 (ipykernel)",
   "language": "python",
   "name": "python3"
  },
  "language_info": {
   "codemirror_mode": {
    "name": "ipython",
    "version": 3
   },
   "file_extension": ".py",
   "mimetype": "text/x-python",
   "name": "python",
   "nbconvert_exporter": "python",
   "pygments_lexer": "ipython3",
   "version": "3.11.4"
  }
 },
 "nbformat": 4,
 "nbformat_minor": 5
}
