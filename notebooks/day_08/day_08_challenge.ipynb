{
 "cells": [
  {
   "cell_type": "markdown",
   "id": "06370690",
   "metadata": {},
   "source": [
    "# Day 8 Challenge\n",
    "\n",
    "## Topics:\n",
    "\n",
    "## Exercises:\n",
    "\n",
    "## Notes:"
   ]
  }
 ],
 "metadata": {},
 "nbformat": 4,
 "nbformat_minor": 5
}
