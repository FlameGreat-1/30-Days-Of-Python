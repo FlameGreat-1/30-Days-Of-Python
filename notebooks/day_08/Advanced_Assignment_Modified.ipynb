{
 "cells": [
  {
   "cell_type": "markdown",
   "metadata": {},
   "source": [
    "# Advanced Assignment: Data Visualization Dashboard\n",
    "\n",
    "In this assignment, we'll create a comprehensive data visualization dashboard using Matplotlib to analyze and present insights from the World Happiness Report dataset."
   ]
  },
  {
   "cell_type": "code",
   "execution_count": 1,
   "metadata": {},
   "outputs": [],
   "source": [
    "import pandas as pd\n",
    "import matplotlib.pyplot as plt\n",
    "import numpy as np\n",
    "from matplotlib.gridspec import GridSpec\n",
    "from matplotlib.colors import LinearSegmentedColormap\n",
    "\n",
    "%matplotlib inline\n",
    "plt.style.use('default')"
   ]
  },
  {
   "cell_type": "markdown",
   "metadata": {},
   "source": [
    "## 1. Data Preparation"
   ]
  },
  {
   "cell_type": "code",
   "execution_count": 2,
   "metadata": {},
   "outputs": [
    {
     "name": "stdout",
     "output_type": "stream",
     "text": [
      "Columns in the dataset:\n",
      "Index(['Country', 'Happiness Rank', 'Happiness Score', 'Economy', 'Family',\n",
      "       'Health', 'Freedom', 'Generosity', 'Corruption', 'Dystopia',\n",
      "       'Job Satisfaction', 'Region'],\n",
      "      dtype='object')\n",
      "\n",
      "First few rows of the dataset:\n",
      "       Country  Happiness Rank  Happiness Score   Economy    Family    Health  \\\n",
      "0       Norway               1            7.537  1.616463  1.533524  0.796667   \n",
      "1      Denmark               2            7.522  1.482383  1.551122  0.792566   \n",
      "2      Iceland               3            7.504  1.480633  1.610574  0.833552   \n",
      "3  Switzerland               4            7.494  1.564980  1.516912  0.858131   \n",
      "4      Finland               5            7.469  1.443572  1.540247  0.809158   \n",
      "\n",
      "    Freedom  Generosity  Corruption  Dystopia  Job Satisfaction  \\\n",
      "0  0.635423    0.362012    0.315964  2.277027              94.6   \n",
      "1  0.626007    0.355280    0.400770  2.313707              93.5   \n",
      "2  0.627163    0.475540    0.153527  2.322715              94.5   \n",
      "3  0.620071    0.290549    0.367007  2.276716              93.7   \n",
      "4  0.617951    0.245483    0.382612  2.430182              91.2   \n",
      "\n",
      "           Region  \n",
      "0  Western Europe  \n",
      "1  Western Europe  \n",
      "2  Western Europe  \n",
      "3  Western Europe  \n",
      "4  Western Europe  \n",
      "\n",
      "Dataset info:\n",
      "<class 'pandas.core.frame.DataFrame'>\n",
      "RangeIndex: 153 entries, 0 to 152\n",
      "Data columns (total 12 columns):\n",
      " #   Column            Non-Null Count  Dtype  \n",
      "---  ------            --------------  -----  \n",
      " 0   Country           153 non-null    object \n",
      " 1   Happiness Rank    153 non-null    int64  \n",
      " 2   Happiness Score   153 non-null    float64\n",
      " 3   Economy           153 non-null    float64\n",
      " 4   Family            153 non-null    float64\n",
      " 5   Health            153 non-null    float64\n",
      " 6   Freedom           153 non-null    float64\n",
      " 7   Generosity        153 non-null    float64\n",
      " 8   Corruption        153 non-null    float64\n",
      " 9   Dystopia          153 non-null    float64\n",
      " 10  Job Satisfaction  151 non-null    float64\n",
      " 11  Region            153 non-null    object \n",
      "dtypes: float64(9), int64(1), object(2)\n",
      "memory usage: 13.2+ KB\n",
      "None\n"
     ]
    }
   ],
   "source": [
    "# Load the data\n",
    "df = pd.read_csv('World-Happiness-Report.csv')\n",
    "\n",
    "# Display column names\n",
    "print(\"Columns in the dataset:\")\n",
    "print(df.columns)\n",
    "\n",
    "# Display the first few rows\n",
    "print(\"\\nFirst few rows of the dataset:\")\n",
    "print(df.head())\n",
    "\n",
    "# Data cleaning and preprocessing\n",
    "# (We'll adjust this part based on the actual structure of your data)\n",
    "\n",
    "# Display the first few rows and data info\n",
    "print(\"\\nDataset info:\")\n",
    "print(df.info())\n"
   ]
  },
  {
   "cell_type": "code",
   "execution_count": 3,
   "metadata": {},
   "outputs": [
    {
     "name": "stdout",
     "output_type": "stream",
     "text": [
      "       Country  Happiness Rank  Happiness Score   Economy    Family    Health  \\\n",
      "0       Norway               1            7.537  1.616463  1.533524  0.796667   \n",
      "1      Denmark               2            7.522  1.482383  1.551122  0.792566   \n",
      "2      Iceland               3            7.504  1.480633  1.610574  0.833552   \n",
      "3  Switzerland               4            7.494  1.564980  1.516912  0.858131   \n",
      "4      Finland               5            7.469  1.443572  1.540247  0.809158   \n",
      "\n",
      "    Freedom  Generosity  Corruption  Dystopia  Job Satisfaction  \\\n",
      "0  0.635423    0.362012    0.315964  2.277027              94.6   \n",
      "1  0.626007    0.355280    0.400770  2.313707              93.5   \n",
      "2  0.627163    0.475540    0.153527  2.322715              94.5   \n",
      "3  0.620071    0.290549    0.367007  2.276716              93.7   \n",
      "4  0.617951    0.245483    0.382612  2.430182              91.2   \n",
      "\n",
      "           Region  \n",
      "0  Western Europe  \n",
      "1  Western Europe  \n",
      "2  Western Europe  \n",
      "3  Western Europe  \n",
      "4  Western Europe  \n",
      "<class 'pandas.core.frame.DataFrame'>\n",
      "RangeIndex: 153 entries, 0 to 152\n",
      "Data columns (total 12 columns):\n",
      " #   Column            Non-Null Count  Dtype  \n",
      "---  ------            --------------  -----  \n",
      " 0   Country           153 non-null    object \n",
      " 1   Happiness Rank    153 non-null    int64  \n",
      " 2   Happiness Score   153 non-null    float64\n",
      " 3   Economy           153 non-null    float64\n",
      " 4   Family            153 non-null    float64\n",
      " 5   Health            153 non-null    float64\n",
      " 6   Freedom           153 non-null    float64\n",
      " 7   Generosity        153 non-null    float64\n",
      " 8   Corruption        153 non-null    float64\n",
      " 9   Dystopia          153 non-null    float64\n",
      " 10  Job Satisfaction  151 non-null    float64\n",
      " 11  Region            153 non-null    object \n",
      "dtypes: float64(9), int64(1), object(2)\n",
      "memory usage: 13.2+ KB\n",
      "None\n"
     ]
    }
   ],
   "source": [
    "# Load the data\n",
    "df = pd.read_csv('World-Happiness-Report.csv')\n",
    "\n",
    "# Display the first few rows and data info\n",
    "print(df.head())\n",
    "print(df.info())"
   ]
  },
  {
   "cell_type": "markdown",
   "metadata": {},
   "source": [
    "## 2. Create the Dashboard"
   ]
  },
  {
   "cell_type": "code",
   "execution_count": null,
   "metadata": {},
   "outputs": [],
   "source": [
    "# Set up the dashboard layout\n",
    "fig = plt.figure(figsize=(20, 30))\n",
    "gs = GridSpec(3, 2, figure=fig)\n",
    "\n",
    "# Color scheme\n",
    "colors = plt.cm.viridis(np.linspace(0, 1, 10))\n",
    "\n",
    "# a. Bar Chart: Top 10 Happiest Countries\n",
    "ax1 = fig.add_subplot(gs[0, 0])\n",
    "top_10 = df.nlargest(10, 'Happiness Score')\n",
    "bars = ax1.bar(top_10['Country'], top_10['Happiness Score'], color=colors)\n",
    "ax1.set_title('Top 10 Happiest Countries', fontsize=16)\n",
    "ax1.set_xlabel('Country', fontsize=12)\n",
    "ax1.set_ylabel('Happiness Score', fontsize=12)\n",
    "ax1.tick_params(axis='x', rotation=45)\n",
    "for bar in bars:\n",
    "    height = bar.get_height()\n",
    "    ax1.text(bar.get_x() + bar.get_width()/2., height, f'{height:.2f}', \n",
    "             ha='center', va='bottom')\n",
    "\n",
    "# b. Scatter Plot: Economy vs. Happiness Score\n",
    "ax2 = fig.add_subplot(gs[0, 1])\n",
    "scatter = ax2.scatter(df['Economy'], df['Happiness Score'], c=df['Happiness Score'], cmap='viridis', alpha=0.6)\n",
    "ax2.set_title('Economy vs. Happiness Score', fontsize=16)\n",
    "ax2.set_xlabel('Economy', fontsize=12)\n",
    "ax2.set_ylabel('Happiness Score', fontsize=12)\n",
    "plt.colorbar(scatter, ax=ax2, label='Happiness Score')\n",
    "\n",
    "# c. Box Plot: Distribution of Happiness Scores Across Regions\n",
    "ax3 = fig.add_subplot(gs[1, 0])\n",
    "df.boxplot(column=['Happiness Score'], by='Region', ax=ax3)\n",
    "ax3.set_title('Distribution of Happiness Scores Across Regions', fontsize=16)\n",
    "ax3.set_xlabel('Region', fontsize=12)\n",
    "ax3.set_ylabel('Happiness Score', fontsize=12)\n",
    "ax3.tick_params(axis='x', rotation=90)\n",
    "\n",
    "# d. Heatmap: Correlation Between Factors\n",
    "ax4 = fig.add_subplot(gs[1, 1])\n",
    "factors = ['Happiness Score', 'Economy', 'Family', 'Health', 'Freedom', 'Generosity', 'Corruption']\n",
    "corr = df[factors].corr()\n",
    "im = ax4.imshow(corr, cmap='coolwarm')\n",
    "ax4.set_xticks(np.arange(len(factors)))\n",
    "ax4.set_yticks(np.arange(len(factors)))\n",
    "ax4.set_xticklabels(factors, rotation=45, ha='right')\n",
    "ax4.set_yticklabels(factors)\n",
    "for i in range(len(factors)):\n",
    "    for j in range(len(factors)):\n",
    "        text = ax4.text(j, i, f\"{corr.iloc[i, j]:.2f}\",\n",
    "                        ha=\"center\", va=\"center\", color=\"black\")\n",
    "ax4.set_title('Correlation Between Factors', fontsize=16)\n",
    "plt.colorbar(im, ax=ax4)\n",
    "\n",
    "# e. Pie Chart: Factor Importance for Happiest Country\n",
    "ax5 = fig.add_subplot(gs[2, 0])\n",
    "happiest_country = df.loc[df['Happiness Score'].idxmax()]\n",
    "factors = ['Economy', 'Family', 'Health', 'Freedom', 'Generosity', 'Corruption']\n",
    "values = happiest_country[factors]\n",
    "ax5.pie(values, labels=factors, autopct='%1.1f%%', startangle=90, colors=colors)\n",
    "ax5.set_title(f'Factor Importance for {happiest_country[\"Country\"]}', fontsize=16)\n",
    "\n",
    "# f. Scatter Plot: Freedom vs. Happiness Score\n",
    "ax6 = fig.add_subplot(gs[2, 1])\n",
    "scatter = ax6.scatter(df['Freedom'], df['Happiness Score'], c=df['Happiness Score'], cmap='viridis', alpha=0.6)\n",
    "ax6.set_title('Freedom vs. Happiness Score', fontsize=16)\n",
    "ax6.set_xlabel('Freedom', fontsize=12)\n",
    "ax6.set_ylabel('Happiness Score', fontsize=12)\n",
    "plt.colorbar(scatter, ax=ax6, label='Happiness Score')\n",
    "\n",
    "plt.tight_layout()\n",
    "plt.savefig('world_happiness_dashboard.png', dpi=300, bbox_inches='tight')\n",
    "plt.show()"
   ]
  },
  {
   "cell_type": "markdown",
   "metadata": {},
   "source": [
    "## 3. Interactivity"
   ]
  },
  {
   "cell_type": "code",
   "execution_count": null,
   "metadata": {},
   "outputs": [],
   "source": [
    "def on_click(event):\n",
    "    if event.inaxes == ax1:\n",
    "        for i, bar in enumerate(bars):\n",
    "            if bar.contains(event)[0]:\n",
    "                country = top_10.iloc[i]['Country']\n",
    "                score = top_10.iloc[i]['Happiness Score']\n",
    "                print(f\"{country}: Happiness Score = {score:.2f}\")\n",
    "\n",
    "fig.canvas.mpl_connect('button_press_event', on_click)\n",
    "\n",
    "# Note: This interactivity will only work in an interactive environment like Jupyter Notebook"
   ]
  },
  {
   "cell_type": "markdown",
   "metadata": {},
   "source": [
    "## 4. Bonus Challenge"
   ]
  },
  {
   "cell_type": "code",
   "execution_count": null,
   "metadata": {},
   "outputs": [],
   "source": [
    "# Implement a custom colormap for Happiness Score distribution\n",
    "happiness_cmap = LinearSegmentedColormap.from_list(\"happiness\", ['#FF9999', '#FFFF99', '#99FF99'], N=100)\n",
    "plt.figure(figsize=(15, 10))\n",
    "plt.imshow(df.sort_values('Happiness Score')[['Country', 'Happiness Score']].set_index('Country'), \n",
    "           cmap=happiness_cmap, aspect='auto')\n",
    "plt.colorbar(label='Happiness Score')\n",
    "plt.title('Happiness Scores by Country')\n",
    "plt.xlabel('Happiness Score Rank')\n",
    "plt.ylabel('Country')\n",
    "plt.show()"
   ]
  },
  {
   "cell_type": "markdown",
   "metadata": {},
   "source": [
    "## 5. Conclusion\n",
    "\n",
    "This dashboard provides a comprehensive visualization of the World Happiness Report data. It includes various types of plots to showcase different aspects of the data, including comparisons between countries, correlations between factors, and the distribution of happiness scores across regions. The interactive elements and bonus visualization offer additional insights into the complex relationships within the dataset."
   ]
  }
 ],
 "metadata": {
  "kernelspec": {
   "display_name": "Python 3 (ipykernel)",
   "language": "python",
   "name": "python3"
  },
  "language_info": {
   "codemirror_mode": {
    "name": "ipython",
    "version": 3
   },
   "file_extension": ".py",
   "mimetype": "text/x-python",
   "name": "python",
   "nbconvert_exporter": "python",
   "pygments_lexer": "ipython3",
   "version": "3.11.4"
  }
 },
 "nbformat": 4,
 "nbformat_minor": 4
}
