{
 "cells": [
  {
   "cell_type": "markdown",
   "metadata": {},
   "source": [
    "# Advanced Assignment: Data Visualization Dashboard\n",
    "\n",
    "In this assignment, we'll create a comprehensive data visualization dashboard using Matplotlib to analyze and present insights from the World Happiness Report dataset."
   ]
  },
  {
   "cell_type": "code",
   "execution_count": null,
   "metadata": {},
   "outputs": [],
   "source": [
    "import pandas as pd\n",
    "import matplotlib.pyplot as plt\n",
    "import numpy as np\n",
    "import seaborn as sns\n",
    "from matplotlib.gridspec import GridSpec\n",
    "from matplotlib.colors import LinearSegmentedColormap\n",
    "from matplotlib.animation import FuncAnimation\n",
    "\n",
    "%matplotlib inline\n",
    "plt.style.use('seaborn')"
   ]
  },
  {
   "cell_type": "markdown",
   "metadata": {},
   "source": [
    "## 1. Data Preparation"
   ]
  },
  {
   "cell_type": "code",
   "execution_count": null,
   "metadata": {},
   "outputs": [],
   "source": [
    "# Load the data\n",
    "# Note: You need to download the World Happiness Report dataset and adjust the file path accordingly\n",
    "df = pd.read_csv('world_happiness_report.csv')\n",
    "\n",
    "# Data cleaning and preprocessing\n",
    "df['Year'] = pd.to_datetime(df['Year'], format='%Y')\n",
    "df = df.sort_values('Year')\n",
    "\n",
    "# Display the first few rows and data info\n",
    "print(df.head())\n",
    "print(df.info())"
   ]
  },
  {
   "cell_type": "markdown",
   "metadata": {},
   "source": [
    "## 2. Create the Dashboard"
   ]
  },
  {
   "cell_type": "code",
   "execution_count": null,
   "metadata": {},
   "outputs": [],
   "source": [
    "# Set up the dashboard layout\n",
    "fig = plt.figure(figsize=(20, 30))\n",
    "gs = GridSpec(3, 2, figure=fig)\n",
    "\n",
    "# Color scheme\n",
    "colors = plt.cm.viridis(np.linspace(0, 1, 10))\n",
    "\n",
    "# a. Line Plot\n",
    "ax1 = fig.add_subplot(gs[0, 0])\n",
    "yearly_avg = df.groupby('Year')['Life Ladder'].mean()\n",
    "yearly_std = df.groupby('Year')['Life Ladder'].std()\n",
    "\n",
    "ax1.errorbar(yearly_avg.index, yearly_avg.values, yerr=yearly_std.values, color=colors[0], ecolor=colors[1], capsize=5)\n",
    "ax1.set_title('Average Happiness Score Over Years', fontsize=16)\n",
    "ax1.set_xlabel('Year', fontsize=12)\n",
    "ax1.set_ylabel('Average Happiness Score', fontsize=12)\n",
    "\n",
    "# b. Bar Chart\n",
    "ax2 = fig.add_subplot(gs[0, 1])\n",
    "latest_year = df['Year'].max()\n",
    "top_10 = df[df['Year'] == latest_year].nlargest(10, 'Life Ladder')\n",
    "\n",
    "cmap = LinearSegmentedColormap.from_list(\"\", [\"#FF9999\",\"#99FF99\"])\n",
    "colors = cmap(np.linspace(0, 1, len(top_10)))\n",
    "\n",
    "bars = ax2.bar(top_10['Country name'], top_10['Life Ladder'], color=colors)\n",
    "ax2.set_title(f'Top 10 Happiest Countries in {latest_year.year}', fontsize=16)\n",
    "ax2.set_xlabel('Country', fontsize=12)\n",
    "ax2.set_ylabel('Happiness Score', fontsize=12)\n",
    "ax2.tick_params(axis='x', rotation=45)\n",
    "\n",
    "for bar in bars:\n",
    "    height = bar.get_height()\n",
    "    ax2.text(bar.get_x() + bar.get_width()/2., height, f'{height:.2f}', \n",
    "             ha='center', va='bottom')\n",
    "\n",
    "# c. Scatter Plot\n",
    "ax3 = fig.add_subplot(gs[1, 0])\n",
    "latest_data = df[df['Year'] == latest_year]\n",
    "\n",
    "for continent in latest_data['Regional indicator'].unique():\n",
    "    continent_data = latest_data[latest_data['Regional indicator'] == continent]\n",
    "    ax3.scatter(continent_data['Log GDP per capita'], continent_data['Life Ladder'], \n",
    "                label=continent, alpha=0.6)\n",
    "\n",
    "ax3.set_title('GDP per capita vs. Happiness Score', fontsize=16)\n",
    "ax3.set_xlabel('Log GDP per capita', fontsize=12)\n",
    "ax3.set_ylabel('Happiness Score', fontsize=12)\n",
    "ax3.legend(fontsize=8, loc='lower right')\n",
    "\n",
    "# Add best-fit line\n",
    "z = np.polyfit(latest_data['Log GDP per capita'], latest_data['Life Ladder'], 1)\n",
    "p = np.poly1d(z)\n",
    "ax3.plot(latest_data['Log GDP per capita'], p(latest_data['Log GDP per capita']), \"r--\", alpha=0.8)\n",
    "\n",
    "# d. Box Plot\n",
    "ax4 = fig.add_subplot(gs[1, 1])\n",
    "sns.boxplot(x='Regional indicator', y='Life Ladder', data=df, ax=ax4)\n",
    "ax4.set_title('Distribution of Happiness Scores Across Continents', fontsize=16)\n",
    "ax4.set_xlabel('Continent', fontsize=12)\n",
    "ax4.set_ylabel('Happiness Score', fontsize=12)\n",
    "ax4.tick_params(axis='x', rotation=90)\n",
    "\n",
    "# e. Heatmap\n",
    "ax5 = fig.add_subplot(gs[2, 0])\n",
    "factors = ['Life Ladder', 'Log GDP per capita', 'Social support', 'Healthy life expectancy at birth',\n",
    "           'Freedom to make life choices', 'Generosity', 'Perceptions of corruption']\n",
    "corr = df[factors].corr()\n",
    "\n",
    "sns.heatmap(corr, annot=True, cmap='coolwarm', ax=ax5)\n",
    "ax5.set_title('Correlation Between Factors', fontsize=16)\n",
    "\n",
    "# f. Pie Chart\n",
    "ax6 = fig.add_subplot(gs[2, 1])\n",
    "top_country = top_10.iloc[0]\n",
    "factors = ['Log GDP per capita', 'Social support', 'Healthy life expectancy at birth',\n",
    "           'Freedom to make life choices', 'Generosity', 'Perceptions of corruption']\n",
    "values = top_country[factors]\n",
    "\n",
    "ax6.pie(values, labels=factors, autopct='%1.1f%%', startangle=90, colors=colors)\n",
    "ax6.set_title(f'Factor Importance for {top_country[\"Country name\"]}', fontsize=16)\n",
    "\n",
    "plt.tight_layout()\n",
    "plt.savefig('world_happiness_dashboard.png', dpi=300, bbox_inches='tight')\n",
    "plt.show()"
   ]
  },
  {
   "cell_type": "markdown",
   "metadata": {},
   "source": [
    "## 3. Interactivity"
   ]
  },
  {
   "cell_type": "code",
   "execution_count": null,
   "metadata": {},
   "outputs": [],
   "source": [
    "def on_click(event):\n",
    "    if event.inaxes == ax2:\n",
    "        for i, bar in enumerate(bars):\n",
    "            if bar.contains(event)[0]:\n",
    "                country = top_10.iloc[i]['Country name']\n",
    "                score = top_10.iloc[i]['Life Ladder']\n",
    "                print(f\"{country}: Happiness Score = {score:.2f}\")\n",
    "\n",
    "fig.canvas.mpl_connect('button_press_event', on_click)\n",
    "\n",
    "# Note: This interactivity will only work in an interactive environment like Jupyter Notebook"
   ]
  },
  {
   "cell_type": "markdown",
   "metadata": {},
   "source": [
    "## 4. Bonus Challenges"
   ]
  },
  {
   "cell_type": "markdown",
   "metadata": {},
   "source": [
    "### 4.1 Add annotations to highlight key insights"
   ]
  },
  {
   "cell_type": "code",
   "execution_count": null,
   "metadata": {},
   "outputs": [],
   "source": [
    "ax1.annotate('Global financial crisis', xy=(pd.to_datetime('2008-01-01'), 5.4),\n",
    "             xytext=(pd.to_datetime('2006-01-01'), 5.2),\n",
    "             arrowprops=dict(facecolor='black', shrink=0.05))\n",
    "\n",
    "plt.show()"
   ]
  },
  {
   "cell_type": "markdown",
   "metadata": {},
   "source": [
    "### 4.2 Create an animated plot"
   ]
  },
  {
   "cell_type": "code",
   "execution_count": null,
   "metadata": {},
   "outputs": [],
   "source": [
    "def animate(year):\n",
    "    data = df[df['Year'] == pd.to_datetime(year, format='%Y')]\n",
    "    ax.clear()\n",
    "    for country in ['United States', 'China', 'India', 'Japan', 'Germany']:\n",
    "        country_data = data[data['Country name'] == country]\n",
    "        ax.scatter(country_data['Log GDP per capita'], country_data['Life Ladder'], label=country)\n",
    "    ax.set_xlim(6, 12)\n",
    "    ax.set_ylim(2, 8)\n",
    "    ax.set_title(f'Happiness vs GDP ({year})')\n",
    "    ax.set_xlabel('Log GDP per capita')\n",
    "    ax.set_ylabel('Happiness Score')\n",
    "    ax.legend()\n",
    "\n",
    "fig, ax = plt.subplots(figsize=(10, 6))\n",
    "ani = FuncAnimation(fig, animate, frames=range(2005, 2021), interval=500, repeat=False)\n",
    "plt.show()"
   ]
  },
  {
   "cell_type": "markdown",
   "metadata": {},
   "source": [
    "### 4.3 Implement a custom colormap"
   ]
  },
  {
   "cell_type": "code",
   "execution_count": null,
   "metadata": {},
   "outputs": [],
   "source": [
    "happiness_cmap = LinearSegmentedColormap.from_list(\"happiness\", ['#FF9999', '#FFFF99', '#99FF99'], N=100)\n",
    "plt.figure(figsize=(15, 10))\n",
    "plt.imshow(df.pivot(index='Country name', columns='Year', values='Life Ladder'), \n",
    "           cmap=happiness_cmap, aspect='auto')\n",
    "plt.colorbar(label='Happiness Score')\n",
    "plt.title('Happiness Scores Over Time by Country')\n",
    "plt.xlabel('Year')\n",
    "plt.ylabel('Country')\n",
    "plt.show()"
   ]
  },
  {
   "cell_type": "markdown",
   "metadata": {},
   "source": [
    "## 5. Conclusion\n",
    "\n",
    "This dashboard provides a comprehensive visualization of the World Happiness Report data. It includes various types of plots to showcase different aspects of the data, from trends over time to correlations between factors. The interactive elements and bonus visualizations offer additional insights into the complex relationships within the dataset."
   ]
  }
 ],
 "metadata": {
  "kernelspec": {
   "display_name": "Python 3",
   "language": "python",
   "name": "python3"
  },
  "language_info": {
   "codemirror_mode": {
    "name": "ipython",
    "version": 3
   },
   "file_extension": ".py",
   "mimetype": "text/x-python",
   "name": "python",
   "nbconvert_exporter": "python",
   "pygments_lexer": "ipython3",
   "version": "3.8.8"
  }
 },
 "nbformat": 4,
 "nbformat_minor": 4
}
