{
 "cells": [
  {
   "cell_type": "markdown",
   "metadata": {},
   "source": [
    "# Matplotlib Practical Exercises\n",
    "\n",
    "This notebook contains the practical exercises for the Matplotlib data visualization lesson, along with their solutions."
   ]
  },
  {
   "cell_type": "code",
   "execution_count": null,
   "metadata": {},
   "outputs": [],
   "source": [
    "import matplotlib.pyplot as plt\n",
    "import numpy as np\n",
    "\n",
    "%matplotlib inline"
   ]
  },
  {
   "cell_type": "markdown",
   "metadata": {},
   "source": [
    "## Exercise 1: Basic Line Plot\n",
    "\n",
    "Create a line plot of the function y = x^2 for x values from -10 to 10."
   ]
  },
  {
   "cell_type": "code",
   "execution_count": null,
   "metadata": {},
   "outputs": [],
   "source": [
    "# Solution\n",
    "x = np.linspace(-10, 10, 100)\n",
    "y = x**2\n",
    "\n",
    "plt.figure(figsize=(10, 6))\n",
    "plt.plot(x, y)\n",
    "plt.title('y = x^2')\n",
    "plt.xlabel('x')\n",
    "plt.ylabel('y')\n",
    "plt.grid(True)\n",
    "plt.show()"
   ]
  },
  {
   "cell_type": "markdown",
   "metadata": {},
   "source": [
    "## Exercise 2: Customized Scatter Plot\n",
    "\n",
    "Generate 100 random points and create a scatter plot. Customize the colors and sizes of the points based on their values."
   ]
  },
  {
   "cell_type": "code",
   "execution_count": null,
   "metadata": {},
   "outputs": [],
   "source": [
    "# Solution\n",
    "x = np.random.rand(100)\n",
    "y = np.random.rand(100)\n",
    "colors = np.random.rand(100)\n",
    "sizes = 1000 * np.random.rand(100)\n",
    "\n",
    "plt.figure(figsize=(10, 8))\n",
    "plt.scatter(x, y, c=colors, s=sizes, alpha=0.5)\n",
    "plt.colorbar()\n",
    "plt.title('Customized Scatter Plot')\n",
    "plt.xlabel('X')\n",
    "plt.ylabel('Y')\n",
    "plt.show()"
   ]
  },
  {
   "cell_type": "markdown",
   "metadata": {},
   "source": [
    "## Exercise 3: Bar Chart Comparison\n",
    "\n",
    "Create a bar chart comparing the population of 5 countries. Use different colors for each bar and add value labels on top of each bar."
   ]
  },
  {
   "cell_type": "code",
   "execution_count": null,
   "metadata": {},
   "outputs": [],
   "source": [
    "# Solution\n",
    "countries = ['USA', 'China', 'India', 'Indonesia', 'Pakistan']\n",
    "populations = [331002651, 1439323776, 1380004385, 273523615, 220892340]\n",
    "colors = ['#FFA07A', '#98FB98', '#87CEFA', '#DDA0DD', '#F0E68C']\n",
    "\n",
    "plt.figure(figsize=(12, 6))\n",
    "bars = plt.bar(countries, populations, color=colors)\n",
    "\n",
    "plt.title('Population Comparison of 5 Countries')\n",
    "plt.xlabel('Countries')\n",
    "plt.ylabel('Population')\n",
    "\n",
    "# Adding value labels\n",
    "for bar in bars:\n",
    "    height = bar.get_height()\n",
    "    plt.text(bar.get_x() + bar.get_width()/2., height,\n",
    "             f'{height:,}',\n",
    "             ha='center', va='bottom')\n",
    "\n",
    "plt.show()"
   ]
  },
  {
   "cell_type": "markdown",
   "metadata": {},
   "source": [
    "## Exercise 4: Histogram of Normal Distribution\n",
    "\n",
    "Generate 1000 random numbers from a normal distribution and plot a histogram. Customize the number of bins and add a title and axis labels."
   ]
  },
  {
   "cell_type": "code",
   "execution_count": null,
   "metadata": {},
   "outputs": [],
   "source": [
    "# Solution\n",
    "data = np.random.normal(0, 1, 1000)\n",
    "\n",
    "plt.figure(figsize=(10, 6))\n",
    "plt.hist(data, bins=30, edgecolor='black')\n",
    "plt.title('Histogram of Normal Distribution')\n",
    "plt.xlabel('Value')\n",
    "plt.ylabel('Frequency')\n",
    "plt.grid(True, linestyle='--', alpha=0.7)\n",
    "plt.show()"
   ]
  },
  {
   "cell_type": "markdown",
   "metadata": {},
   "source": [
    "## Exercise 5: Subplots\n",
    "\n",
    "Create a 2x2 grid of subplots, each displaying a different type of plot (line, scatter, bar, and histogram) using random data."
   ]
  },
  {
   "cell_type": "code",
   "execution_count": null,
   "metadata": {},
   "outputs": [],
   "source": [
    "# Solution\n",
    "fig, ((ax1, ax2), (ax3, ax4)) = plt.subplots(2, 2, figsize=(12, 10))\n",
    "\n",
    "# Line plot\n",
    "x = np.linspace(0, 10, 100)\n",
    "ax1.plot(x, np.sin(x))\n",
    "ax1.set_title('Line Plot')\n",
    "\n",
    "# Scatter plot\n",
    "x = np.random.rand(50)\n",
    "y = np.random.rand(50)\n",
    "ax2.scatter(x, y)\n",
    "ax2.set_title('Scatter Plot')\n",
    "\n",
    "# Bar plot\n",
    "categories = ['A', 'B', 'C', 'D', 'E']\n",
    "values = np.random.randint(10, 100, 5)\n",
    "ax3.bar(categories, values)\n",
    "ax3.set_title('Bar Plot')\n",
    "\n",
    "# Histogram\n",
    "data = np.random.normal(0, 1, 1000)\n",
    "ax4.hist(data, bins=20)\n",
    "ax4.set_title('Histogram')\n",
    "\n",
    "plt.tight_layout()\n",
    "plt.show()"
   ]
  },
  {
   "cell_type": "markdown",
   "metadata": {},
   "source": [
    "## Exercise 6: Customized Box Plot\n",
    "\n",
    "Create a box plot comparing the distribution of 5 different datasets. Customize the colors and add a title and axis labels."
   ]
  },
  {
   "cell_type": "code",
   "execution_count": null,
   "metadata": {},
   "outputs": [],
   "source": [
    "# Solution\n",
    "np.random.seed(42)\n",
    "data = [np.random.normal(0, std, 100) for std in range(1, 6)]\n",
    "\n",
    "fig, ax = plt.subplots(figsize=(10, 6))\n",
    "\n",
    "box_plot = ax.boxplot(data, patch_artist=True)\n",
    "\n",
    "colors = ['#FFA07A', '#98FB98', '#87CEFA', '#DDA0DD', '#F0E68C']\n",
    "for patch, color in zip(box_plot['boxes'], colors):\n",
    "    patch.set_facecolor(color)\n",
    "\n",
    "ax.set_xticklabels(['Dataset 1', 'Dataset 2', 'Dataset 3', 'Dataset 4', 'Dataset 5'])\n",
    "ax.set_title('Comparison of 5 Datasets')\n",
    "ax.set_xlabel('Datasets')\n",
    "ax.set_ylabel('Values')\n",
    "\n",
    "plt.show()"
   ]
  },
  {
   "cell_type": "markdown",
   "metadata": {},
   "source": [
    "## Exercise 7: Heatmap\n",
    "\n",
    "Create a heatmap of a 10x10 matrix of random numbers. Add a color bar and customize the color scheme."
   ]
  },
  {
   "cell_type": "code",
   "execution_count": null,
   "metadata": {},
   "outputs": [],
   "source": [
    "# Solution\n",
    "data = np.random.rand(10, 10)\n",
    "\n",
    "plt.figure(figsize=(10, 8))\n",
    "heatmap = plt.imshow(data, cmap='coolwarm')\n",
    "plt.colorbar(heatmap)\n",
    "\n",
    "plt.title('Heatmap of 10x10 Random Matrix')\n",
    "plt.xlabel('X-axis')\n",
    "plt.ylabel('Y-axis')\n",
    "\n",
    "# Add value annotations\n",
    "for i in range(10):\n",
    "    for j in range(10):\n",
    "        plt.text(j, i, f'{data[i, j]:.2f}',\n",
    "                 ha=\"center\", va=\"center\", color=\"w\")\n",
    "\n",
    "plt.show()"
   ]
  }
 ],
 "metadata": {
  "kernelspec": {
   "display_name": "Python 3",
   "language": "python",
   "name": "python3"
  },
  "language_info": {
   "codemirror_mode": {
    "name": "ipython",
    "version": 3
   },
   "file_extension": ".py",
   "mimetype": "text/x-python",
   "name": "python",
   "nbconvert_exporter": "python",
   "pygments_lexer": "ipython3",
   "version": "3.8.8"
  }
 },
 "nbformat": 4,
 "nbformat_minor": 4
}

