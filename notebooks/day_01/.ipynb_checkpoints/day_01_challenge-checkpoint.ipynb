{
 "cells": [
  {
   "cell_type": "markdown",
   "id": "2dc32c12",
   "metadata": {},
   "source": [
    "# Day 1 Challenge: Introduction to Python Basics\n",
    "\n",
    "## Topics:\n",
    "1. Introduction to Python\n",
    "   - What is Python?\n",
    "   - Why use Python?\n",
    "2. Setting up environment (Pydroid 3 and Jupyter Notebook)\n",
    "3. Basic syntax\n",
    "   - Comments (single-line and multi-line)\n",
    "   - Indentation\n",
    "4. Variables and data types\n",
    "   - Integers, floats, strings, booleans\n",
    "   - Type conversion\n",
    "5. Basic operations\n",
    "   - Arithmetic operators (+, -, *, /, //, %, **)\n",
    "   - Comparison operators (==, !=, <, >, <=, >=)\n",
    "6. String manipulation\n",
    "   - String concatenation\n",
    "   - String methods (upper(), lower(), strip(), etc.)\n",
    "   - String formatting (f-strings)\n",
    "7. Input and output\n",
    "   - print() function\n",
    "   - input() function\n",
    "\n",
    "## Exercises:\n",
    "1. Create and print variables of different types (string, integer, float, boolean)\n",
    "2. Perform basic arithmetic operations and print the results\n",
    "3. Convert between different data types (e.g., string to int, float to int)\n",
    "4. Use string formatting to create a personal introduction\n",
    "5. Apply basic string methods (upper(), lower(), len(), etc.)\n",
    "6. Create a simple calculator that takes two numbers as input and performs a chosen operation\n",
    "7. Write a program that asks for the user's name and age, then prints a greeting with their age next year\n",
    "\n",
    "## Notes:\n",
    "- Python is case-sensitive\n",
    "- Indentation is crucial in Python (though not as important for today's basic exercises)\n",
    "- Use meaningful variable names to make your code more readable\n",
    "- Save your work frequently\n",
    "- Practice using the Python interactive shell for quick tests\n",
    "- Remember to use comments to explain your code\n",
    "- Don't worry if you don't understand everything immediately - learning takes time and practice!\n",
    "\n",
    "## Additional Resources:\n",
    "- Python Official Documentation: https://docs.python.org/3/\n",
    "- Python for Beginners: https://www.python.org/about/gettingstarted/\n",
    "- Interactive Python Tutorial: https://www.learnpython.org/\n",
    "\n",
    "   "
   ]
  },
  {
   "cell_type": "code",
   "execution_count": 1,
   "id": "745f1178-7a59-40f9-852a-667f3aa1fddb",
   "metadata": {},
   "outputs": [
    {
     "name": "stdout",
     "output_type": "stream",
     "text": [
      "Hello, World!\n",
      " Welcome to day 1 of 30 days of python.\n",
      " Happy Learning!!\n"
     ]
    }
   ],
   "source": [
    "print(\"Hello, World!\\n Welcome to day 1 of 30 days of python.\\n Happy Learning!!\")"
   ]
  },
  {
   "cell_type": "code",
   "execution_count": 2,
   "id": "d02e5704-cee4-45c4-b526-dc9a802e463a",
   "metadata": {},
   "outputs": [
    {
     "data": {
      "text/plain": [
       "'\\nThis is also a multi-line comment.\\nYou can use either single or double quotes.\\n'"
      ]
     },
     "execution_count": 2,
     "metadata": {},
     "output_type": "execute_result"
    }
   ],
   "source": [
    "'''\n",
    "This is a multi-line comment.\n",
    "It can span several lines.\n",
    "'''\n",
    "\"\"\"\n",
    "This is also a multi-line comment.\n",
    "You can use either single or double quotes.\n",
    "\"\"\"\n"
   ]
  },
  {
   "cell_type": "code",
   "execution_count": 3,
   "id": "426f6702-5b4b-490b-9539-23e04c127e8e",
   "metadata": {},
   "outputs": [
    {
     "name": "stdout",
     "output_type": "stream",
     "text": [
      "This is indented.\n",
      "This is indednnted also.\n",
      "This is not indented.\n"
     ]
    }
   ],
   "source": [
    "## Example of indentation use\n",
    "\n",
    "if True:\n",
    "    print(\"This is indented.\")\n",
    "    print(\"This is indednnted also.\")\n",
    "print(\"This is not indented.\")"
   ]
  },
  {
   "cell_type": "code",
   "execution_count": 4,
   "id": "47725390-fd39-4c22-90fd-ac1f7f6624f3",
   "metadata": {},
   "outputs": [],
   "source": [
    "## Example of integers \n",
    "\n",
    "age = 25\n",
    "count = 41\n",
    "Year = 2000"
   ]
  },
  {
   "cell_type": "code",
   "execution_count": 5,
   "id": "3e128b08-c54e-4b0e-a1f8-e17932600ea9",
   "metadata": {},
   "outputs": [],
   "source": [
    "## Example of floats\n",
    "\n",
    "pi = 3.14159\n",
    "temperature = -2.5\n",
    "pressure = -723"
   ]
  },
  {
   "cell_type": "code",
   "execution_count": 6,
   "id": "433c2a07-b77d-4dd6-a50f-8b47ec60ba7b",
   "metadata": {},
   "outputs": [
    {
     "name": "stdout",
     "output_type": "stream",
     "text": [
      "Hey Alice\n",
      " I'm doing very good.\n",
      " What about you ?\n"
     ]
    }
   ],
   "source": [
    "## Example of strings use \n",
    "sender = \"Alice\"\n",
    "recipient = \"Flame Great\"\n",
    "message = \"Hello, Flame!\\n How are you doing today?\"\n",
    "print(\"Hey Alice\\n I'm doing very good.\\n What about you ?\")"
   ]
  },
  {
   "cell_type": "code",
   "execution_count": 7,
   "id": "64ae1598-9bf8-4678-959f-c6598ecd0ac0",
   "metadata": {},
   "outputs": [],
   "source": [
    "## Boolean Example \n",
    "\n",
    "is_python_fun = True\n",
    "is_raining = False"
   ]
  },
  {
   "cell_type": "code",
   "execution_count": 8,
   "id": "dbb090e2-2042-48d3-9ca8-68f3ef98ed58",
   "metadata": {},
   "outputs": [
    {
     "name": "stdout",
     "output_type": "stream",
     "text": [
      "25\n",
      "25\n",
      "3.14159\n",
      "True\n"
     ]
    }
   ],
   "source": [
    "##:Type conversion using built-in functions\n",
    "\n",
    "age_str = \"25\"\n",
    "age_int = int(age_str)  # Converts string to integer\n",
    "pi_str = str(3.14159)  # Converts float to string\n",
    "is_adult = bool(18)  # Converts integer to boolean (non-zero is True)\n",
    "\n",
    "print(age_str)\n",
    "print(age_int)\n",
    "print(pi_str)\n",
    "print(is_adult)"
   ]
  },
  {
   "cell_type": "code",
   "execution_count": 9,
   "id": "242612e5-7749-48d6-b993-4a3634419b5d",
   "metadata": {},
   "outputs": [
    {
     "name": "stdout",
     "output_type": "stream",
     "text": [
      "13\n",
      "7\n",
      "30\n",
      "3.3333333333333335\n",
      "3\n",
      "1\n",
      "1000\n"
     ]
    }
   ],
   "source": [
    "## Basic arithmetic operations\n",
    "\n",
    "a = 10\n",
    "b = 3\n",
    "\n",
    "print(a + b)  \n",
    "print(a - b)  \n",
    "print(a * b)  \n",
    "print(a / b)  \n",
    "print(a // b)  \n",
    "print(a % b)  \n",
    "print(a ** b)  \n"
   ]
  },
  {
   "cell_type": "code",
   "execution_count": 10,
   "id": "e7abd63c-17a2-48fd-bd58-e09a0e18777f",
   "metadata": {},
   "outputs": [
    {
     "name": "stdout",
     "output_type": "stream",
     "text": [
      "False\n",
      "True\n",
      "True\n",
      "False\n",
      "True\n",
      "False\n"
     ]
    }
   ],
   "source": [
    "## Comparison operators example \n",
    "\n",
    "x = 5\n",
    "y = 10\n",
    "\n",
    "print(x == y)  \n",
    "print(x != y)  \n",
    "print(x < y)   \n",
    "print(x > y)   \n",
    "print(x <= y)  \n",
    "print(x >= y)  \n"
   ]
  },
  {
   "cell_type": "code",
   "execution_count": 11,
   "id": "1b8f3c27-3fb9-4dcd-90b5-ad3c58637772",
   "metadata": {},
   "outputs": [
    {
     "name": "stdout",
     "output_type": "stream",
     "text": [
      "Prudence Ogbonna\n"
     ]
    }
   ],
   "source": [
    "## String concatenation example \n",
    "\n",
    "first_name = \"Prudence\"\n",
    "last_name = \"Ogbonna\"\n",
    "\n",
    "full_name = first_name + \" \" + last_name\n",
    "print(full_name)"
   ]
  },
  {
   "cell_type": "code",
   "execution_count": 12,
   "id": "d87a44c9-8f6a-4363-93c3-6c16e09269a4",
   "metadata": {},
   "outputs": [
    {
     "name": "stdout",
     "output_type": "stream",
     "text": [
      "HELLO, WORLD!\n",
      "hello, world!\n",
      "Hello, World!\n",
      "Hi, World!\n",
      "13\n"
     ]
    }
   ],
   "source": [
    "## String methods with built-in function for manipulation \n",
    "\n",
    "message = \"Hello, World!\"\n",
    "\n",
    "print(message.upper())  \n",
    "print(message.lower()) \n",
    "print(message.strip())  # Removes leading/trailing whitespace\n",
    "print(message.replace(\"Hello\", \"Hi\"))  \n",
    "print(len(message))  # (length of the string)\n"
   ]
  },
  {
   "cell_type": "code",
   "execution_count": 13,
   "id": "1c787639-1d76-485b-b1a6-2adfe28d109c",
   "metadata": {},
   "outputs": [
    {
     "name": "stdout",
     "output_type": "stream",
     "text": [
      "My name is Flame Great and i am 25 years old.\n"
     ]
    }
   ],
   "source": [
    "# String formatting using f-strings \n",
    "\n",
    "name = \"Flame Great\"\n",
    "age = 25\n",
    "print(f'My name is {name} and i am {age} years old.')"
   ]
  },
  {
   "cell_type": "code",
   "execution_count": 14,
   "id": "094e23f5-139d-43f2-bb5d-0bfca3e02ee7",
   "metadata": {},
   "outputs": [
    {
     "name": "stdout",
     "output_type": "stream",
     "text": [
      "Hello, World!\n",
      "The answer is: 42\n"
     ]
    }
   ],
   "source": [
    "# print() function use to display out\n",
    "\n",
    "print(\"Hello, World!\")\n",
    "print(\"The answer is:\", 42)\n",
    "\n",
    "\n",
    "# we've used this severally "
   ]
  },
  {
   "cell_type": "code",
   "execution_count": 1,
   "id": "17911082-77f0-431b-8c17-b3ae37a3836c",
   "metadata": {},
   "outputs": [
    {
     "name": "stdin",
     "output_type": "stream",
     "text": [
      "Enter your name:  Flame\n"
     ]
    },
    {
     "name": "stdout",
     "output_type": "stream",
     "text": [
      "Hello, Flame!\n"
     ]
    }
   ],
   "source": [
    "# Example of input() function\n",
    "\n",
    "name = input(\"Enter your name: \")\n",
    "print(f\"Hello, {name}!\")\n"
   ]
  },
  {
   "cell_type": "code",
   "execution_count": 2,
   "id": "98eed849-1832-4ead-97c7-57c3fc429ffa",
   "metadata": {},
   "outputs": [
    {
     "name": "stdin",
     "output_type": "stream",
     "text": [
      "Enter your name:  Iziogo Emmanuel Ugochukwu\n",
      "Enter your course:  Chemical Engineering\n"
     ]
    },
    {
     "name": "stdout",
     "output_type": "stream",
     "text": [
      "Hello!\n",
      " Iziogo Emmanuel Ugochukwu your course of study is Chemical Engineering.\n"
     ]
    }
   ],
   "source": [
    "name=input(\"Enter your name: \")\n",
    "course=input(\"Enter your course: \")\n",
    "print(f\"Hello!\\n {name} your course of study is {course}.\")"
   ]
  },
  {
   "cell_type": "markdown",
   "id": "3296f8c6-091a-4ff2-b857-01f6a9e6a048",
   "metadata": {},
   "source": [
    "## EXERCISES"
   ]
  },
  {
   "cell_type": "code",
   "execution_count": 17,
   "id": "cc521299-5cdf-438a-9639-72daf777cb28",
   "metadata": {},
   "outputs": [
    {
     "name": "stdout",
     "output_type": "stream",
     "text": [
      "You're welcome, Israel.\n",
      " Please take a seat for a moment sir.\n",
      "I just crossed checked and find out truly your age  is 27 and height is 2.5. We don't have to make any other correction on your profile.\n",
      "And i am pleased to announce that you have been admitted to Software Engineering department.\n",
      "Is student: True\n"
     ]
    }
   ],
   "source": [
    "''' \n",
    "QUESTION 1: Create and Print variable of different types\n",
    "'''\n",
    "\n",
    "# Answer \n",
    "\n",
    "name = \"Israel\"\n",
    "course = \"Software Engineering\"\n",
    "age = \"27\"\n",
    "height = 2.5\n",
    "is_student = True\n",
    "\n",
    "print(f\"You're welcome, {name}.\\n Please take a seat for a moment sir.\")\n",
    "print(f\"I just crossed checked and find out truly your age  is {age} and height is {height}. We don't have to make any other correction on your profile.\")\n",
    "print(f'And i am pleased to announce that you have been admitted to {course} department.')\n",
    "print(f'Is student: {is_student}')"
   ]
  },
  {
   "cell_type": "code",
   "execution_count": 18,
   "id": "9fbef4b1-3ed7-4a4c-8874-c21a84797cbe",
   "metadata": {},
   "outputs": [
    {
     "name": "stdout",
     "output_type": "stream",
     "text": [
      "Addition: 13\n",
      "Subtraction: 7\n",
      "Multiplication: 30\n",
      "Division: 3.3333333333333335\n",
      "Floor Division: 3\n",
      "Modulus: 1\n",
      "Exponentiation: 1000\n"
     ]
    }
   ],
   "source": [
    "\"\"\"\n",
    "Perform some basic arithmetic operation to showcase your understanding.\n",
    "\"\"\"\n",
    "# Answer:\n",
    "\n",
    "a = 10\n",
    "b = 3\n",
    "\n",
    "print(f\"Addition: {a + b}\")\n",
    "print(f\"Subtraction: {a - b}\")\n",
    "print(f\"Multiplication: {a * b}\")\n",
    "print(f\"Division: {a / b}\")\n",
    "print(f\"Floor Division: {a // b}\")\n",
    "print(f\"Modulus: {a % b}\")\n",
    "print(f\"Exponentiation: {a ** b}\")\n"
   ]
  },
  {
   "cell_type": "code",
   "execution_count": 19,
   "id": "2ea6db8e-5b63-4b3f-a1a0-4785df276858",
   "metadata": {},
   "outputs": [
    {
     "name": "stdout",
     "output_type": "stream",
     "text": [
      "The solutions to the equation 4a² + 10(a/x) - 7 = y, where x = 2 and y = 3 are:\n",
      "a = 1.0752 or a = -2.3252\n",
      "\n",
      "Verification:\n",
      "For a = 1.0752: LHS = 3.0000, should equal 3\n",
      "For a = -2.3252: LHS = 3.0000, should equal 3\n"
     ]
    }
   ],
   "source": [
    "'''\n",
    "QUESTION 2: Solve the quadratic equation\n",
    "4a² + 10(a/x) - 7 = y, where x and y are 2 and 3 respectively.\n",
    "'''\n",
    "\n",
    "# Solution:\n",
    "\n",
    "import math\n",
    "\n",
    "# Given values\n",
    "x = 2\n",
    "y = 3\n",
    "\n",
    "# Substituting x and y in the equation:\n",
    "# 4a² + 10(a/2) - 7 = 3\n",
    "\n",
    "# Simplifying:\n",
    "# 4a² + 5a - 10 = 0\n",
    "\n",
    "# Now we have a standard quadratic equation: 4a² + 5a - 10 = 0\n",
    "# Let's use the quadratic formula: a = [-b ± √(b² - 4ac)] / (2a)\n",
    "\n",
    "a = 4  # coefficient of a²\n",
    "b = 5  # coefficient of a\n",
    "c = -10  # constant term\n",
    "\n",
    "# Calculate the discriminant\n",
    "discriminant = b**2 - 4*a*c\n",
    "\n",
    "# Calculate the two roots\n",
    "root1 = (-b + math.sqrt(discriminant)) / (2*a)\n",
    "root2 = (-b - math.sqrt(discriminant)) / (2*a)\n",
    "\n",
    "print(f\"The solutions to the equation 4a² + 10(a/x) - 7 = y, where x = 2 and y = 3 are:\")\n",
    "print(f\"a = {root1:.4f} or a = {root2:.4f}\")\n",
    "\n",
    "# Verify the solutions\n",
    "def verify(a):\n",
    "    return 4*a**2 + 10*(a/x) - 7\n",
    "\n",
    "print(\"\\nVerification:\")\n",
    "print(f\"For a = {root1:.4f}: LHS = {verify(root1):.4f}, should equal {y}\")\n",
    "print(f\"For a = {root2:.4f}: LHS = {verify(root2):.4f}, should equal {y}\")\n"
   ]
  },
  {
   "cell_type": "code",
   "execution_count": 20,
   "id": "bc03b652-31ea-4f4d-b425-e784f303144d",
   "metadata": {},
   "outputs": [
    {
     "name": "stdout",
     "output_type": "stream",
     "text": [
      "String to Integer: 25\n",
      "Float to Integer: 1\n",
      "Boolean to String: True\n"
     ]
    }
   ],
   "source": [
    "\"\"\"\n",
    "Create and convert between different data types in python.\n",
    "\"\"\"\n",
    "\n",
    "# Answer:\n",
    "\n",
    "age_str = \"25\"\n",
    "age_int = int(age_str)\n",
    "print(f\"String to Integer: {age_int}\")\n",
    "\n",
    "height_float = 1.75\n",
    "height_int = int(height_float)\n",
    "print(f\"Float to Integer: {height_int}\")\n",
    "\n",
    "is_python_fun = True\n",
    "fun_str = str(is_python_fun)\n",
    "print(f\"Boolean to String: {fun_str}\")\n"
   ]
  },
  {
   "cell_type": "code",
   "execution_count": 21,
   "id": "cf59932e-0a08-4451-a091-708d16451f2e",
   "metadata": {},
   "outputs": [
    {
     "name": "stdout",
     "output_type": "stream",
     "text": [
      "Original: '  Python is Awesome!  '\n",
      "Uppercase: '  PYTHON IS AWESOME!  '\n",
      "Lowercase: '  python is awesome!  '\n",
      "Stripped: 'Python is Awesome!'\n",
      "Length: 22\n"
     ]
    }
   ],
   "source": [
    "\"\"\"\n",
    "Aplly 5 basic string methods in message \" python is awesome! \"\n",
    "\"\"\"\n",
    "\n",
    "# Answer: \n",
    "\n",
    "message = \"  Python is Awesome!  \"\n",
    "\n",
    "print(f\"Original: '{message}'\")\n",
    "print(f\"Uppercase: '{message.upper()}'\")\n",
    "print(f\"Lowercase: '{message.lower()}'\")\n",
    "print(f\"Stripped: '{message.strip()}'\")\n",
    "print(f\"Length: {len(message)}\")\n"
   ]
  },
  {
   "cell_type": "code",
   "execution_count": 3,
   "id": "6c963a28-4872-4ad8-bae4-5556bf6ee5ac",
   "metadata": {},
   "outputs": [
    {
     "name": "stdin",
     "output_type": "stream",
     "text": [
      "Enter your name:  Flame Great\n",
      "Enter your age:  25\n"
     ]
    },
    {
     "name": "stdout",
     "output_type": "stream",
     "text": [
      "Hello, Flame Great! Next year, you will be 26 years old.\n"
     ]
    }
   ],
   "source": [
    "\"\"\"\n",
    "Write a good program asking for a name, age and shows your age for the next year.\n",
    "\"\"\"\n",
    "\n",
    "# Answer:\n",
    "\n",
    "name = input(\"Enter your name: \")\n",
    "age = int(input(\"Enter your age: \"))\n",
    "\n",
    "next_year_age = age + 1\n",
    "print(f\"Hello, {name}! Next year, you will be {next_year_age} years old.\")\n"
   ]
  },
  {
   "cell_type": "code",
   "execution_count": 4,
   "id": "88a432f2-bcd3-434d-b18d-3cf99a059fa2",
   "metadata": {},
   "outputs": [
    {
     "name": "stdin",
     "output_type": "stream",
     "text": [
      "Enter first number:  5\n",
      "Enter second number:  7\n",
      "Enter operation (+, -, *, /):  *\n"
     ]
    },
    {
     "name": "stdout",
     "output_type": "stream",
     "text": [
      "Result: 35.0\n"
     ]
    }
   ],
   "source": [
    "\"\"\"\n",
    "Build a simple calculator to hone what you have learnt in this challenge.\n",
    "\"\"\"\n",
    "\n",
    "# Answer:\n",
    "\n",
    "num1 = float(input(\"Enter first number: \"))\n",
    "num2 = float(input(\"Enter second number: \"))\n",
    "operation = input(\"Enter operation (+, -, *, /): \")\n",
    "\n",
    "if operation == \"+\":\n",
    "    result = num1 + num2\n",
    "elif operation == \"-\":\n",
    "    result = num1 - num2\n",
    "elif operation == \"*\":\n",
    "    result = num1 * num2\n",
    "elif operation == \"/\":\n",
    "    result = num1 / num2 if num2 != 0 else \"Error: Division by zero\"\n",
    "else:\n",
    "    result = \"Error: Invalid operation\"\n",
    "\n",
    "print(f\"Result: {result}\")\n"
   ]
  },
  {
   "cell_type": "markdown",
   "id": "fc0fc862-993b-41eb-81e9-b905f6fc4b77",
   "metadata": {},
   "source": [
    "\n",
    "## ASSIGNMENT:\n",
    "\n",
    "Conduct a research and Build a well functional calculator with graphical user interface (GUI) and performs basic arithmetic operations."
   ]
  },
  {
   "cell_type": "code",
   "execution_count": null,
   "id": "c2052304-2dec-47f1-b88d-2d5ddc0d3c38",
   "metadata": {},
   "outputs": [],
   "source": [
    "!pip install ipywidgets"
   ]
  },
  {
   "cell_type": "code",
   "execution_count": 5,
   "id": "5ab32a28-9879-480d-903e-f4a4da5c08a2",
   "metadata": {},
   "outputs": [
    {
     "data": {
      "application/vnd.jupyter.widget-view+json": {
       "model_id": "f0b7511ef32142c3b7ec39526e0eafef",
       "version_major": 2,
       "version_minor": 0
      },
      "text/plain": [
       "Text(value='0', description='Result:', disabled=True)"
      ]
     },
     "metadata": {},
     "output_type": "display_data"
    },
    {
     "data": {
      "application/vnd.jupyter.widget-view+json": {
       "model_id": "ace31c1080ae469a8b12fb673a8e0f87",
       "version_major": 2,
       "version_minor": 0
      },
      "text/plain": [
       "GridBox(children=(Button(description='0', style=ButtonStyle()), Button(description='1', style=ButtonStyle()), …"
      ]
     },
     "metadata": {},
     "output_type": "display_data"
    }
   ],
   "source": [
    "import ipywidgets as widgets\n",
    "from IPython.display import display\n",
    "\n",
    "class Calculator:\n",
    "    def __init__(self):\n",
    "        self.result = widgets.Text(value='0', description='Result:', disabled=True)\n",
    "        \n",
    "        self.buttons = [widgets.Button(description=str(i)) for i in range(10)]\n",
    "        self.buttons.extend([\n",
    "            widgets.Button(description='+'),\n",
    "            widgets.Button(description='-'),\n",
    "            widgets.Button(description='*'),\n",
    "            widgets.Button(description='/'),\n",
    "            widgets.Button(description='.'),\n",
    "            widgets.Button(description='='),\n",
    "            widgets.Button(description='C')\n",
    "        ])\n",
    "        \n",
    "        for button in self.buttons:\n",
    "            button.on_click(self.on_button_click)\n",
    "        \n",
    "        self.layout = widgets.GridBox(self.buttons, layout=widgets.Layout(grid_template_columns=\"repeat(4, 25%)\"))\n",
    "        \n",
    "    def on_button_click(self, b):\n",
    "        if b.description == 'C':\n",
    "            self.result.value = '0'\n",
    "        elif b.description == '=':\n",
    "            try:\n",
    "                self.result.value = str(eval(self.result.value))\n",
    "            except:\n",
    "                self.result.value = 'Error'\n",
    "        else:\n",
    "            if self.result.value == '0' or self.result.value == 'Error':\n",
    "                self.result.value = b.description\n",
    "            else:\n",
    "                self.result.value += b.description\n",
    "    \n",
    "    def display(self):\n",
    "        display(self.result, self.layout)\n",
    "\n",
    "# Create and display the calculator\n",
    "calc = Calculator()\n",
    "calc.display()\n"
   ]
  },
  {
   "cell_type": "code",
   "execution_count": 2,
   "id": "8266cd07-7ff0-41f2-bc70-dc9d0e740e23",
   "metadata": {},
   "outputs": [
    {
     "name": "stdout",
     "output_type": "stream",
     "text": [
      "Last saved: 2025-01-11 08:22:12.476854\n"
     ]
    },
    {
     "data": {
      "text/html": [
       "<b style='color:green;'>If you see this message, your notebook is currently saved.</b>"
      ],
      "text/plain": [
       "<IPython.core.display.HTML object>"
      ]
     },
     "metadata": {},
     "output_type": "display_data"
    }
   ],
   "source": [
    "import os\n",
    "from IPython.display import display, HTML\n",
    "\n",
    "last_save = os.path.getmtime('day_01_challenge.ipynb')\n",
    "from datetime import datetime\n",
    "print(f\"Last saved: {datetime.fromtimestamp(last_save)}\")\n",
    "\n",
    "display(HTML(\"<b style='color:green;'>If you see this message, your notebook is currently saved.</b>\"))\n"
   ]
  },
  {
   "cell_type": "code",
   "execution_count": null,
   "id": "70170e95-dc80-4b2a-9c92-8fcc41e0e74f",
   "metadata": {},
   "outputs": [],
   "source": []
  }
 ],
 "metadata": {
  "kernelspec": {
   "display_name": "Python 3 (ipykernel)",
   "language": "python",
   "name": "python3"
  },
  "language_info": {
   "codemirror_mode": {
    "name": "ipython",
    "version": 3
   },
   "file_extension": ".py",
   "mimetype": "text/x-python",
   "name": "python",
   "nbconvert_exporter": "python",
   "pygments_lexer": "ipython3",
   "version": "3.11.4"
  }
 },
 "nbformat": 4,
 "nbformat_minor": 5
}
