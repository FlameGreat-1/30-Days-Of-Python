{
 "cells": [
  {
   "cell_type": "markdown",
   "id": "3c6c439e",
   "metadata": {},
   "source": [
    "# Day 30 Challenge\n",
    "\n",
    "## Topics:\n",
    "\n",
    "## Exercises:\n",
    "\n",
    "## Notes:"
   ]
  }
 ],
 "metadata": {},
 "nbformat": 4,
 "nbformat_minor": 5
}
