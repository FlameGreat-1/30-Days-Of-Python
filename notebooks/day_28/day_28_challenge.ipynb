{
 "cells": [
  {
   "cell_type": "markdown",
   "id": "37e88a5f",
   "metadata": {},
   "source": [
    "# Day 28 Challenge\n",
    "\n",
    "## Topics:\n",
    "\n",
    "## Exercises:\n",
    "\n",
    "## Notes:"
   ]
  }
 ],
 "metadata": {},
 "nbformat": 4,
 "nbformat_minor": 5
}
