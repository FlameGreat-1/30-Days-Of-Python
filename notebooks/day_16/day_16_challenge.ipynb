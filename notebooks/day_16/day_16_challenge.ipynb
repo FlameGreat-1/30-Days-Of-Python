{
 "cells": [
  {
   "cell_type": "markdown",
   "id": "4db67939",
   "metadata": {},
   "source": [
    "# Day 16 Challenge\n",
    "\n",
    "## Topics:\n",
    "\n",
    "## Exercises:\n",
    "\n",
    "## Notes:"
   ]
  }
 ],
 "metadata": {},
 "nbformat": 4,
 "nbformat_minor": 5
}
