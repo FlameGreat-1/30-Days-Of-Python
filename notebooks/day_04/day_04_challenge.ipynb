{
 "cells": [
  {
   "cell_type": "markdown",
   "id": "e2aa522e",
   "metadata": {},
   "source": [
    "# Day 4 Challenge\n",
    "\n",
    "## Topics:\n",
    "\n",
    "## Exercises:\n",
    "\n",
    "## Notes:"
   ]
  },
  {
   "cell_type": "markdown",
   "id": "dc24bb12-b2e4-4736-84e8-b55a96973913",
   "metadata": {},
   "source": [
    "Lecture: File I/O Operations and Error Handling in Python\n",
    "\n",
    "## Part 1: File I/O Operations\n",
    "\n",
    "1.1 Introduction to File Handling\n",
    "\n",
    "File handling is a crucial aspect of programming, allowing us to store and retrieve data persistently. In Python, we have robust built-in functions and methods for file operations.\n",
    "\n",
    "1.2 Opening and Closing Files\n",
    "\n",
    "To work with files, we first need to open them. The open() function is used for this purpose.\n",
    "\n",
    "Syntax:"
   ]
  },
  {
   "cell_type": "code",
   "execution_count": null,
   "id": "55045df3-b700-48b9-83ab-4b01aedbb112",
   "metadata": {},
   "outputs": [],
   "source": [
    "file_object = open(file_name, mode)\n"
   ]
  },
  {
   "cell_type": "markdown",
   "id": "fc749a75-27f3-4620-b99a-2f10a2cb5234",
   "metadata": {},
   "source": [
    "Modes:\n",
    "\n",
    "'r': Read (default)\n",
    "\n",
    "'w': Write (overwrites existing content)\n",
    "\n",
    "'a': Append\n",
    "\n",
    "'r+': Read and Write\n",
    "\n",
    "'b': Binary mode\n",
    "\n",
    "Always remember to close files after operations:"
   ]
  },
  {
   "cell_type": "code",
   "execution_count": null,
   "id": "b51f5b90-fff8-4a4f-b78f-e1797fe80717",
   "metadata": {},
   "outputs": [],
   "source": [
    "file_object.close()"
   ]
  },
  {
   "cell_type": "markdown",
   "id": "435fc562-3604-4db6-8732-2d998d80f2e3",
   "metadata": {},
   "source": [
    "Better practice: Use the with statement, which automatically closes the file:"
   ]
  },
  {
   "cell_type": "code",
   "execution_count": null,
   "id": "4f6de2e0-2196-4904-99f4-1b336743857f",
   "metadata": {},
   "outputs": [],
   "source": [
    "with open('file.txt', 'r') as file:\n",
    "    # operations here\n",
    "    "
   ]
  },
  {
   "cell_type": "markdown",
   "id": "0ca32f50-25f1-49ee-9429-2663c91aa26d",
   "metadata": {},
   "source": [
    "1.3 Reading from Files\n",
    "\n",
    "There are several methods to read file content:\n",
    "\n",
    "\n",
    "read(): Reads the entire file\n",
    "\n",
    "readline(): Reads a single line\n",
    "\n",
    "readlines(): Reads all lines into a list\n",
    "\n",
    "Example:"
   ]
  },
  {
   "cell_type": "code",
   "execution_count": null,
   "id": "15c21b27-099b-4306-b4e0-3716672c9714",
   "metadata": {},
   "outputs": [],
   "source": [
    "with open('example.txt', 'r') as file:\n",
    "    content = file.read()\n",
    "    print(content)"
   ]
  },
  {
   "cell_type": "markdown",
   "id": "28de37ea-e076-4a7a-ab60-ac4d93007bf1",
   "metadata": {},
   "source": [
    "1.4 Writing to Files\n",
    "We use write() for writing strings and writelines() for writing a list of strings:"
   ]
  },
  {
   "cell_type": "code",
   "execution_count": null,
   "id": "eec20bc7-0300-42e8-b121-886a7f0e911d",
   "metadata": {},
   "outputs": [],
   "source": [
    "with open('output.txt', 'w') as file:\n",
    "    file.write(\"Hello, World!\")\n",
    "\n",
    "lines = [\"Line 1\\n\", \"Line 2\\n\", \"Line 3\\n\"]\n",
    "with open('output.txt', 'w') as file:\n",
    "    file.writelines(lines)"
   ]
  },
  {
   "cell_type": "markdown",
   "id": "0b80f3b8-2ccc-47a8-bb01-d943a8321817",
   "metadata": {},
   "source": [
    "1.5 Working with CSV Files\n",
    "CSV (Comma Separated Values) is a common format for storing tabular data. Python's csv module provides functionality to read from and write to CSV files.\n",
    "Reading CSV:"
   ]
  },
  {
   "cell_type": "markdown",
   "id": "74a32ed5-cbfa-4446-9bb7-d73ff7917cb9",
   "metadata": {},
   "source": [
    "Writing CSV:"
   ]
  },
  {
   "cell_type": "code",
   "execution_count": null,
   "id": "28266a46-cfc6-4304-a91e-e48d6bb807bd",
   "metadata": {},
   "outputs": [],
   "source": [
    "import csv\n",
    "\n",
    "data = [['Name', 'Age'], ['Alice', 30], ['Bob', 25]]\n",
    "with open('output.csv', 'w', newline='') as file:\n",
    "    csv_writer = csv.writer(file)\n",
    "    csv_writer.writerows(data)\n",
    "    "
   ]
  },
  {
   "cell_type": "markdown",
   "id": "0d34eba9-e8f0-4031-b53f-b8f3ce75f02b",
   "metadata": {},
   "source": [
    "1.6 JSON File Handling\n",
    "JSON (JavaScript Object Notation) is a lightweight data interchange format. Python's json module allows easy handling of JSON data."
   ]
  },
  {
   "cell_type": "markdown",
   "id": "9e41f6a6-eeb6-490b-aa1f-97fa6dff1108",
   "metadata": {},
   "source": [
    "Writing JSON:"
   ]
  },
  {
   "cell_type": "code",
   "execution_count": null,
   "id": "dba35168-5b85-47a7-b6ff-60190b78004f",
   "metadata": {},
   "outputs": [],
   "source": [
    "import json\n",
    "\n",
    "data = {'name': 'John', 'age': 30, 'city': 'New York'}\n",
    "with open('data.json', 'w') as file:\n",
    "    json.dump(data, file)\n",
    "    "
   ]
  },
  {
   "cell_type": "markdown",
   "id": "c61f6989-584d-4fc9-9e1c-3420fe06e93d",
   "metadata": {},
   "source": [
    "Reading JSON:"
   ]
  },
  {
   "cell_type": "code",
   "execution_count": null,
   "id": "50456fbb-537f-40fb-b8c6-bc056c6edf56",
   "metadata": {},
   "outputs": [],
   "source": [
    "import json\n",
    "\n",
    "with open('data.json', 'r') as file:\n",
    "    data = json.load(file)\n",
    "    print(data)\n",
    "    "
   ]
  },
  {
   "cell_type": "markdown",
   "id": "dfbdb865-df87-4d95-8b36-c3df93572235",
   "metadata": {},
   "source": [
    "## Part 2: Error Handling and Exceptions\n",
    "\n",
    "2.1 Introduction to Errors and Exceptions\n",
    "In Python, there are two main types of errors:\n",
    "\n",
    "Syntax Errors: Errors in the structure of your Python code\n",
    "Exceptions: Errors that occur during the execution of a program\n",
    "\n",
    "2.2 Common Built-in Exceptions\n",
    "Some common exceptions include:\n",
    "\n",
    "\n",
    "ZeroDivisionError: Occurs when dividing by zero\n",
    "\n",
    "FileNotFoundError: When trying to access a non-existent file\n",
    "\n",
    "ValueError: When an operation receives an argument of the correct type but inappropriate value\n",
    "\n",
    "TypeError: When an operation is performed on an object of inappropriate type"
   ]
  },
  {
   "cell_type": "markdown",
   "id": "3cc5a678-a827-4743-994b-0584a15e6ce1",
   "metadata": {},
   "source": [
    "2.3 Try-Except Blocks\n",
    "The try-except block is used to catch and handle exceptions:"
   ]
  },
  {
   "cell_type": "code",
   "execution_count": null,
   "id": "50ba6b19-3d95-47c1-b35f-eee7e80c2c87",
   "metadata": {},
   "outputs": [],
   "source": [
    "try:\n",
    "    # Some risky operation\n",
    "    pass\n",
    "except ZeroDivisionError:\n",
    "    print(\"Division by zero!\")\n",
    "except FileNotFoundError:\n",
    "    print(\"File not found!\")\n",
    "except Exception as e:\n",
    "    print(f\"An error occurred: {e}\")\n",
    "    "
   ]
  },
  {
   "cell_type": "markdown",
   "id": "42e89150-970b-4326-aec9-67c838a94c47",
   "metadata": {},
   "source": [
    "2.5 Else and Finally Clauses\n",
    "\n",
    "\n",
    "else: Executed if no exception occurs\n",
    "\n",
    "finally: Always executed, regardless of whether an exception occurred"
   ]
  },
  {
   "cell_type": "code",
   "execution_count": null,
   "id": "c1cd7836-2e0e-444e-aaad-7108a8e15cf7",
   "metadata": {},
   "outputs": [],
   "source": [
    "try:\n",
    "    # Some operation\n",
    "    pass\n",
    "except Exception as e:\n",
    "    print(f\"An error occurred: {e}\")\n",
    "else:\n",
    "    print(\"No exception occurred\")\n",
    "finally:\n",
    "    print(\"This always executes\")\n",
    "    "
   ]
  },
  {
   "cell_type": "markdown",
   "id": "9f77773e-cad4-4ed0-990d-aacc6487859d",
   "metadata": {},
   "source": [
    "2.6 Raising Exceptions\n",
    "\n",
    "You can raise exceptions using the raise keyword:"
   ]
  },
  {
   "cell_type": "code",
   "execution_count": null,
   "id": "7690c438-bb02-41ae-bb2c-486c93177a26",
   "metadata": {},
   "outputs": [],
   "source": [
    "try:\n",
    "    # Code that might raise an exception\n",
    "    result = 10 / 0\n",
    "except ZeroDivisionError:\n",
    "    print(\"Error: Division by zero!\")"
   ]
  },
  {
   "cell_type": "markdown",
   "id": "d9ad469f-fdb8-47e9-8235-d34ac2c602ff",
   "metadata": {},
   "source": [
    "2.4 Multiple Except Blocks\n",
    "You can handle different exceptions differently:"
   ]
  },
  {
   "cell_type": "code",
   "execution_count": null,
   "id": "6c30e24c-466a-4b34-887d-5bb4347d1078",
   "metadata": {},
   "outputs": [],
   "source": [
    "try:\n",
    "    # Some risky operation\n",
    "    pass\n",
    "except ZeroDivisionError:\n",
    "    print(\"Division by zero!\")\n",
    "except FileNotFoundError:\n",
    "    print(\"File not found!\")\n",
    "except Exception as e:\n",
    "    print(f\"An error occurred: {e}\")\n",
    "    "
   ]
  },
  {
   "cell_type": "markdown",
   "id": "aa921b99-c366-4f09-968e-a9992b5d7612",
   "metadata": {},
   "source": [
    "2.5 Else and Finally Clauses\n",
    "\n",
    "\n",
    "else: Executed if no exception occurs\n",
    "\n",
    "finally: Always executed, regardless of whether an exception occurred"
   ]
  },
  {
   "cell_type": "code",
   "execution_count": null,
   "id": "f8bf7a1f-2fdd-40f7-8508-07ad8613fadc",
   "metadata": {},
   "outputs": [],
   "source": [
    "try:\n",
    "    # Some operation\n",
    "    pass\n",
    "except Exception as e:\n",
    "    print(f\"An error occurred: {e}\")\n",
    "else:\n",
    "    print(\"No exception occurred\")\n",
    "finally:\n",
    "    print(\"This always executes\")\n",
    "    "
   ]
  },
  {
   "cell_type": "markdown",
   "id": "4db615ac-99b5-46a8-a71a-7bf5986eb7de",
   "metadata": {},
   "source": [
    "2.6 Raising Exceptions\n",
    "You can raise exceptions using the raise keyword:"
   ]
  },
  {
   "cell_type": "code",
   "execution_count": null,
   "id": "d572e2f4-c6db-4623-9ad9-551cf1a8c5df",
   "metadata": {},
   "outputs": [],
   "source": [
    "def validate_age(age):\n",
    "    if age < 0:\n",
    "        raise ValueError(\"Age cannot be negative\")\n",
    "    return age\n",
    "    "
   ]
  },
  {
   "cell_type": "markdown",
   "id": "aea80d0a-a996-4b64-8749-c34e932c0679",
   "metadata": {},
   "source": [
    "2.7 Creating Custom Exceptions\n",
    "\n",
    "Custom exceptions allow you to define application-specific error types:"
   ]
  },
  {
   "cell_type": "code",
   "execution_count": null,
   "id": "9014ffbc-4c14-4244-9329-cb3654019507",
   "metadata": {},
   "outputs": [],
   "source": [
    "class CustomError(Exception):\n",
    "    def __init__(self, message):\n",
    "        self.message = message\n",
    "        super().__init__(self.message)\n",
    "\n",
    "# Usage\n",
    "raise CustomError(\"This is a custom error\")\n"
   ]
  },
  {
   "cell_type": "markdown",
   "id": "db067d50-bb5c-46f8-b125-df67b20faf41",
   "metadata": {},
   "source": [
    "Let's combine file I/O and error handling in a practical exercise. We'll create a simple contact management system:"
   ]
  },
  {
   "cell_type": "code",
   "execution_count": null,
   "id": "235d4f97-f497-44b6-882e-5cf57e979a3c",
   "metadata": {},
   "outputs": [],
   "source": [
    "import csv\n",
    "import json\n",
    "\n",
    "class ContactManager:\n",
    "    def __init__(self, filename):\n",
    "        self.filename = filename\n",
    "\n",
    "    def add_contact(self, name, phone, email):\n",
    "        try:\n",
    "            with open(self.filename, 'a', newline='') as file:\n",
    "                writer = csv.writer(file)\n",
    "                writer.writerow([name, phone, email])\n",
    "            print(\"Contact added successfully!\")\n",
    "        except IOError:\n",
    "            print(\"Error: Could not write to file.\")\n",
    "\n",
    "    def search_contact(self, name):\n",
    "        try:\n",
    "            with open(self.filename, 'r') as file:\n",
    "                reader = csv.reader(file)\n",
    "                for row in reader:\n",
    "                    if row[0].lower() == name.lower():\n",
    "                        return row\n",
    "            return None\n",
    "        except FileNotFoundError:\n",
    "            print(\"Error: Contact file not found.\")\n",
    "        except IOError:\n",
    "            print(\"Error: Could not read the file.\")\n",
    "\n",
    "    def export_to_json(self, json_filename):\n",
    "        try:\n",
    "            contacts = []\n",
    "            with open(self.filename, 'r') as csv_file:\n",
    "                reader = csv.reader(csv_file)\n",
    "                for row in reader:\n",
    "                    contacts.append({\"name\": row[0], \"phone\": row[1], \"email\": row[2]})\n",
    "            \n",
    "            with open(json_filename, 'w') as json_file:\n",
    "                json.dump(contacts, json_file, indent=2)\n",
    "            print(\"Contacts exported to JSON successfully!\")\n",
    "        except Exception as e:\n",
    "            print(f\"Error exporting contacts: {e}\")\n",
    "\n",
    "# Usage\n",
    "manager = ContactManager(\"contacts.csv\")\n",
    "\n",
    "# Adding a contact\n",
    "manager.add_contact(\"John Doe\", \"1234567890\", \"john@example.com\")\n",
    "\n",
    "# Searching for a contact\n",
    "result = manager.search_contact(\"John Doe\")\n",
    "if result:\n",
    "    print(f\"Found: {result}\")\n",
    "else:\n",
    "    print(\"Contact not found\")\n",
    "\n",
    "# Exporting to JSON\n",
    "manager.export_to_json(\"contacts.json\")\n"
   ]
  },
  {
   "cell_type": "markdown",
   "id": "cac9304e-b4a0-408c-9fe3-f74827c8f4d1",
   "metadata": {},
   "source": [
    "## PRACTICAL EXERCISE"
   ]
  },
  {
   "cell_type": "markdown",
   "id": "a48b7598-1a6f-4bb3-8030-7a51e2b9ddb4",
   "metadata": {},
   "source": [
    "1. File I/O Operations:\n",
    "   \n",
    "a. Create a text file and write some content to it.\n",
    "b. Read the content of the file you just created and print it to the console.\n",
    "c. Append new content to the existing file.\n",
    "d. Read a file line by line and print each line with its line number."
   ]
  },
  {
   "cell_type": "code",
   "execution_count": null,
   "id": "4f7628ab-e4e0-486c-b1ae-f6b6982983e8",
   "metadata": {},
   "outputs": [],
   "source": [
    "# a. Create a text file and write some content to it\n",
    "\n",
    "with open('sample.txt', 'w') as file:\n",
    "    file.write(\"Hello, this is a sample file.\\nIt contains multiple lines.\\nPython is awesome!\")\n",
    "\n",
    "# b. Read the content of the file you just created and print it to the console\n",
    "\n",
    "with open('sample.txt', 'r') as file:\n",
    "    content = file.read()\n",
    "    print(\"File contents:\")\n",
    "    print(content)\n",
    "\n",
    "# c. Append new content to the existing file\n",
    "\n",
    "with open('sample.txt', 'a') as file:\n",
    "    file.write(\"\\nThis line is appended to the file.\")\n",
    "\n",
    "# d. Read a file line by line and print each line with its line number\n",
    "\n",
    "print(\"\\nFile contents with line numbers:\")\n",
    "with open('sample.txt', 'r') as file:\n",
    "    for i, line in enumerate(file, 1):\n",
    "        print(f\"{i}: {line.strip()}\")\n",
    "        "
   ]
  },
  {
   "cell_type": "markdown",
   "id": "2a98f24c-27d5-4d2f-86a8-f4aaf9be72b6",
   "metadata": {},
   "source": [
    "2. CSV File Handling:\n",
    "\n",
    "a. Create a CSV file with some sample data (e.g., names and ages).\n",
    "b. Read the CSV file and print its contents.\n",
    "c. Add new rows to the CSV file."
   ]
  },
  {
   "cell_type": "code",
   "execution_count": null,
   "id": "5d7e02f3-35dc-4ae8-be23-6ba09caf0328",
   "metadata": {},
   "outputs": [],
   "source": [
    "import csv\n",
    "\n",
    "# a. Create a CSV file with some sample data\n",
    "\n",
    "data = [\n",
    "    ['Name', 'Age'],\n",
    "    ['Alice', '30'],\n",
    "    ['Bob', '25'],\n",
    "    ['Charlie', '35']\n",
    "]\n",
    "\n",
    "with open('people.csv', 'w', newline='') as file:\n",
    "    writer = csv.writer(file)\n",
    "    writer.writerows(data)\n",
    "\n",
    "# b. Read the CSV file and print its contents\n",
    "\n",
    "print(\"CSV file contents:\")\n",
    "with open('people.csv', 'r') as file:\n",
    "    reader = csv.reader(file)\n",
    "    for row in reader:\n",
    "        print(', '.join(row))\n",
    "\n",
    "# c. Add new rows to the CSV file\n",
    "\n",
    "new_data = [\n",
    "    ['David', '40'],\n",
    "    ['Eve', '28']\n",
    "]\n",
    "\n",
    "with open('people.csv', 'a', newline='') as file:\n",
    "    writer = csv.writer(file)\n",
    "    writer.writerows(new_data)\n",
    "\n",
    "print(\"\\nUpdated CSV file contents:\")\n",
    "with open('people.csv', 'r') as file:\n",
    "    reader = csv.reader(file)\n",
    "    for row in reader:\n",
    "        print(', '.join(row))\n",
    "        "
   ]
  },
  {
   "cell_type": "markdown",
   "id": "75c70002-66c9-4e93-9057-17c75a9249e8",
   "metadata": {},
   "source": [
    "3. JSON File Handling:\n",
    "\n",
    "a. Create a dictionary with various data types and write it to a JSON file.\n",
    "b. Read the JSON file and reconstruct the dictionary."
   ]
  },
  {
   "cell_type": "code",
   "execution_count": null,
   "id": "e95eb7ab-2adb-47b2-b2fe-0ce1dd08fcb5",
   "metadata": {},
   "outputs": [],
   "source": [
    "import json\n",
    "\n",
    "# a. Create a dictionary with various data types and write it to a JSON file\n",
    "data = {\n",
    "    \"name\": \"John Doe\",\n",
    "    \"age\": 30,\n",
    "    \"city\": \"New York\",\n",
    "    \"is_student\": False,\n",
    "    \"grades\": [85, 90, 88, 92],\n",
    "    \"address\": {\n",
    "        \"street\": \"123 Main St\",\n",
    "        \"zip\": \"10001\"\n",
    "    }\n",
    "}\n",
    "\n",
    "with open('data.json', 'w') as file:\n",
    "    json.dump(data, file, indent=4)\n",
    "\n",
    "# b. Read the JSON file and reconstruct the dictionary\n",
    "with open('data.json', 'r') as file:\n",
    "    loaded_data = json.load(file)\n",
    "\n",
    "print(\"Loaded JSON data:\")\n",
    "print(json.dumps(loaded_data, indent=4))\n"
   ]
  },
  {
   "cell_type": "markdown",
   "id": "4bdd1616-fb75-4a7f-93f4-a10c889e4409",
   "metadata": {},
   "source": [
    "4. Error Handling:\n",
    "\n",
    "a. Write a function that takes two numbers as input and returns their division. Use a try-except block to handle the ZeroDivisionError.\n",
    "b. Create a program that asks the user for a filename and tries to open it. Use exception handling to deal with FileNotFoundError."
   ]
  },
  {
   "cell_type": "code",
   "execution_count": null,
   "id": "2a57811d-e046-478b-841c-f71e20684535",
   "metadata": {},
   "outputs": [],
   "source": [
    "# a. Division function with error handling\n",
    "\n",
    "def safe_divide(a, b):\n",
    "    try:\n",
    "        result = a / b\n",
    "        return result\n",
    "    except ZeroDivisionError:\n",
    "        print(\"Error: Division by zero!\")\n",
    "        return None\n",
    "\n",
    "print(safe_divide(10, 2))  # Should print 5.0\n",
    "print(safe_divide(10, 0))  # Should print error message and None\n",
    "\n",
    "# b. File opening with error handling\n",
    "\n",
    "def open_file(filename):\n",
    "    try:\n",
    "        with open(filename, 'r') as file:\n",
    "            content = file.read()\n",
    "            print(f\"Contents of {filename}:\")\n",
    "            print(content)\n",
    "    except FileNotFoundError:\n",
    "        print(f\"Error: The file '{filename}' was not found.\")\n",
    "    except PermissionError:\n",
    "        print(f\"Error: You don't have permission to read '{filename}'.\")\n",
    "    except Exception as e:\n",
    "        print(f\"An unexpected error occurred: {e}\")\n",
    "\n",
    "open_file('existing_file.txt')  \n",
    "open_file('non_existent_file.txt')  # Should print file not found error\n"
   ]
  },
  {
   "cell_type": "markdown",
   "id": "20116f9f-46d5-4a8c-ab8d-236983102f31",
   "metadata": {},
   "source": [
    "5. Custom Exceptions:\n",
    "\n",
    "a. Create a custom exception called NegativeNumberError.\n",
    "b. Write a function that calculates the square root of a number, raising your custom exception if the input is negative."
   ]
  },
  {
   "cell_type": "code",
   "execution_count": null,
   "id": "3917ac17-fadf-4b52-85ec-8c9b0ba6aa64",
   "metadata": {},
   "outputs": [],
   "source": [
    "import math\n",
    "\n",
    "class NegativeNumberError(Exception):\n",
    "    \"\"\"Exception raised for negative numbers in square root calculation.\"\"\"\n",
    "    pass\n",
    "\n",
    "def calculate_square_root(number):\n",
    "    if number < 0:\n",
    "        raise NegativeNumberError(\"Cannot calculate square root of a negative number.\")\n",
    "    return math.sqrt(number)\n",
    "\n",
    "# Test the function\n",
    "try:\n",
    "    print(calculate_square_root(16))  # Should print 4.0\n",
    "    print(calculate_square_root(-4))  # Should raise NegativeNumberError\n",
    "except NegativeNumberError as e:\n",
    "    print(f\"Error: {e}\")\n",
    "    "
   ]
  },
  {
   "cell_type": "markdown",
   "id": "42c69aea-ef9c-408b-90fd-a28a93c4c0ec",
   "metadata": {},
   "source": [
    "## ASSIGNMENT "
   ]
  },
  {
   "cell_type": "markdown",
   "id": "6e587e77-45ab-49ec-8896-e0ddd0d23213",
   "metadata": {},
   "source": [
    "Create a simple contact management system that:\n",
    "\n",
    "✓ Stores contacts (name, phone, email) in a CSV file\n",
    "\n",
    "✓ Allows adding new contacts\n",
    "\n",
    "✓ Enables searching for contacts by name\n",
    "\n",
    "✓ Provides functionality to update and delete contacts\n",
    "\n",
    "✓ Implements proper error handling for all operations\n",
    "\n",
    "✓ Uses JSON for exporting and importing contacts"
   ]
  },
  {
   "cell_type": "markdown",
   "id": "0f753483-af39-4703-8ad6-2dd0a1f92a78",
   "metadata": {},
   "source": [
    "## SOLUTION FOR THE ASSIGNMENT IS IMPLEMENTED ON Contact_Management_System.py UNDER ASSIGNMENT FOLDER\n",
    "\n",
    "Endeavor to read through the README.md of the Day 4 challenge."
   ]
  }
 ],
 "metadata": {
  "kernelspec": {
   "display_name": "Python 3 (ipykernel)",
   "language": "python",
   "name": "python3"
  },
  "language_info": {
   "codemirror_mode": {
    "name": "ipython",
    "version": 3
   },
   "file_extension": ".py",
   "mimetype": "text/x-python",
   "name": "python",
   "nbconvert_exporter": "python",
   "pygments_lexer": "ipython3",
   "version": "3.11.4"
  }
 },
 "nbformat": 4,
 "nbformat_minor": 5
}
