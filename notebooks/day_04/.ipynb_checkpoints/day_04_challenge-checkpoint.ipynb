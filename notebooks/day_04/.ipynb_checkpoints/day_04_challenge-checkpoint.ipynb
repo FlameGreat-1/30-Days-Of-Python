{
 "cells": [
  {
   "cell_type": "markdown",
   "id": "e2aa522e",
   "metadata": {},
   "source": [
    "# Day 4 Challenge\n",
    "\n",
    "## Topics:\n",
    "\n",
    "## Exercises:\n",
    "\n",
    "## Notes:"
   ]
  }
 ],
 "metadata": {},
 "nbformat": 4,
 "nbformat_minor": 5
}
