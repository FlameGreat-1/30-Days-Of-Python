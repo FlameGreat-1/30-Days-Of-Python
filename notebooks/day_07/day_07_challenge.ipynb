{
 "cells": [
  {
   "cell_type": "markdown",
   "id": "f0148e67",
   "metadata": {},
   "source": [
    "# Day 7 Challenge\n",
    "\n",
    "## Topics:\n",
    "\n",
    "## Exercises:\n",
    "\n",
    "## Notes:"
   ]
  }
 ],
 "metadata": {},
 "nbformat": 4,
 "nbformat_minor": 5
}
