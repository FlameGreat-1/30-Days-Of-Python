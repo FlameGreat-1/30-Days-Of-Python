{
 "cells": [
  {
   "cell_type": "markdown",
   "metadata": {},
   "source": [
    "# Advanced Pandas Operations - Exercises and Solutions\n",
    "\n",
    "This notebook contains exercises to reinforce your understanding of advanced Pandas operations, along with their solutions."
   ]
  },
  {
   "cell_type": "code",
   "execution_count": 1,
   "metadata": {},
   "outputs": [],
   "source": [
    "import pandas as pd\n",
    "import numpy as np\n",
    "import matplotlib.pyplot as plt\n",
    "\n",
    "# Set random seed for reproducibility\n",
    "np.random.seed(42)"
   ]
  },
  {
   "cell_type": "markdown",
   "metadata": {},
   "source": [
    "## Exercise 1: Complex Filtering Operations\n",
    "\n",
    "Create a DataFrame with at least 1000 rows and 5 columns of various data types. Perform complex filtering operations using boolean indexing and .loc/.iloc."
   ]
  },
  {
   "cell_type": "code",
   "execution_count": 2,
   "metadata": {},
   "outputs": [
    {
     "name": "stdout",
     "output_type": "stream",
     "text": [
      "    A  B         C          D      E\n",
      "0  52  Y  0.651409 2023-01-01   True\n",
      "1  93  Z  1.976544 2023-01-02   True\n",
      "2  15  Z  1.351478 2023-01-03  False\n",
      "3  72  X  0.464135 2023-01-04  False\n",
      "4  61  Y -0.579701 2023-01-05  False\n",
      "\n",
      "Filtered DataFrame:\n",
      "      A  B         C          D      E\n",
      "3    72  X  0.464135 2023-01-04  False\n",
      "8    75  X  0.650282 2023-01-09  False\n",
      "374  53  X  0.816117 2024-01-10   True\n",
      "379  63  X  0.553833 2024-01-15   True\n",
      "390  67  X  0.808929 2024-01-26   True\n",
      "759  63  X  0.241048 2025-01-29   True\n",
      "\n",
      "Filtered using .loc:\n",
      "     B         C          D\n",
      "1    Z  1.976544 2023-01-02\n",
      "24   Z -1.344685 2023-01-25\n",
      "27   Z  0.351755 2023-01-28\n",
      "29   Y  0.502790 2023-01-30\n",
      "32   Y  0.873783 2023-02-02\n",
      "..  ..       ...        ...\n",
      "942  Y -0.545446 2025-07-31\n",
      "954  X -0.083601 2025-08-12\n",
      "956  Y  2.673511 2025-08-14\n",
      "957  X  0.956834 2025-08-15\n",
      "978  Y  1.084527 2025-09-05\n",
      "\n",
      "[112 rows x 3 columns]\n",
      "\n",
      "Filtered using .iloc:\n",
      "     A         C      E\n",
      "10  88 -0.298303  False\n",
      "11  24  2.163656   True\n",
      "12   3 -1.557583  False\n",
      "13  22  1.054364   True\n",
      "14  53  1.671520   True\n",
      "15   2 -0.204031  False\n",
      "16  88 -0.186057  False\n",
      "17  30  1.042765   True\n",
      "18  38  0.505991   True\n",
      "19   2 -1.997411  False\n"
     ]
    }
   ],
   "source": [
    "# Create the DataFrame\n",
    "df = pd.DataFrame({\n",
    "    'A': np.random.randint(1, 100, 1000),\n",
    "    'B': np.random.choice(['X', 'Y', 'Z'], 1000),\n",
    "    'C': np.random.randn(1000),\n",
    "    'D': pd.date_range(start='2023-01-01', periods=1000),\n",
    "    'E': np.random.choice(['True', 'False'], 1000)\n",
    "})\n",
    "\n",
    "# Display the first few rows\n",
    "print(df.head())\n",
    "\n",
    "# Complex filtering using boolean indexing\n",
    "filtered_df = df[(df['A'] > 50) & (df['B'] == 'X') & (df['C'] > 0) & (df['D'].dt.month == 1)]\n",
    "print(\"\\nFiltered DataFrame:\")\n",
    "print(filtered_df)\n",
    "\n",
    "# Using .loc for label-based indexing\n",
    "loc_filtered = df.loc[(df['A'] > 75) & (df['E'] == 'True'), ['B', 'C', 'D']]\n",
    "print(\"\\nFiltered using .loc:\")\n",
    "print(loc_filtered)\n",
    "\n",
    "# Using .iloc for integer-based indexing\n",
    "iloc_filtered = df.iloc[10:20, [0, 2, 4]]\n",
    "print(\"\\nFiltered using .iloc:\")\n",
    "print(iloc_filtered)"
   ]
  },
  {
   "cell_type": "markdown",
   "metadata": {},
   "source": [
    "## Exercise 2: Creating New Columns and Applying Functions\n",
    "\n",
    "Using the same DataFrame, create new columns based on complex conditions and apply custom functions using apply() and applymap()."
   ]
  },
  {
   "cell_type": "code",
   "execution_count": 3,
   "metadata": {},
   "outputs": [
    {
     "name": "stdout",
     "output_type": "stream",
     "text": [
      "    A  B         C          D      E       F       G\n",
      "0  52  Y  0.651409 2023-01-01   True  Medium  Medium\n",
      "1  93  Z  1.976544 2023-01-02   True     Low    High\n",
      "2  15  Z  1.351478 2023-01-03  False     Low    High\n",
      "3  72  X  0.464135 2023-01-04  False    High  Medium\n",
      "4  61  Y -0.579701 2023-01-05  False  Medium     Low\n",
      "\n",
      "Formatted DataFrame:\n",
      "    A  B      C                    D      E       F       G\n",
      "0  52  Y   0.65  2023-01-01 00:00:00   True  Medium  Medium\n",
      "1  93  Z   1.98  2023-01-02 00:00:00   True     Low    High\n",
      "2  15  Z   1.35  2023-01-03 00:00:00  False     Low    High\n",
      "3  72  X   0.46  2023-01-04 00:00:00  False    High  Medium\n",
      "4  61  Y  -0.58  2023-01-05 00:00:00  False  Medium     Low\n"
     ]
    },
    {
     "name": "stderr",
     "output_type": "stream",
     "text": [
      "/data/user/0/ru.iiec.pydroid3/cache/ipykernel_18996/2445609217.py:20: FutureWarning: DataFrame.applymap has been deprecated. Use DataFrame.map instead.\n",
      "  df_formatted = df.applymap(lambda x: f\"{x:.2f}\" if isinstance(x, float) else str(x))\n"
     ]
    }
   ],
   "source": [
    "# Create a new column based on complex conditions\n",
    "df['F'] = np.where((df['A'] > 50) & (df['B'] == 'X'), 'High', \n",
    "                   np.where((df['A'] > 25) & (df['B'] == 'Y'), 'Medium', 'Low'))\n",
    "\n",
    "# Custom function to apply to a column\n",
    "def categorize_c(value):\n",
    "    if value < -1:\n",
    "        return 'Very Low'\n",
    "    elif -1 <= value < 0:\n",
    "        return 'Low'\n",
    "    elif 0 <= value < 1:\n",
    "        return 'Medium'\n",
    "    else:\n",
    "        return 'High'\n",
    "\n",
    "# Apply the custom function to column C\n",
    "df['G'] = df['C'].apply(categorize_c)\n",
    "\n",
    "# Use applymap to apply a function to every element\n",
    "df_formatted = df.applymap(lambda x: f\"{x:.2f}\" if isinstance(x, float) else str(x))\n",
    "\n",
    "print(df.head())\n",
    "print(\"\\nFormatted DataFrame:\")\n",
    "print(df_formatted.head())"
   ]
  },
  {
   "cell_type": "markdown",
   "metadata": {},
   "source": [
    "## Exercise 3: Advanced GroupBy Operations\n",
    "\n",
    "Perform advanced groupby operations with multiple columns and custom aggregation functions."
   ]
  },
  {
   "cell_type": "code",
   "execution_count": 4,
   "metadata": {},
   "outputs": [
    {
     "name": "stdout",
     "output_type": "stream",
     "text": [
      "             A_mean  C_median E_mode  count\n",
      "B F                                        \n",
      "X High    74.720930 -0.057768  False    172\n",
      "  Low     25.369697 -0.004699   True    165\n",
      "Y Low     12.103448 -0.027158  False     87\n",
      "  Medium  63.585366  0.178578   True    246\n",
      "Z Low     47.960606  0.068112   True    330\n"
     ]
    }
   ],
   "source": [
    "# Group by multiple columns\n",
    "grouped = df.groupby(['B', 'F'])\n",
    "\n",
    "# Custom aggregation function\n",
    "def custom_agg(x):\n",
    "    return pd.Series({\n",
    "        'A_mean': x['A'].mean(),\n",
    "        'C_median': x['C'].median(),\n",
    "        'E_mode': x['E'].mode().iloc[0],\n",
    "        'count': len(x)\n",
    "    })\n",
    "\n",
    "# Apply custom aggregation\n",
    "result = grouped.apply(custom_agg)\n",
    "print(result)"
   ]
  },
  {
   "cell_type": "markdown",
   "metadata": {},
   "source": [
    "## Exercise 4: Time Series Operations\n",
    "\n",
    "Create a time series DataFrame and perform resampling, rolling window calculations, and time-based indexing operations."
   ]
  },
  {
   "cell_type": "code",
   "execution_count": 5,
   "metadata": {},
   "outputs": [
    {
     "name": "stdout",
     "output_type": "stream",
     "text": [
      "Monthly resampled data:\n",
      "               value\n",
      "date                \n",
      "2023-01-31  0.241367\n",
      "2023-02-28 -0.082185\n",
      "2023-03-31  0.043465\n",
      "2023-04-30 -0.169617\n",
      "2023-05-31 -0.223053\n",
      "2023-06-30  0.278560\n",
      "2023-07-31 -0.187679\n",
      "2023-08-31  0.112012\n",
      "2023-09-30  0.165463\n",
      "2023-10-31  0.183575\n",
      "2023-11-30 -0.091846\n",
      "2023-12-31  0.420903\n",
      "\n",
      "Q1 2023 data:\n",
      "               value  7d_rolling_avg\n",
      "date                                \n",
      "2023-01-01  1.765709             NaN\n",
      "2023-01-02 -0.627883             NaN\n",
      "2023-01-03 -0.885954             NaN\n",
      "2023-01-04 -0.091174             NaN\n",
      "2023-01-05  2.045817             NaN\n",
      "...              ...             ...\n",
      "2023-03-27 -0.158617        0.016906\n",
      "2023-03-28  0.042483       -0.209331\n",
      "2023-03-29 -1.003891       -0.285148\n",
      "2023-03-30  0.856059       -0.158487\n",
      "2023-03-31  0.957790        0.075619\n",
      "\n",
      "[90 rows x 2 columns]\n"
     ]
    }
   ],
   "source": [
    "# Create a time series DataFrame\n",
    "dates = pd.date_range(start='2023-01-01', end='2023-12-31', freq='D')\n",
    "ts_df = pd.DataFrame({\n",
    "    'date': dates,\n",
    "    'value': np.random.randn(len(dates))\n",
    "})\n",
    "ts_df.set_index('date', inplace=True)\n",
    "\n",
    "# Resample to monthly frequency\n",
    "monthly = ts_df.resample('M').mean()\n",
    "print(\"Monthly resampled data:\")\n",
    "print(monthly)\n",
    "\n",
    "# Calculate 7-day rolling average\n",
    "ts_df['7d_rolling_avg'] = ts_df['value'].rolling(window=7).mean()\n",
    "\n",
    "# Time-based indexing\n",
    "q1_data = ts_df['2023-01-01':'2023-03-31']\n",
    "print(\"\\nQ1 2023 data:\")\n",
    "print(q1_data)\n",
    "\n",
    "# Plot the original data and the rolling average\n",
    "plt.figure(figsize=(12, 6))\n",
    "plt.plot(ts_df.index, ts_df['value'], label='Original')\n",
    "plt.plot(ts_df.index, ts_df['7d_rolling_avg'], label='7-day Rolling Avg')\n",
    "plt.legend()\n",
    "plt.title('Time Series Data with Rolling Average')\n",
    "plt.show()"
   ]
  },
  {
   "cell_type": "markdown",
   "metadata": {},
   "source": [
    "## Exercise 5: Merging DataFrames\n",
    "\n",
    "Merge multiple DataFrames using different join types and handle cases with missing data."
   ]
  },
  {
   "cell_type": "code",
   "execution_count": 6,
   "metadata": {},
   "outputs": [
    {
     "name": "stdout",
     "output_type": "stream",
     "text": [
      "Inner Join:\n",
      "   id     name  age      city  salary\n",
      "0   3  Charlie   35  New York   50000\n",
      "1   4    David   40    London   60000\n",
      "2   5      Eve   45     Paris   70000\n",
      "\n",
      "Outer Join:\n",
      "   id     name   age      city   salary\n",
      "0   1    Alice  25.0       NaN      NaN\n",
      "1   2      Bob  30.0       NaN      NaN\n",
      "2   3  Charlie  35.0  New York  50000.0\n",
      "3   4    David  40.0    London  60000.0\n",
      "4   5      Eve  45.0     Paris  70000.0\n",
      "5   6      NaN   NaN     Tokyo  80000.0\n",
      "6   7      NaN   NaN    Sydney  90000.0\n",
      "\n",
      "Left Join:\n",
      "   id     name  age      city   salary\n",
      "0   1    Alice   25       NaN      NaN\n",
      "1   2      Bob   30       NaN      NaN\n",
      "2   3  Charlie   35  New York  50000.0\n",
      "3   4    David   40    London  60000.0\n",
      "4   5      Eve   45     Paris  70000.0\n",
      "\n",
      "Filled Join:\n",
      "   id     name   age      city   salary\n",
      "0   1    Alice  25.0   Unknown      0.0\n",
      "1   2      Bob  30.0   Unknown      0.0\n",
      "2   3  Charlie  35.0  New York  50000.0\n",
      "3   4    David  40.0    London  60000.0\n",
      "4   5      Eve  45.0     Paris  70000.0\n",
      "5   6      NaN   NaN     Tokyo  80000.0\n",
      "6   7      NaN   NaN    Sydney  90000.0\n"
     ]
    }
   ],
   "source": [
    "# Create sample DataFrames\n",
    "df1 = pd.DataFrame({\n",
    "    'id': range(1, 6),\n",
    "    'name': ['Alice', 'Bob', 'Charlie', 'David', 'Eve'],\n",
    "    'age': [25, 30, 35, 40, 45]\n",
    "})\n",
    "\n",
    "df2 = pd.DataFrame({\n",
    "    'id': range(3, 8),\n",
    "    'city': ['New York', 'London', 'Paris', 'Tokyo', 'Sydney'],\n",
    "    'salary': [50000, 60000, 70000, 80000, 90000]\n",
    "})\n",
    "\n",
    "# Inner join\n",
    "inner_join = pd.merge(df1, df2, on='id', how='inner')\n",
    "print(\"Inner Join:\")\n",
    "print(inner_join)\n",
    "\n",
    "# Outer join\n",
    "outer_join = pd.merge(df1, df2, on='id', how='outer')\n",
    "print(\"\\nOuter Join:\")\n",
    "print(outer_join)\n",
    "\n",
    "# Left join\n",
    "left_join = pd.merge(df1, df2, on='id', how='left')\n",
    "print(\"\\nLeft Join:\")\n",
    "print(left_join)\n",
    "\n",
    "# Handle missing data\n",
    "filled_join = outer_join.fillna({'city': 'Unknown', 'salary': 0})\n",
    "print(\"\\nFilled Join:\")\n",
    "print(filled_join)"
   ]
  },
  {
   "cell_type": "markdown",
   "metadata": {},
   "source": [
    "## Exercise 6: Performance Optimization\n",
    "\n",
    "Optimize a large DataFrame (>1 million rows) using categorical data types and vectorization techniques. Compare the performance before and after optimization."
   ]
  },
  {
   "cell_type": "code",
   "execution_count": 7,
   "metadata": {},
   "outputs": [
    {
     "name": "stdout",
     "output_type": "stream",
     "text": [
      "Memory usage before optimization:\n",
      "Index             72\n",
      "id           4000000\n",
      "category    30000000\n",
      "value        8000000\n",
      "dtype: int64\n",
      "\n",
      "Memory usage after optimization:\n",
      "Index            72\n",
      "id          4000000\n",
      "category    1000246\n",
      "value       8000000\n",
      "dtype: int64\n",
      "CPU times: user 1.33 s, sys: 46.7 ms, total: 1.37 s\n",
      "Wall time: 1.41 s\n",
      "CPU times: user 147 ms, sys: 26.7 ms, total: 173 ms\n",
      "Wall time: 237 ms\n",
      "\n",
      "Note the significant performance difference between the slow and fast operations.\n"
     ]
    }
   ],
   "source": [
    "# Create a large DataFrame\n",
    "large_df = pd.DataFrame({\n",
    "    'id': np.arange(1_000_000),\n",
    "    'category': np.random.choice(['A', 'B', 'C', 'D', 'E'], 1_000_000),\n",
    "    'value': np.random.randn(1_000_000)\n",
    "})\n",
    "\n",
    "# Memory usage before optimization\n",
    "print(\"Memory usage before optimization:\")\n",
    "print(large_df.memory_usage(deep=True))\n",
    "\n",
    "# Optimize using categorical data type\n",
    "large_df['category'] = large_df['category'].astype('category')\n",
    "\n",
    "# Memory usage after optimization\n",
    "print(\"\\nMemory usage after optimization:\")\n",
    "print(large_df.memory_usage(deep=True))\n",
    "\n",
    "# Performance comparison for a simple operation\n",
    "def slow_operation(df):\n",
    "    return [x + 1 if x > 0 else x for x in df['value']]\n",
    "\n",
    "def fast_operation(df):\n",
    "    return np.where(df['value'] > 0, df['value'] + 1, df['value'])\n",
    "\n",
    "%time _ = slow_operation(large_df)\n",
    "%time _ = fast_operation(large_df)\n",
    "\n",
    "print(\"\\nNote the significant performance difference between the slow and fast operations.\")"
   ]
  },
  {
   "cell_type": "markdown",
   "metadata": {},
   "source": [
    "These exercises cover a wide range of advanced Pandas operations and should help reinforce your understanding of the concepts. Remember to experiment with different parameters and try these techniques on your own datasets to gain more practical experience."
   ]
  }
 ],
 "metadata": {
  "kernelspec": {
   "display_name": "Python 3 (ipykernel)",
   "language": "python",
   "name": "python3"
  },
  "language_info": {
   "codemirror_mode": {
    "name": "ipython",
    "version": 3
   },
   "file_extension": ".py",
   "mimetype": "text/x-python",
   "name": "python",
   "nbconvert_exporter": "python",
   "pygments_lexer": "ipython3",
   "version": "3.11.4"
  }
 },
 "nbformat": 4,
 "nbformat_minor": 4
}
