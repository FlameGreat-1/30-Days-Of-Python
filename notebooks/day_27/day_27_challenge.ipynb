{
 "cells": [
  {
   "cell_type": "markdown",
   "id": "43a6e0e9",
   "metadata": {},
   "source": [
    "# Day 27 Challenge\n",
    "\n",
    "## Topics:\n",
    "\n",
    "## Exercises:\n",
    "\n",
    "## Notes:"
   ]
  }
 ],
 "metadata": {},
 "nbformat": 4,
 "nbformat_minor": 5
}
