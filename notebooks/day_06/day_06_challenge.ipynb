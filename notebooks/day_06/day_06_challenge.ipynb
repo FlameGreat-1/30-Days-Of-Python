{
 "cells": [
  {
   "cell_type": "markdown",
   "id": "5752682d",
   "metadata": {},
   "source": [
    "# Day 6 Challenge\n",
    "\n",
    "## Topics:\n",
    "\n",
    "## Exercises:\n",
    "\n",
    "## Notes:"
   ]
  }
 ],
 "metadata": {},
 "nbformat": 4,
 "nbformat_minor": 5
}
