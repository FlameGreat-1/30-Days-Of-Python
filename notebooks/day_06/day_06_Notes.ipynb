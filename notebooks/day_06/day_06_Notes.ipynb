{
 "cells": [
  {
   "cell_type": "markdown",
   "id": "a1b2c3d4",
   "metadata": {},
   "source": [
    "# Advanced NumPy for Data Analysis and Scientific Computing\n",
    "\n",
    "## 1. NumPy Fundamentals\n",
    "\n",
    "NumPy (Numerical Python) is a fundamental package for scientific computing in Python. It provides support for large, multi-dimensional arrays and matrices, along with a collection of mathematical functions to operate on these arrays efficiently.\n",
    "\n",
    "### Why NumPy?\n",
    "\n",
    "1. **Performance**: NumPy operations are implemented in C, making them much faster than equivalent Python code.\n",
    "2. **Memory Efficiency**: NumPy arrays use less memory and provide better memory management than Python lists.\n",
    "3. **Convenience**: NumPy provides a wide range of mathematical operations on arrays, making scientific computing more accessible.\n",
    "\n",
    "### NumPy Arrays vs Python Lists\n",
    "\n",
    "Let's compare NumPy arrays with Python lists:"
   ]
  },
  {
   "cell_type": "code",
   "execution_count": null,
   "id": "b2c3d4e5",
   "metadata": {},
   "outputs": [],
   "source": [
    "import numpy as np\n",
    "import sys\n",
    "\n",
    "# Python list\n",
    "py_list = [1, 2, 3, 4, 5]\n",
    "\n",
    "# NumPy array\n",
    "np_array = np.array([1, 2, 3, 4, 5])\n",
    "\n",
    "print(f\"Python list size: {sys.getsizeof(py_list) * len(py_list)} bytes\")\n",
    "print(f\"NumPy array size: {np_array.nbytes} bytes\")"
   ]
  },
  {
   "cell_type": "markdown",
   "id": "c3d4e5f6",
   "metadata": {},
   "source": [
    "You'll notice that the NumPy array uses significantly less memory.\n",
    "\n",
    "### Performance Comparison\n",
    "\n",
    "Let's compare the performance of NumPy arrays vs Python lists for a simple operation:"
   ]
  },
  {
   "cell_type": "code",
   "execution_count": null,
   "id": "d4e5f6g7",
   "metadata": {},
   "outputs": [],
   "source": [
    "import time\n",
    "\n",
    "# Python list operation\n",
    "start_time = time.time()\n",
    "result = [x**2 for x in range(1000000)]\n",
    "end_time = time.time()\n",
    "print(f\"Python list operation time: {end_time - start_time} seconds\")\n",
    "\n",
    "# NumPy array operation\n",
    "start_time = time.time()\n",
    "np_array = np.arange(1000000)\n",
    "result = np_array**2\n",
    "end_time = time.time()\n",
    "print(f\"NumPy array operation time: {end_time - start_time} seconds\")"
   ]
  },
  {
   "cell_type": "markdown",
   "id": "e5f6g7h8",
   "metadata": {},
   "source": [
    "The NumPy operation is significantly faster, especially for large arrays.\n",
    "\n",
    "## 2. Creating and Manipulating NumPy Arrays\n",
    "\n",
    "### Creating Arrays\n",
    "\n",
    "NumPy provides several functions to create arrays:"
   ]
  },
  {
   "cell_type": "code",
   "execution_count": null,
   "id": "f6g7h8i9",
   "metadata": {},
   "outputs": [],
   "source": [
    "# Create array from Python list\n",
    "a = np.array([1, 2, 3, 4, 5])\n",
    "print(\"From list:\", a)\n",
    "\n",
    "# Create array of zeros\n",
    "b = np.zeros((3, 3))\n",
    "print(\"Zeros:\\n\", b)\n",
    "\n",
    "# Create array of ones\n",
    "c = np.ones((2, 4))\n",
    "print(\"Ones:\\n\", c)\n",
    "\n",
    "# Create array with a range of elements\n",
    "d = np.arange(0, 10, 2)\n",
    "print(\"Arange:\", d)\n",
    "\n",
    "# Create array with evenly spaced elements\n",
    "e = np.linspace(0, 1, 5)\n",
    "print(\"Linspace:\", e)"
   ]
  },
  {
   "cell_type": "markdown",
   "id": "g7h8i9j0",
   "metadata": {},
   "source": [
    "### Reshaping Arrays\n",
    "\n",
    "You can change the shape of an array without changing its data:"
   ]
  },
  {
   "cell_type": "code",
   "execution_count": null,
   "id": "h8i9j0k1",
   "metadata": {},
   "outputs": [],
   "source": [
    "a = np.arange(12)\n",
    "print(\"Original:\", a)\n",
    "\n",
    "# Reshape to 2D array\n",
    "b = a.reshape((3, 4))\n",
    "print(\"Reshaped:\\n\", b)\n",
    "\n",
    "# Flatten array\n",
    "c = b.ravel()\n",
    "print(\"Flattened:\", c)"
   ]
  },
  {
   "cell_type": "markdown",
   "id": "i9j0k1l2",
   "metadata": {},
   "source": [
    "### Array Attributes\n",
    "\n",
    "NumPy arrays have several useful attributes:"
   ]
  },
  {
   "cell_type": "code",
   "execution_count": null,
   "id": "j0k1l2m3",
   "metadata": {},
   "outputs": [],
   "source": [
    "a = np.array([[1, 2, 3], [4, 5, 6]])\n",
    "print(\"Array:\\n\", a)\n",
    "print(\"Shape:\", a.shape)\n",
    "print(\"Dimensions:\", a.ndim)\n",
    "print(\"Size:\", a.size)\n",
    "print(\"Data type:\", a.dtype)"
   ]
  },
  {
   "cell_type": "markdown",
   "id": "k1l2m3n4",
   "metadata": {},
   "source": [
    "### Array Slicing and Indexing\n",
    "\n",
    "NumPy provides powerful indexing capabilities:"
   ]
  },
  {
   "cell_type": "code",
   "execution_count": null,
   "id": "l2m3n4o5",
   "metadata": {},
   "outputs": [],
   "source": [
    "a = np.array([[1, 2, 3, 4], [5, 6, 7, 8], [9, 10, 11, 12]])\n",
    "print(\"Array:\\n\", a)\n",
    "\n",
    "# Basic slicing\n",
    "print(\"First row:\", a[0])\n",
    "print(\"First two rows:\\n\", a[:2])\n",
    "print(\"First and third column:\\n\", a[:, [0, 2]])\n",
    "\n",
    "# Boolean indexing\n",
    "print(\"Elements greater than 5:\\n\", a[a > 5])\n",
    "\n",
    "# Fancy indexing\n",
    "indices = np.array([0, 2])\n",
    "print(\"First and third row:\\n\", a[indices])"
   ]
  },
  {
   "cell_type": "markdown",
   "id": "m3n4o5p6",
   "metadata": {},
   "source": [
    "## 3. NumPy Operations\n",
    "\n",
    "### Universal Functions (ufuncs)\n",
    "\n",
    "Ufuncs operate element-wise on arrays:"
   ]
  },
  {
   "cell_type": "code",
   "execution_count": null,
   "id": "n4o5p6q7",
   "metadata": {},
   "outputs": [],
   "source": [
    "a = np.array([1, 2, 3, 4])\n",
    "b = np.array([5, 6, 7, 8])\n",
    "\n",
    "print(\"a + b =\", np.add(a, b))\n",
    "print(\"a - b =\", np.subtract(a, b))\n",
    "print(\"a * b =\", np.multiply(a, b))\n",
    "print(\"a / b =\", np.divide(a, b))\n",
    "print(\"a ** 2 =\", np.power(a, 2))"
   ]
  },
  {
   "cell_type": "markdown",
   "id": "o5p6q7r8",
   "metadata": {},
   "source": [
    "### Broadcasting\n",
    "\n",
    "Broadcasting allows NumPy to work with arrays of different shapes:"
   ]
  },
  {
   "cell_type": "code",
   "execution_count": null,
   "id": "p6q7r8s9",
   "metadata": {},
   "outputs": [],
   "source": [
    "a = np.array([[1, 2, 3], [4, 5, 6]])\n",
    "b = np.array([10, 20, 30])\n",
    "\n",
    "print(\"a:\\n\", a)\n",
    "print(\"b:\", b)\n",
    "print(\"a + b:\\n\", a + b)"
   ]
  },
  {
   "cell_type": "markdown",
   "id": "q7r8s9t0",
   "metadata": {},
   "source": [
    "### Statistical Functions\n",
    "\n",
    "NumPy provides many statistical functions:"
   ]
  },
  {
   "cell_type": "code",
   "execution_count": null,
   "id": "r8s9t0u1",
   "metadata": {},
   "outputs": [],
   "source": [
    "a = np.array([[1, 2, 3], [4, 5, 6]])\n",
    "print(\"Array:\\n\", a)\n",
    "print(\"Mean:\", np.mean(a))\n",
    "print(\"Median:\", np.median(a))\n",
    "print(\"Standard deviation:\", np.std(a))\n",
    "print(\"Variance:\", np.var(a))"
   ]
  },
  {
   "cell_type": "markdown",
   "id": "s9t0u1v2",
   "metadata": {},
   "source": [
    "### Linear Algebra Operations\n",
    "\n",
    "NumPy includes basic linear algebra operations:"
   ]
  },
  {
   "cell_type": "code",
   "execution_count": null,
   "id": "t0u1v2w3",
   "metadata": {},
   "outputs": [],
   "source": [
    "a = np.array([[1, 2], [3, 4]])\n",
    "b = np.array([[5, 6], [7, 8]])\n",
    "\n",
    "print(\"Matrix multiplication:\\n\", np.dot(a, b))\n",
    "print(\"Determinant:\", np.linalg.det(a))\n",
    "print(\"Inverse:\\n\", np.linalg.inv(a))"
   ]
  },
  {
   "cell_type": "markdown",
   "id": "u1v2w3x4",
   "metadata": {},
   "source": [
    "## 4. Advanced Array Manipulation\n",
    "\n",
    "### Stacking Arrays\n",
    "\n",
    "You can combine arrays using various stacking functions:"
   ]
  },
  {
   "cell_type": "code",
   "execution_count": null,
   "id": "v2w3x4y5",
   "metadata": {},
   "outputs": [],
   "source": [
    "a = np.array([1, 2, 3])\n",
    "b = np.array([4, 5, 6])\n",
    "\n",
    "print(\"Vertical stack:\\n\", np.vstack((a, b)))\n",
    "print(\"Horizontal stack:\", np.hstack((a, b)))\n",
    "print(\"Column stack:\\n\", np.column_stack((a, b)))"
   ]
  },
  {
   "cell_type": "markdown",
   "id": "w3x4y5z6",
   "metadata": {},
   "source": [
    "### Splitting Arrays\n",
    "\n",
    "Arrays can be split into smaller arrays:"
   ]
  },
  {
   "cell_type": "code",
   "execution_count": null,
   "id": "x4y5z6a7",
   "metadata": {},
   "outputs": [],
   "source": [
    "a = np.arange(9).reshape(3, 3)\n",
    "print(\"Original array:\\n\", a)\n",
    "\n",
    "print(\"Horizontal split:\", np.hsplit(a, 3))\n",
    "print(\"Vertical split:\", np.vsplit(a, 3))"
   ]
  },
  {
   "cell_type": "markdown",
   "id": "y5z6a7b8",
   "metadata": {},
   "source": [
    "### Repeating Arrays\n",
    "\n",
    "You can repeat arrays using `repeat()` and `tile()`:"
   ]
  },
  {
   "cell_type": "code",
   "execution_count": null,
   "id": "z6a7b8c9",
   "metadata": {},
   "outputs": [],
   "source": [
    "a = np.array([1, 2, 3])\n",
    "print(\"Original array:\", a)\n",
    "print(\"Repeat:\", np.repeat(a, 3))\n",
    "print(\"Tile:\", np.tile(a, 3))"
   ]
  },
  {
   "cell_type": "markdown",
   "id": "a7b8c9d0",
   "metadata": {},
   "source": [
    "## 5. Random Number Generation\n",
    "\n",
    "NumPy's random module provides various functions for random number generation:"
   ]
  },
  {
   "cell_type": "code",
   "execution_count": null,
   "id": "b8c9d0e1",
   "metadata": {},
   "outputs": [],
   "source": [
    "# Set seed for reproducibility\n",
    "np.random.seed(0)\n",
    "\n",
    "# Generate random floats\n",
    "print(\"Random floats:\", np.random.rand(5))\n",
    "\n",
    "# Generate random integers\n",
    "print(\"Random integers:\", np.random.randint(1, 10, 5))\n",
    "\n",
    "# Generate random floats from normal distribution\n",
    "print(\"Random normal:\", np.random.randn(5))"
   ]
  },
  {
   "cell_type": "markdown",
   "id": "c9d0e1f2",
   "metadata": {},
   "source": [
    "## 6. File I/O with NumPy\n",
    "\n",
    "NumPy provides functions to save and load array data:"
   ]
  },
  {
   "cell_type": "code",
   "execution_count": null,
   "id": "d0e1f2g3",
   "metadata": {},
   "outputs": [],
   "source": [
    "# Save array to file\n",
    "a = np.array([1, 2, 3, 4, 5])\n",
    "np.save('my_array.npy', a)\n",
    "\n",
    "# Load array from file\n",
    "b = np.load('my_array.npy')\n",
    "print(\"Loaded array:\", b)\n",
    "\n",
    "# Save and load multiple arrays\n",
    "x = np.array([1, 2, 3])\n",
    "y = np.array([4, 5, 6])\n",
    "np.savez('arrays.npz', x=x, y=y)\n",
    "\n",
    "loaded = np.load('arrays.npz')\n",
    "print(\"Loaded x:\", loaded['x'])\n",
    "print(\"Loaded y:\", loaded['y'])\n",
    "\n",
    "# Working with CSV files\n",
    "np.savetxt('array.csv', a, delimiter=',')\n",
    "c = np.genfromtxt('array.csv', delimiter=',')\n",
    "print(\"Loaded from CSV:\", c)"
   ]
  },
  {
   "cell_type": "markdown",
   "id": "e1f2g3h4",
   "metadata": {},
   "source": [
    "## 7. Performance Optimization\n",
    "\n",
    "### Vectorization\n",
    "\n",
    "Vectorization is the process of replacing explicit loops with array operations. It's a key technique for optimizing NumPy code:"
   ]
  },
  {
   "cell_type": "code",
   "execution_count": null,
   "id": "f2g3h4i5",
   "metadata": {},
   "outputs": [],
   "source": [
    "import time\n",
    "\n",
    "# Non-vectorized operation\n",
    "def square_loop(n):\n",
    "    result = []\n",
    "    for i in range(n):\n",
    "        result.append(i**2)\n",
    "    return result\n",
    "\n",
    "# Vectorized operation\n",
    "def square_vector(n):\n",
    "    return np.arange(n)**2\n",
    "\n",
    "n = 1000000\n",
    "\n",
    "start = time.time()\n",
    "result_loop = square_loop(n)\n",
    "print(f\"Loop time: {time.time() - start}\")\n",
    "\n",
    "start = time.time()\n",
    "result_vector = square_vector(n)\n",
    "print(f\"Vector time: {time.time() - start}\")"
   ]
  },
  {
   "cell_type": "markdown",
   "id": "g3h4i5j6",
   "metadata": {},
   "source": [
    "### Using np.vectorize()\n",
    "\n",
    "For custom functions, you can use `np.vectorize()` to create a vectorized version:"
   ]
  },
  {
   "cell_type": "code",
   "execution_count": null,
   "id": "h4i5j6k7",
   "metadata": {},
   "outputs": [],
   "source": [
    "def custom_func(x):\n",
    "    if x < 0:\n",
    "        return x**2\n",
    "    else:\n",
    "        return x**3\n",
    "\n",
    "vectorized_func = np.vectorize(custom_func)\n",
    "\n",
    "a = np.array([-2, -1, 0, 1, 2])\n",
    "print(\"Original array:\", a)\n",
    "print(\"After custom function:\", vectorized_func(a))"
   ]
  }
 ],
 "metadata": {
  "kernelspec": {
   "display_name": "Python 3 (ipykernel)",
   "language": "python",
   "name": "python3"
  },
  "language_info": {
   "codemirror_mode": {
    "name": "ipython",
    "version": 3
   },
   "file_extension": ".py",
   "mimetype": "text/x-python",
   "name": "python",
   "nbconvert_exporter": "python",
   "pygments_lexer": "ipython3",
   "version": "3.11.4"
  }
 },
 "nbformat": 4,
 "nbformat_minor": 5
}
