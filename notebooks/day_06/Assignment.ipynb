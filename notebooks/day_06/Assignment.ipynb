{
 "cells": [
  {
   "cell_type": "markdown",
   "id": "a1b2c3d4",
   "metadata": {},
   "source": [
    "# NumPy Assignment Solutions\n",
    "\n",
    "## 1. Array Manipulation Challenge\n",
    "\n",
    "Create a 3D NumPy array of shape (5, 4, 3) filled with random integers between 0 and 100. Perform the following operations:\n",
    "- Extract all elements greater than 50\n",
    "- Calculate the mean along the second axis\n",
    "- Replace all elements less than 20 with the value -1\n",
    "- Reshape the array to (10, 6) without changing its data"
   ]
  },
  {
   "cell_type": "code",
   "execution_count": 1,
   "id": "b2c3d4e5",
   "metadata": {},
   "outputs": [
    {
     "name": "stdout",
     "output_type": "stream",
     "text": [
      "Original array:\n",
      "[[[ 29  57  90]\n",
      "  [ 11  58  76]\n",
      "  [  4  95  51]\n",
      "  [ 77  97  65]]\n",
      "\n",
      " [[ 74  98  74]\n",
      "  [100  45  69]\n",
      "  [  3  88  69]\n",
      "  [ 39  65  16]]\n",
      "\n",
      " [[  6  24  65]\n",
      "  [ 53  14  35]\n",
      "  [ 44  35   5]\n",
      "  [ 76  76   6]]\n",
      "\n",
      " [[ 85  32   7]\n",
      "  [ 15  20  30]\n",
      "  [ 35  79  29]\n",
      "  [ 71  23  91]]\n",
      "\n",
      " [[ 46  51  60]\n",
      "  [  1  63   8]\n",
      "  [ 31  77  58]\n",
      "  [ 18  49  51]]]\n",
      "\n",
      "Elements greater than 50:\n",
      "[ 57  90  58  76  95  51  77  97  65  74  98  74 100  69  88  69  65  65\n",
      "  53  76  76  85  79  71  91  51  60  63  77  58  51]\n",
      "\n",
      "Mean along second axis:\n",
      "[[30.25 76.75 70.5 ]\n",
      " [54.   74.   57.  ]\n",
      " [44.75 37.25 27.75]\n",
      " [51.5  38.5  39.25]\n",
      " [24.   60.   44.25]]\n",
      "\n",
      "Array after replacing elements < 20 with -1:\n",
      "[[[ 29  57  90]\n",
      "  [ -1  58  76]\n",
      "  [ -1  95  51]\n",
      "  [ 77  97  65]]\n",
      "\n",
      " [[ 74  98  74]\n",
      "  [100  45  69]\n",
      "  [ -1  88  69]\n",
      "  [ 39  65  -1]]\n",
      "\n",
      " [[ -1  24  65]\n",
      "  [ 53  -1  35]\n",
      "  [ 44  35  -1]\n",
      "  [ 76  76  -1]]\n",
      "\n",
      " [[ 85  32  -1]\n",
      "  [ -1  20  30]\n",
      "  [ 35  79  29]\n",
      "  [ 71  23  91]]\n",
      "\n",
      " [[ 46  51  60]\n",
      "  [ -1  63  -1]\n",
      "  [ 31  77  58]\n",
      "  [ -1  49  51]]]\n",
      "\n",
      "Reshaped array:\n",
      "[[ 29  57  90  -1  58  76]\n",
      " [ -1  95  51  77  97  65]\n",
      " [ 74  98  74 100  45  69]\n",
      " [ -1  88  69  39  65  -1]\n",
      " [ -1  24  65  53  -1  35]\n",
      " [ 44  35  -1  76  76  -1]\n",
      " [ 85  32  -1  -1  20  30]\n",
      " [ 35  79  29  71  23  91]\n",
      " [ 46  51  60  -1  63  -1]\n",
      " [ 31  77  58  -1  49  51]]\n"
     ]
    }
   ],
   "source": [
    "import numpy as np\n",
    "\n",
    "# Create 3D array\n",
    "arr = np.random.randint(0, 101, size=(5, 4, 3))\n",
    "print(\"Original array:\")\n",
    "print(arr)\n",
    "\n",
    "# Extract elements > 50\n",
    "greater_than_50 = arr[arr > 50]\n",
    "print(\"\\nElements greater than 50:\")\n",
    "print(greater_than_50)\n",
    "\n",
    "# Calculate mean along second axis\n",
    "mean_second_axis = np.mean(arr, axis=1)\n",
    "print(\"\\nMean along second axis:\")\n",
    "print(mean_second_axis)\n",
    "\n",
    "# Replace elements < 20 with -1\n",
    "arr[arr < 20] = -1\n",
    "print(\"\\nArray after replacing elements < 20 with -1:\")\n",
    "print(arr)\n",
    "\n",
    "# Reshape array to (10, 6)\n",
    "reshaped_arr = arr.reshape(10, 6)\n",
    "print(\"\\nReshaped array:\")\n",
    "print(reshaped_arr)"
   ]
  },
  {
   "cell_type": "markdown",
   "id": "c3d4e5f6",
   "metadata": {},
   "source": [
    "## 2. Financial Data Analysis\n",
    "\n",
    "Given a NumPy array representing daily stock prices for a year, calculate:\n",
    "- The 7-day and 30-day moving averages\n",
    "- The daily returns (percentage change)\n",
    "- The cumulative returns\n",
    "- The annualized volatility"
   ]
  },
  {
   "cell_type": "code",
   "execution_count": 2,
   "id": "d4e5f6g7",
   "metadata": {},
   "outputs": [
    {
     "name": "stdout",
     "output_type": "stream",
     "text": [
      "First 10 stock prices: [144 147 164 167 167 109 183 121 136 187]\n",
      "\n",
      "7-day moving average (first 5): [154.42857143 151.14285714 149.57142857 152.85714286 153.28571429]\n",
      "30-day moving average (first 5): [157.16666667 157.26666667 157.83333333 158.43333333 159.5       ]\n",
      "\n",
      "Daily returns (first 5): [  2.08333333  11.56462585   1.82926829   0.         -34.73053892]\n",
      "\n",
      "Cumulative returns (first 5): [ 0.02083333  0.13888889  0.15972222  0.15972222 -0.24305556]\n",
      "\n",
      "Annualized volatility: 488.13%\n"
     ]
    }
   ],
   "source": [
    "import numpy as np\n",
    "\n",
    "# Generate sample stock prices for a year\n",
    "np.random.seed(0)\n",
    "stock_prices = np.random.randint(100, 200, 252)  # 252 trading days in a year\n",
    "\n",
    "# Calculate 7-day and 30-day moving averages\n",
    "ma_7 = np.convolve(stock_prices, np.ones(7), 'valid') / 7\n",
    "ma_30 = np.convolve(stock_prices, np.ones(30), 'valid') / 30\n",
    "\n",
    "# Calculate daily returns\n",
    "daily_returns = np.diff(stock_prices) / stock_prices[:-1] * 100\n",
    "\n",
    "# Calculate cumulative returns\n",
    "cumulative_returns = np.cumprod(1 + daily_returns / 100) - 1\n",
    "\n",
    "# Calculate annualized volatility\n",
    "annualized_volatility = np.std(daily_returns) * np.sqrt(252)\n",
    "\n",
    "print(\"First 10 stock prices:\", stock_prices[:10])\n",
    "print(\"\\n7-day moving average (first 5):\", ma_7[:5])\n",
    "print(\"30-day moving average (first 5):\", ma_30[:5])\n",
    "print(\"\\nDaily returns (first 5):\", daily_returns[:5])\n",
    "print(\"\\nCumulative returns (first 5):\", cumulative_returns[:5])\n",
    "print(f\"\\nAnnualized volatility: {annualized_volatility:.2f}%\")"
   ]
  },
  {
   "cell_type": "markdown",
   "id": "e5f6g7h8",
   "metadata": {},
   "source": [
    "## 3. Image Processing with NumPy\n",
    "\n",
    "Load a grayscale image as a 2D NumPy array. Implement the following operations:\n",
    "- Apply a threshold to create a binary image\n",
    "- Implement a custom edge detection algorithm using array slicing\n",
    "- Rotate the image by 45 degrees using NumPy's linear algebra functions"
   ]
  },
  {
   "cell_type": "code",
   "execution_count": 3,
   "id": "f6g7h8i9",
   "metadata": {},
   "outputs": [
    {
     "ename": "ModuleNotFoundError",
     "evalue": "No module named 'skimage'",
     "output_type": "error",
     "traceback": [
      "\u001b[0;31m---------------------------------------------------------------------------\u001b[0m",
      "\u001b[0;31mModuleNotFoundError\u001b[0m                       Traceback (most recent call last)",
      "Cell \u001b[0;32mIn[3], line 3\u001b[0m\n\u001b[1;32m      1\u001b[0m \u001b[38;5;28;01mimport\u001b[39;00m\u001b[38;5;250m \u001b[39m\u001b[38;5;21;01mnumpy\u001b[39;00m\u001b[38;5;250m \u001b[39m\u001b[38;5;28;01mas\u001b[39;00m\u001b[38;5;250m \u001b[39m\u001b[38;5;21;01mnp\u001b[39;00m\n\u001b[1;32m      2\u001b[0m \u001b[38;5;28;01mimport\u001b[39;00m\u001b[38;5;250m \u001b[39m\u001b[38;5;21;01mmatplotlib\u001b[39;00m\u001b[38;5;21;01m.\u001b[39;00m\u001b[38;5;21;01mpyplot\u001b[39;00m\u001b[38;5;250m \u001b[39m\u001b[38;5;28;01mas\u001b[39;00m\u001b[38;5;250m \u001b[39m\u001b[38;5;21;01mplt\u001b[39;00m\n\u001b[0;32m----> 3\u001b[0m \u001b[38;5;28;01mfrom\u001b[39;00m\u001b[38;5;250m \u001b[39m\u001b[38;5;21;01mskimage\u001b[39;00m\u001b[38;5;250m \u001b[39m\u001b[38;5;28;01mimport\u001b[39;00m io\n\u001b[1;32m      4\u001b[0m \u001b[38;5;28;01mfrom\u001b[39;00m\u001b[38;5;250m \u001b[39m\u001b[38;5;21;01mscipy\u001b[39;00m\u001b[38;5;21;01m.\u001b[39;00m\u001b[38;5;21;01mndimage\u001b[39;00m\u001b[38;5;250m \u001b[39m\u001b[38;5;28;01mimport\u001b[39;00m rotate\n\u001b[1;32m      6\u001b[0m \u001b[38;5;66;03m# Load a sample grayscale image\u001b[39;00m\n",
      "\u001b[0;31mModuleNotFoundError\u001b[0m: No module named 'skimage'"
     ]
    }
   ],
   "source": [
    "import numpy as np\n",
    "import matplotlib.pyplot as plt\n",
    "from skimage import io\n",
    "from scipy.ndimage import rotate\n",
    "\n",
    "# Load a sample grayscale image\n",
    "image = io.imread('sample_image.png', as_gray=True)\n",
    "\n",
    "# Apply threshold\n",
    "threshold = 0.5\n",
    "binary_image = (image > threshold).astype(np.float32)\n",
    "\n",
    "# Custom edge detection\n",
    "def edge_detection(img):\n",
    "    vertical_edges = img[1:, :] - img[:-1, :]\n",
    "    horizontal_edges = img[:, 1:] - img[:, :-1]\n",
    "    return np.sqrt(vertical_edges[:, :-1]**2 + horizontal_edges[:-1, :]**2)\n",
    "\n",
    "edges = edge_detection(image)\n",
    "\n",
    "# Rotate image\n",
    "rotated_image = rotate(image, 45, reshape=False)\n",
    "\n",
    "# Display results\n",
    "fig, axs = plt.subplots(2, 2, figsize=(12, 12))\n",
    "axs[0, 0].imshow(image, cmap='gray')\n",
    "axs[0, 0].set_title('Original Image')\n",
    "axs[0, 1].imshow(binary_image, cmap='gray')\n",
    "axs[0, 1].set_title('Binary Image')\n",
    "axs[1, 0].imshow(edges, cmap='gray')\n",
    "axs[1, 0].set_title('Edge Detection')\n",
    "axs[1, 1].imshow(rotated_image, cmap='gray')\n",
    "axs[1, 1].set_title('Rotated Image')\n",
    "plt.tight_layout()\n",
    "plt.show()"
   ]
  },
  {
   "cell_type": "markdown",
   "id": "g7h8i9j0",
   "metadata": {},
   "source": [
    "## 4. Monte Carlo Simulation\n",
    "\n",
    "Use NumPy's random module to perform a Monte Carlo simulation of stock price movements:\n",
    "- Generate 1000 possible price paths for a stock over 252 trading days\n",
    "- Calculate the expected price and 95% confidence interval at the end of the period\n",
    "- Visualize the results using a histogram and line plot"
   ]
  },
  {
   "cell_type": "code",
   "execution_count": 4,
   "id": "h8i9j0k1",
   "metadata": {},
   "outputs": [
    {
     "name": "stdout",
     "output_type": "stream",
     "text": [
      "Expected price: $110.99\n",
      "95% Confidence Interval: ($74.26, $158.10)\n"
     ]
    }
   ],
   "source": [
    "import numpy as np\n",
    "import matplotlib.pyplot as plt\n",
    "\n",
    "# Set parameters\n",
    "S0 = 100  # Initial stock price\n",
    "mu = 0.1  # Expected annual return\n",
    "sigma = 0.2  # Annual volatility\n",
    "T = 1.0  # Time in years\n",
    "N = 252  # Number of trading days\n",
    "num_simulations = 1000\n",
    "\n",
    "# Generate price paths\n",
    "dt = T/N\n",
    "nudt = (mu-0.5*sigma**2)*dt\n",
    "sigdt = sigma*np.sqrt(dt)\n",
    "S = S0 * np.exp(np.cumsum(nudt + sigdt*np.random.randn(num_simulations, N), axis=1))\n",
    "\n",
    "# Calculate statistics\n",
    "expected_price = np.mean(S[:, -1])\n",
    "confidence_interval = np.percentile(S[:, -1], [2.5, 97.5])\n",
    "\n",
    "# Visualize results\n",
    "plt.figure(figsize=(12, 6))\n",
    "plt.subplot(1, 2, 1)\n",
    "plt.plot(S[:100, :].T, alpha=0.1)\n",
    "plt.title('Sample Price Paths')\n",
    "plt.xlabel('Trading Days')\n",
    "plt.ylabel('Stock Price')\n",
    "\n",
    "plt.subplot(1, 2, 2)\n",
    "plt.hist(S[:, -1], bins=50, density=True)\n",
    "plt.axvline(expected_price, color='r', linestyle='dashed', linewidth=2)\n",
    "plt.axvline(confidence_interval[0], color='g', linestyle='dashed', linewidth=2)\n",
    "plt.axvline(confidence_interval[1], color='g', linestyle='dashed', linewidth=2)\n",
    "plt.title('Distribution of Final Stock Prices')\n",
    "plt.xlabel('Stock Price')\n",
    "plt.ylabel('Density')\n",
    "\n",
    "plt.tight_layout()\n",
    "plt.show()\n",
    "\n",
    "print(f\"Expected price: ${expected_price:.2f}\")\n",
    "print(f\"95% Confidence Interval: (${confidence_interval[0]:.2f}, ${confidence_interval[1]:.2f})\")"
   ]
  },
  {
   "cell_type": "markdown",
   "id": "i9j0k1l2",
   "metadata": {},
   "source": [
    "## 5. Custom Ufunc Creation\n",
    "\n",
    "Implement a custom universal function that calculates the Fibonacci sequence up to n terms. Use np.frompyfunc() to vectorize your implementation."
   ]
  },
  {
   "cell_type": "code",
   "execution_count": 5,
   "id": "j0k1l2m3",
   "metadata": {},
   "outputs": [
    {
     "name": "stdout",
     "output_type": "stream",
     "text": [
      "n values: [0 1 2 3 4 5 6 7 8 9]\n",
      "Fibonacci sequence: [0 1 1 2 3 5 8 13 21 34]\n"
     ]
    }
   ],
   "source": [
    "import numpy as np\n",
    "\n",
    "def fibonacci(n):\n",
    "    if n < 2:\n",
    "        return n\n",
    "    return fibonacci(n-1) + fibonacci(n-2)\n",
    "\n",
    "vectorized_fibonacci = np.frompyfunc(fibonacci, 1, 1)\n",
    "\n",
    "# Test the vectorized function\n",
    "n_values = np.arange(10)\n",
    "fib_sequence = vectorized_fibonacci(n_values)\n",
    "\n",
    "print(\"n values:\", n_values)\n",
    "print(\"Fibonacci sequence:\", fib_sequence)"
   ]
  },
  {
   "cell_type": "markdown",
   "id": "k1l2m3n4",
   "metadata": {},
   "source": [
    "## 6. Advanced Linear Algebra\n",
    "\n",
    "Given two matrices A and B:\n",
    "- Solve the system of linear equations Ax = B\n",
    "- Calculate the eigenvalues and eigenvectors of A\n",
    "- Perform Singular Value Decomposition (SVD) on A"
   ]
  },
  {
   "cell_type": "code",
   "execution_count": 6,
   "id": "l2m3n4o5",
   "metadata": {},
   "outputs": [
    {
     "name": "stdout",
     "output_type": "stream",
     "text": [
      "Solution to Ax = B:\n",
      "[1. 2.]\n",
      "\n",
      "Eigenvalues:\n",
      "[-0.37228132  5.37228132]\n",
      "\n",
      "Eigenvectors:\n",
      "[[-0.82456484 -0.41597356]\n",
      " [ 0.56576746 -0.90937671]]\n",
      "\n",
      "Singular Value Decomposition:\n",
      "U:\n",
      "[[-0.40455358 -0.9145143 ]\n",
      " [-0.9145143   0.40455358]]\n",
      "\n",
      "S:\n",
      "[5.4649857  0.36596619]\n",
      "\n",
      "V^T:\n",
      "[[-0.57604844 -0.81741556]\n",
      " [ 0.81741556 -0.57604844]]\n"
     ]
    }
   ],
   "source": [
    "import numpy as np\n",
    "\n",
    "# Define matrices A and B\n",
    "A = np.array([[1, 2], [3, 4]])\n",
    "B = np.array([5, 11])\n",
    "\n",
    "# Solve the system of linear equations\n",
    "x = np.linalg.solve(A, B)\n",
    "print(\"Solution to Ax = B:\")\n",
    "print(x)\n",
    "\n",
    "# Calculate eigenvalues and eigenvectors\n",
    "eigenvalues, eigenvectors = np.linalg.eig(A)\n",
    "print(\"\\nEigenvalues:\")\n",
    "print(eigenvalues)\n",
    "print(\"\\nEigenvectors:\")\n",
    "print(eigenvectors)\n",
    "\n",
    "# Perform SVD\n",
    "U, S, Vt = np.linalg.svd(A)\n",
    "print(\"\\nSingular Value Decomposition:\")\n",
    "print(\"U:\")\n",
    "print(U)\n",
    "print(\"\\nS:\")\n",
    "print(S)\n",
    "print(\"\\nV^T:\")\n",
    "print(Vt)"
   ]
  },
  {
   "cell_type": "markdown",
   "id": "m3n4o5p6",
   "metadata": {},
   "source": [
    "## 7. Performance Benchmark\n",
    "\n",
    "Compare the performance of a pure Python implementation vs a NumPy implementation for calculating the correlation coefficient between two large datasets. Use %timeit in IPython to measure execution times."
   ]
  },
  {
   "cell_type": "code",
   "execution_count": null,
   "id": "n4o5p6q7",
   "metadata": {},
   "outputs": [
    {
     "name": "stdout",
     "output_type": "stream",
     "text": [
      "1.02 s ± 167 ms per loop (mean ± std. dev. of 7 runs, 1 loop each)\n",
      "10.5 ms ± 286 μs per loop (mean ± std. dev. of 7 runs, 100 loops each)\n"
     ]
    }
   ],
   "source": [
    "import numpy as np\n",
    "from math import sqrt\n",
    "\n",
    "def python_correlation(x, y):\n",
    "    n = len(x)\n",
    "    sum_x = sum(x)\n",
    "    sum_y = sum(y)\n",
    "    sum_xy = sum(x[i] * y[i] for i in range(n))\n",
    "    sum_x2 = sum(x[i]**2 for i in range(n))\n",
    "    sum_y2 = sum(y[i]**2 for i in range(n))\n",
    "    \n",
    "    numerator = n * sum_xy - sum_x * sum_y\n",
    "    denominator = sqrt((n * sum_x2 - sum_x**2) * (n * sum_y2 - sum_y**2))\n",
    "    \n",
    "    return numerator / denominator\n",
    "\n",
    "def numpy_correlation(x, y):\n",
    "    return np.corrcoef(x, y)[0, 1]\n",
    "\n",
    "# Generate large datasets\n",
    "np.random.seed(0)\n",
    "x = np.random.randn(100000)\n",
    "y = np.random.randn(100000)\n",
    "\n",
    "# Benchmark Python implementation\n",
    "%timeit python_correlation(x, y)\n",
    "\n",
    "# Benchmark NumPy implementation\n",
    "%timeit numpy_correlation(x, y)\n",
    "\n",
    "# Verify results\n",
    "print(f\"Python correlation: {python_correlation(x, y)}\")\n",
    "print(f\"NumPy correlation: {numpy_correlation(x, y)}\")"
   ]
  },
  {
   "cell_type": "code",
   "execution_count": null,
   "id": "43dc5cfe-28be-414e-afcf-f34dbdb0792b",
   "metadata": {},
   "outputs": [],
   "source": []
  }
 ],
 "metadata": {
  "kernelspec": {
   "display_name": "Python 3 (ipykernel)",
   "language": "python",
   "name": "python3"
  },
  "language_info": {
   "codemirror_mode": {
    "name": "ipython",
    "version": 3
   },
   "file_extension": ".py",
   "mimetype": "text/x-python",
   "name": "python",
   "nbconvert_exporter": "python",
   "pygments_lexer": "ipython3",
   "version": "3.11.4"
  }
 },
 "nbformat": 4,
 "nbformat_minor": 5
}
