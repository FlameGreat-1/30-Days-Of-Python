{
 "cells": [
  {
   "cell_type": "markdown",
   "id": "905fd1e2",
   "metadata": {},
   "source": [
    "# Day 15 Challenge\n",
    "\n",
    "## Topics:\n",
    "\n",
    "## Exercises:\n",
    "\n",
    "## Notes:"
   ]
  }
 ],
 "metadata": {},
 "nbformat": 4,
 "nbformat_minor": 5
}
