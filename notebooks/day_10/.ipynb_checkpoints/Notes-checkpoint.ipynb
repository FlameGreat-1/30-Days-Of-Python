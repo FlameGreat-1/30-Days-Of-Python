{
 "cells": [
  {
   "cell_type": "markdown",
   "metadata": {},
   "source": [
    "# Working with CSV and Excel Files\n",
    "\n",
    "In this lecture, we'll cover how to work with CSV and Excel files using Python. We'll explore various libraries and techniques to read, write, and manipulate data in these formats."
   ]
  },
  {
   "cell_type": "markdown",
   "metadata": {},
   "source": [
    "## 1. Introduction to CSV and Excel file formats\n",
    "\n",
    "### CSV (Comma-Separated Values)\n",
    "- Simple text format for storing tabular data\n",
    "- Each line represents a row, and columns are separated by commas (or other delimiters)\n",
    "- Easy to read and write, but lacks formatting and multiple sheet support\n",
    "\n",
    "### Excel\n",
    "- Proprietary format developed by Microsoft\n",
    "- Supports multiple sheets, formatting, formulas, and charts\n",
    "- More complex than CSV, but offers richer features for data analysis and presentation"
   ]
  },
  {
   "cell_type": "markdown",
   "metadata": {},
   "source": [
    "## 2. Reading and writing CSV files using the `csv` module\n",
    "\n",
    "Python's built-in `csv` module provides functionality to read and write CSV files."
   ]
  },
  {
   "cell_type": "code",
   "execution_count": null,
   "metadata": {},
   "outputs": [],
   "source": [
    "import csv\n",
    "\n",
    "# Reading a CSV file\n",
    "with open('example.csv', 'r') as file:\n",
    "    csv_reader = csv.reader(file)\n",
    "    for row in csv_reader:\n",
    "        print(row)\n",
    "\n",
    "# Writing to a CSV file\n",
    "data = [\n",
    "    ['Name', 'Age', 'City'],\n",
    "    ['Alice', '30', 'New York'],\n",
    "    ['Bob', '25', 'San Francisco']\n",
    "]\n",
    "\n",
    "with open('output.csv', 'w', newline='') as file:\n",
    "    csv_writer = csv.writer(file)\n",
    "    csv_writer.writerows(data)\n",
    "\n",
    "# Using DictReader and DictWriter\n",
    "with open('example.csv', 'r') as file:\n",
    "    csv_reader = csv.DictReader(file)\n",
    "    for row in csv_reader:\n",
    "        print(row['Name'], row['Age'])\n",
    "\n",
    "with open('output.csv', 'w', newline='') as file:\n",
    "    fieldnames = ['Name', 'Age', 'City']\n",
    "    csv_writer = csv.DictWriter(file, fieldnames=fieldnames)\n",
    "    csv_writer.writeheader()\n",
    "    csv_writer.writerow({'Name': 'Charlie', 'Age': '35', 'City': 'Chicago'})"
   ]
  },
  {
   "cell_type": "markdown",
   "metadata": {},
   "source": [
    "## 3. Working with Excel files using `openpyxl`\n",
    "\n",
    "`openpyxl` is a powerful library for working with Excel files (.xlsx format)."
   ]
  },
  {
   "cell_type": "code",
   "execution_count": null,
   "metadata": {},
   "outputs": [],
   "source": [
    "from openpyxl import Workbook, load_workbook\n",
    "\n",
    "# Creating a new workbook\n",
    "wb = Workbook()\n",
    "sheet = wb.active\n",
    "sheet.title = \"Sample Sheet\"\n",
    "\n",
    "# Writing data\n",
    "sheet['A1'] = \"Name\"\n",
    "sheet['B1'] = \"Age\"\n",
    "sheet['A2'] = \"Alice\"\n",
    "sheet['B2'] = 30\n",
    "\n",
    "# Saving the workbook\n",
    "wb.save('example.xlsx')\n",
    "\n",
    "# Reading an existing workbook\n",
    "wb = load_workbook('example.xlsx')\n",
    "sheet = wb.active\n",
    "\n",
    "# Reading cell values\n",
    "print(sheet['A1'].value)\n",
    "print(sheet['B2'].value)\n",
    "\n",
    "# Iterating through rows\n",
    "for row in sheet.iter_rows(values_only=True):\n",
    "    print(row)\n",
    "\n",
    "# Formatting cells\n",
    "from openpyxl.styles import Font, PatternFill\n",
    "\n",
    "cell = sheet['A1']\n",
    "cell.font = Font(bold=True)\n",
    "cell.fill = PatternFill(start_color=\"FFFF00\", end_color=\"FFFF00\", fill_type=\"solid\")\n",
    "\n",
    "wb.save('example_formatted.xlsx')"
   ]
  },
  {
   "cell_type": "markdown",
   "metadata": {},
   "source": [
    "## 4. Data manipulation and analysis with `pandas`\n",
    "\n",
    "`pandas` is a powerful data manipulation library that can work with both CSV and Excel files."
   ]
  },
  {
   "cell_type": "code",
   "execution_count": null,
   "metadata": {},
   "outputs": [],
   "source": [
    "import pandas as pd\n",
    "\n",
    "# Reading CSV\n",
    "df_csv = pd.read_csv('example.csv')\n",
    "\n",
    "# Reading Excel\n",
    "df_excel = pd.read_excel('example.xlsx')\n",
    "\n",
    "# Basic operations\n",
    "print(df_csv.head())\n",
    "print(df_csv.describe())\n",
    "\n",
    "# Filtering\n",
    "filtered_df = df_csv[df_csv['Age'] > 30]\n",
    "\n",
    "# Grouping and aggregation\n",
    "grouped = df_csv.groupby('City')['Age'].mean()\n",
    "\n",
    "# Writing to CSV and Excel\n",
    "df_csv.to_csv('output_pandas.csv', index=False)\n",
    "df_excel.to_excel('output_pandas.xlsx', index=False)"
   ]
  },
  {
   "cell_type": "markdown",
   "metadata": {},
   "source": [
    "## 5. Error handling and data validation\n",
    "\n",
    "When working with external files, it's crucial to implement proper error handling and data validation."
   ]
  },
  {
   "cell_type": "code",
   "execution_count": null,
   "metadata": {},
   "outputs": [],
   "source": [
    "import csv\n",
    "import pandas as pd\n",
    "\n",
    "def read_csv_safe(filename):\n",
    "    try:\n",
    "        with open(filename, 'r') as file:\n",
    "            reader = csv.reader(file)\n",
    "            data = list(reader)\n",
    "        return data\n",
    "    except FileNotFoundError:\n",
    "        print(f\"Error: File '{filename}' not found.\")\n",
    "    except csv.Error as e:\n",
    "        print(f\"CSV Error: {e}\")\n",
    "    except Exception as e:\n",
    "        print(f\"An unexpected error occurred: {e}\")\n",
    "    return None\n",
    "\n",
    "def validate_data(df):\n",
    "    # Check for missing values\n",
    "    if df.isnull().values.any():\n",
    "        print(\"Warning: Dataset contains missing values\")\n",
    "    \n",
    "    # Check data types\n",
    "    if df['Age'].dtype != 'int64':\n",
    "        print(\"Warning: 'Age' column is not of integer type\")\n",
    "    \n",
    "    # Custom validation\n",
    "    if (df['Age'] < 0).any():\n",
    "        print(\"Error: Negative ages found in the dataset\")\n",
    "\n",
    "# Example usage\n",
    "data = read_csv_safe('example.csv')\n",
    "if data:\n",
    "    df = pd.DataFrame(data[1:], columns=data[0])\n",
    "    validate_data(df)"
   ]
  },
  {
   "cell_type": "markdown",
   "metadata": {},
   "source": [
    "## Conclusion\n",
    "\n",
    "This lecture covered the essentials of working with CSV and Excel files in Python. We explored reading and writing operations, data manipulation with pandas, and important considerations for error handling and data validation. Practice these concepts with real datasets to gain proficiency in data analysis and manipulation tasks."
   ]
  }
 ],
 "metadata": {
  "kernelspec": {
   "display_name": "Python 3",
   "language": "python",
   "name": "python3"
  },
  "language_info": {
   "codemirror_mode": {
    "name": "ipython",
    "version": 3
   },
   "file_extension": ".py",
   "mimetype": "text/x-python",
   "name": "python",
   "nbconvert_exporter": "python",
   "pygments_lexer": "ipython3",
   "version": "3.8.8"
  }
 },
 "nbformat": 4,
 "nbformat_minor": 4
}
