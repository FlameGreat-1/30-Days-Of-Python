{
 "cells": [
  {
   "cell_type": "markdown",
   "id": "91500146",
   "metadata": {},
   "source": [
    "# Day 3 Challenge\n",
    "\n",
    "## Topics:\n",
    "\n",
    "## Exercises:\n",
    "\n",
    "## Notes:"
   ]
  },
  {
   "cell_type": "markdown",
   "id": "baff9a6b-dade-46b8-a74a-1ae92e1b483e",
   "metadata": {},
   "source": [
    "To define a function in Python, use the def keyword followed by the function name and parentheses. The function body is indented."
   ]
  },
  {
   "cell_type": "code",
   "execution_count": null,
   "id": "1b88b2f0-4acf-4c7d-9b7c-832f9a1be4e0",
   "metadata": {},
   "outputs": [],
   "source": [
    "def greet():\n",
    "    print(\"Hello, World!\")\n",
    "\n",
    "# Calling the function\n",
    "greet()"
   ]
  },
  {
   "cell_type": "markdown",
   "id": "3c08b0ef-4b07-49c3-aa04-39da9f3300e5",
   "metadata": {},
   "source": [
    "Functions can send back results using the return statement."
   ]
  },
  {
   "cell_type": "code",
   "execution_count": null,
   "id": "d5820d79-797c-4af7-a9ef-c70c9c1a5c5c",
   "metadata": {},
   "outputs": [],
   "source": [
    "def add(a, b):\n",
    "    return a + b\n",
    "\n",
    "result = add(3, 5)\n",
    "print(result)  # Output: 8\n"
   ]
  },
  {
   "cell_type": "markdown",
   "id": "43cdb04b-bc49-47fd-9748-3d861c7c131f",
   "metadata": {},
   "source": [
    "You can assign default values to parameters, which are used if no argument is provided."
   ]
  },
  {
   "cell_type": "code",
   "execution_count": null,
   "id": "c5847364-0813-48ad-a037-ec9636d4d4d8",
   "metadata": {},
   "outputs": [],
   "source": [
    "def greet(name=\"Guest\"):\n",
    "    print(f\"Hello, {name}!\")\n",
    "\n",
    "greet()  # Output: Hello, Guest!\n",
    "greet(\"Alice\")  # Output: Hello, Alice!"
   ]
  },
  {
   "cell_type": "markdown",
   "id": "8d44392e-9d24-4e7a-a960-3ef89fb1f983",
   "metadata": {},
   "source": [
    "You can specify arguments by parameter name, allowing you to skip arguments or place them in a different order."
   ]
  },
  {
   "cell_type": "code",
   "execution_count": null,
   "id": "600523ef-892b-46a0-be95-266a1890dc70",
   "metadata": {},
   "outputs": [],
   "source": [
    "def describe_pet(animal_type, pet_name):\n",
    "    print(f\"I have a {animal_type} named {pet_name}.\")\n",
    "\n",
    "describe_pet(pet_name=\"Whiskers\", animal_type=\"cat\")\n"
   ]
  },
  {
   "cell_type": "markdown",
   "id": "fc56a013-c8ab-4122-83d6-e6f67d785f59",
   "metadata": {},
   "source": [
    "Use *args when you're not sure how many arguments might be passed to your function."
   ]
  },
  {
   "cell_type": "code",
   "execution_count": null,
   "id": "11bc8b7c-6372-404b-a414-08611af9430a",
   "metadata": {},
   "outputs": [],
   "source": [
    "def sum_all(*args):\n",
    "    return sum(args)\n",
    "\n",
    "print(sum_all(1, 2, 3, 4))  # Output: 10"
   ]
  },
  {
   "cell_type": "markdown",
   "id": "09e31175-8e44-46f3-a1f8-293ab7ab99a4",
   "metadata": {},
   "source": [
    "Use **kwargs to handle named arguments that you have not defined in advance."
   ]
  },
  {
   "cell_type": "code",
   "execution_count": null,
   "id": "663b8e77-5c1a-47b6-8ba0-37329d4f9ad2",
   "metadata": {},
   "outputs": [],
   "source": [
    "def print_info(**kwargs):\n",
    "    for key, value in kwargs.items():\n",
    "        print(f\"{key}: {value}\")\n",
    "\n",
    "print_info(name=\"Alice\", age=30, city=\"New York\")\n"
   ]
  },
  {
   "cell_type": "code",
   "execution_count": null,
   "id": "31ae0e4e-c681-455b-9e86-3406dafe8ecf",
   "metadata": {},
   "outputs": [],
   "source": [
    "def print_args(*args, **kwargs):\n",
    "    for arg in args:\n",
    "        print(arg)\n",
    "    for key, value in kwargs.items():\n",
    "        print(f\"{key}: {value}\")\n",
    "\n",
    "print_args(1, 2, 3, name=\"Alice\", age=30)"
   ]
  },
  {
   "cell_type": "markdown",
   "id": "9ea18792-68b7-4510-88d2-a4a2dac2c5ff",
   "metadata": {},
   "source": [
    "Lambda functions are small anonymous functions that can have any number of arguments but can only have one expression."
   ]
  },
  {
   "cell_type": "code",
   "execution_count": null,
   "id": "c897d48b-44a8-404e-bb0b-ca2a7ead095a",
   "metadata": {},
   "outputs": [],
   "source": [
    "square = lambda x: x ** 2\n",
    "print(square(5))  # Output: 25"
   ]
  },
  {
   "cell_type": "markdown",
   "id": "a3dc768c-1321-48b8-ab54-db273371d8af",
   "metadata": {},
   "source": [
    "SCOPE AND NAMESPACES"
   ]
  },
  {
   "cell_type": "markdown",
   "id": "6189afd9-b81d-48c7-a7aa-128f1619ed03",
   "metadata": {},
   "source": [
    "Variables defined inside a function are in the local scope and can only be accessed within that function."
   ]
  },
  {
   "cell_type": "code",
   "execution_count": null,
   "id": "fa9f91d5-0b9c-4801-a43c-f3948f0c7172",
   "metadata": {},
   "outputs": [],
   "source": [
    "def my_function():\n",
    "    x = 10\n",
    "    print(x)\n",
    "\n",
    "my_function()  # Output: 10\n",
    "print(x)  # This will raise a NameError"
   ]
  },
  {
   "cell_type": "markdown",
   "id": "43135b32-e235-4b35-aa1a-3f78734691b6",
   "metadata": {},
   "source": [
    "Variables defined outside of any function are in the global scope and can be accessed from anywhere in the code."
   ]
  },
  {
   "cell_type": "code",
   "execution_count": null,
   "id": "de5c40cf-4491-4e87-aae5-8c1b2c7239bf",
   "metadata": {},
   "outputs": [],
   "source": [
    "x = 10\n",
    "\n",
    "def print_x():\n",
    "    print(x)\n",
    "\n",
    "print_x()  # Output: 10"
   ]
  },
  {
   "cell_type": "markdown",
   "id": "63895656-9b97-439b-9927-7ce07930aa55",
   "metadata": {},
   "source": [
    "# The global keyword\n",
    "\n",
    "Use global to modify a global variable from within a function."
   ]
  },
  {
   "cell_type": "code",
   "execution_count": null,
   "id": "d6bd30f8-ca23-4dd6-9f7f-6a5ab9e5c61e",
   "metadata": {},
   "outputs": [],
   "source": [
    "x = 10\n",
    "\n",
    "def modify_x():\n",
    "    global x\n",
    "    x = 20\n",
    "\n",
    "modify_x()\n",
    "print(x)  # Output: 20"
   ]
  },
  {
   "cell_type": "markdown",
   "id": "77c63e22-066f-4860-8f6b-5b92e4e224bb",
   "metadata": {},
   "source": [
    "# Function Documentation"
   ]
  },
  {
   "cell_type": "code",
   "execution_count": null,
   "id": "65c8a05f-ec85-43c9-b946-1f837b10e0cc",
   "metadata": {},
   "outputs": [],
   "source": [
    "# Use docstrings to provide documentation for your functions.\n",
    "\n",
    "def square(n):\n",
    "    \"\"\"\n",
    "    This function returns the square of a number.\n",
    "    \n",
    "    :param n: The number to be squared\n",
    "    :return: The square of n\n",
    "    \"\"\"\n",
    "    return n ** 2\n",
    "    "
   ]
  },
  {
   "cell_type": "code",
   "execution_count": null,
   "id": "e5fb185a-7f87-4fdc-aaf1-01ebdb63416b",
   "metadata": {},
   "outputs": [],
   "source": [
    "# Decorators provide a way to modify functions using other functions.\n",
    "\n",
    "def uppercase_decorator(function):\n",
    "    def wrapper():\n",
    "        result = function()\n",
    "        return result.upper()\n",
    "    return wrapper\n",
    "\n",
    "@uppercase_decorator\n",
    "def greet():\n",
    "    return \"hello, world!\"\n",
    "\n",
    "print(greet())  # Output: HELLO, WORLD!\n"
   ]
  },
  {
   "cell_type": "markdown",
   "id": "53553de6-cdfc-43d3-aad3-cbeac3f8edee",
   "metadata": {},
   "source": [
    "## MODULES"
   ]
  },
  {
   "cell_type": "markdown",
   "id": "41cc312a-05a2-42cb-9a90-5ada4de1b5f3",
   "metadata": {},
   "source": [
    "Modules are Python files containing Python statements and definitions. They allow you to organize and reuse code across different programs.\n",
    "\n",
    "A module is a file containing Python definitions and statements. The file name is the module name with the suffix .py added.\n",
    "\n",
    "# USES\n",
    "Code Organization: Break down large programs into smaller, manageable files.\n",
    "\n",
    "Code Reusability: Use the same code in multiple programs without copying.\n",
    "\n",
    "Namespace Management: Avoid naming conflicts between different parts of a program."
   ]
  },
  {
   "cell_type": "code",
   "execution_count": null,
   "id": "900bf479-076c-4d79-9ba3-0c9435958036",
   "metadata": {},
   "outputs": [],
   "source": [
    "# Basic import example\n",
    "\n",
    "import math\n",
    "\n",
    "print(math.pi)  # Output: 3.141592653589793\n"
   ]
  },
  {
   "cell_type": "code",
   "execution_count": null,
   "id": "25ab731a-b03e-4b06-9363-6edc161d62bf",
   "metadata": {},
   "outputs": [],
   "source": [
    "# from import example \n",
    "\n",
    "from math import pi\n",
    "\n",
    "print(pi)  # Output: 3.141592653589793"
   ]
  },
  {
   "cell_type": "code",
   "execution_count": null,
   "id": "8a9f5254-00cf-4ee1-a457-927233653c57",
   "metadata": {},
   "outputs": [],
   "source": [
    "# import with alias\n",
    "\n",
    "import math as m\n",
    "\n",
    "print(m.pi)  # Output: 3.141592653589793\n"
   ]
  },
  {
   "cell_type": "code",
   "execution_count": null,
   "id": "1bb456f2-4eb4-42d9-a488-f4e54a071988",
   "metadata": {},
   "outputs": [],
   "source": [
    "# import all\n",
    "\n",
    "from math import *\n",
    "\n",
    "print(pi)  # Output: 3.141592653589793\n"
   ]
  },
  {
   "cell_type": "markdown",
   "id": "109ca897-f7c0-4aa5-be07-e81c63b94ed4",
   "metadata": {},
   "source": [
    "## CUSTOM MODULES"
   ]
  },
  {
   "cell_type": "code",
   "execution_count": null,
   "id": "7d8ed7de-d8c8-439a-9bee-88c16b5100f4",
   "metadata": {},
   "outputs": [],
   "source": [
    "# create a file named mymodule.py\n",
    "\n",
    "# mymodule.py\n",
    "def greet(name):\n",
    "    return f\"Hello, {name}!\"\n",
    "\n",
    "PI = 3.14159"
   ]
  },
  {
   "cell_type": "code",
   "execution_count": null,
   "id": "7bc58827-e3b2-4166-a39e-0cb76ac5ff0a",
   "metadata": {},
   "outputs": [],
   "source": [
    "# we import it in another file \n",
    "\n",
    "import mymodule\n",
    "\n",
    "print(mymodule.greet(\"Alice\"))  # Output: Hello, Alice!\n",
    "print(mymodule.PI)  # Output: 3.14159\n"
   ]
  },
  {
   "cell_type": "markdown",
   "id": "2a41328d-d987-404b-aea9-895724c63abc",
   "metadata": {},
   "source": [
    "The if __name__ == \"__main__\": Idiom\n",
    "\n",
    "\n",
    "This idiom allows you to execute code only when the file is run directly, not when it's imported as a module."
   ]
  },
  {
   "cell_type": "code",
   "execution_count": null,
   "id": "1b907b6c-e99b-4984-9472-ebd911f15deb",
   "metadata": {},
   "outputs": [],
   "source": [
    "# mymodule.py\n",
    "def greet(name):\n",
    "    return f\"Hello, {name}!\"\n",
    "\n",
    "if __name__ == \"__main__\":\n",
    "    print(greet(\"World\"))\n",
    "    "
   ]
  },
  {
   "cell_type": "markdown",
   "id": "1c9b96fb-9369-43ff-8289-d299e2500822",
   "metadata": {},
   "source": [
    "# Python Standard Library\n",
    "\n",
    "Python comes with a rich set of built-in modules. Some commonly used ones include:\n",
    "\n",
    "\n",
    "os: Operating system interface\n",
    "\n",
    "sys: System-specific parameters and functions\n",
    "\n",
    "datetime: Date and time handling\n",
    "\n",
    "random: Generate random numbers\n",
    "\n",
    "json: JSON encoder and decoder"
   ]
  },
  {
   "cell_type": "markdown",
   "id": "67544afa-ab01-4941-abaa-bccdce8ff2e3",
   "metadata": {},
   "source": [
    "Installing Third-Party Modules\n",
    "Use pip, Python's package installer:"
   ]
  },
  {
   "cell_type": "code",
   "execution_count": null,
   "id": "a6c97de9-781a-4d26-9017-4fe986fbebd9",
   "metadata": {},
   "outputs": [],
   "source": [
    "pip install package_name\n"
   ]
  },
  {
   "cell_type": "markdown",
   "id": "1c5c0005-2257-4625-ad30-7c919810d32f",
   "metadata": {},
   "source": [
    "Popular Third-Party Modules\n",
    "\n",
    "\n",
    "requests: HTTP library\n",
    "\n",
    "numpy: Numerical computing\n",
    "\n",
    "pandas: Data analysis and manipulation\n",
    "\n",
    "matplotlib: Data visualization"
   ]
  },
  {
   "cell_type": "markdown",
   "id": "084e79b1-ccdd-498a-be0a-5c9e48233569",
   "metadata": {},
   "source": [
    "## EXERCISES:"
   ]
  },
  {
   "cell_type": "code",
   "execution_count": null,
   "id": "143f0326-32cc-4848-9768-91c67da1b602",
   "metadata": {},
   "outputs": [],
   "source": [
    "\"\"\"\n",
    "1. Create a module named calculator.py with functions for addition, subtraction, multiplication, and division. Import and use these functions in another \n",
    "\n",
    "2. Use the random module to create a program that simulates rolling a six-sided die 1000 times and prints the frequency of each number.\n",
    "\n",
    "\n",
    "3. Create a module that contains a class Person with attributes for name and age. Include a method to return a greeting. Use this module in another script to create and interact with Person objects.\n",
    "\n",
    "\n",
    "5. Use the datetime module to create a program that calculates the number of days between two given dates.\n",
    "\n",
    "\n",
    "6. Create a module with a function that reads a JSON file and returns its contents as a Python dictionary. Use this module in another script to manipulate the data.\n",
    "\"\"\""
   ]
  },
  {
   "cell_type": "markdown",
   "id": "d282d05f-d280-4225-a81c-555ad7882803",
   "metadata": {},
   "source": [
    "EXERCISE 1:\n",
    "\n",
    "Solution available at #Exercise folder"
   ]
  },
  {
   "cell_type": "markdown",
   "id": "86f10efa-ad3a-401e-9465-1bcf171d72c1",
   "metadata": {},
   "source": [
    "EXERCISE 2:"
   ]
  },
  {
   "cell_type": "code",
   "execution_count": 4,
   "id": "0cf72500-a93c-4b4e-86ca-131090508941",
   "metadata": {},
   "outputs": [
    {
     "name": "stdout",
     "output_type": "stream",
     "text": [
      "Number 1 was rolled 154 times\n",
      "Number 2 was rolled 167 times\n",
      "Number 3 was rolled 165 times\n",
      "Number 4 was rolled 157 times\n",
      "Number 5 was rolled 182 times\n",
      "Number 6 was rolled 175 times\n"
     ]
    }
   ],
   "source": [
    "import random\n",
    "from collections import Counter\n",
    "\n",
    "def roll_die():\n",
    "    return random.randint(1, 6)\n",
    "\n",
    "rolls = [roll_die() for _ in range(1000)]\n",
    "frequency = Counter(rolls)\n",
    "\n",
    "for number, count in sorted(frequency.items()):\n",
    "    print(f\"Number {number} was rolled {count} times\")\n",
    "    "
   ]
  },
  {
   "cell_type": "markdown",
   "id": "173a83a4-3823-4128-ad21-22554ab63aac",
   "metadata": {},
   "source": [
    "EXERCISE 3:\n",
    "\n",
    "Available at # Exercise folder"
   ]
  },
  {
   "cell_type": "markdown",
   "id": "f07b1ae3-9d1b-40bf-a727-79544a4d1c01",
   "metadata": {},
   "source": [
    "EXERCISE 4:"
   ]
  },
  {
   "cell_type": "code",
   "execution_count": 1,
   "id": "2e08dec8-85a2-4321-b1b1-00898bdb916f",
   "metadata": {},
   "outputs": [
    {
     "name": "stdout",
     "output_type": "stream",
     "text": [
      "Days between 2023-01-01 and 2023-12-31: 364\n"
     ]
    }
   ],
   "source": [
    "from datetime import datetime\n",
    "\n",
    "def days_between(date1, date2):\n",
    "    d1 = datetime.strptime(date1, \"%Y-%m-%d\")\n",
    "    d2 = datetime.strptime(date2, \"%Y-%m-%d\")\n",
    "    return abs((d2 - d1).days)\n",
    "\n",
    "date1 = \"2023-01-01\"\n",
    "date2 = \"2023-12-31\"\n",
    "print(f\"Days between {date1} and {date2}: {days_between(date1, date2)}\")\n"
   ]
  },
  {
   "cell_type": "code",
   "execution_count": null,
   "id": "f5abc930-8577-4f56-8f6d-959f3024dfaa",
   "metadata": {},
   "outputs": [],
   "source": []
  }
 ],
 "metadata": {
  "kernelspec": {
   "display_name": "Python 3 (ipykernel)",
   "language": "python",
   "name": "python3"
  },
  "language_info": {
   "codemirror_mode": {
    "name": "ipython",
    "version": 3
   },
   "file_extension": ".py",
   "mimetype": "text/x-python",
   "name": "python",
   "nbconvert_exporter": "python",
   "pygments_lexer": "ipython3",
   "version": "3.11.4"
  }
 },
 "nbformat": 4,
 "nbformat_minor": 5
}
