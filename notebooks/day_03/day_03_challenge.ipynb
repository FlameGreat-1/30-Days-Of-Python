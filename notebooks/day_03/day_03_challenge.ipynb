{
 "cells": [
  {
   "cell_type": "markdown",
   "id": "91500146",
   "metadata": {},
   "source": [
    "# Day 3 Challenge\n",
    "\n",
    "## Topics:\n",
    "\n",
    "## Exercises:\n",
    "\n",
    "## Notes:"
   ]
  }
 ],
 "metadata": {},
 "nbformat": 4,
 "nbformat_minor": 5
}
