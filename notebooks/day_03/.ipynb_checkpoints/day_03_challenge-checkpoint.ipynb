{
 "cells": [
  {
   "cell_type": "markdown",
   "id": "91500146",
   "metadata": {},
   "source": [
    "# Day 3 Challenge\n",
    "\n",
    "## Topics:\n",
    "\n",
    "## Exercises:\n",
    "\n",
    "## Notes:"
   ]
  },
  {
   "cell_type": "markdown",
   "id": "baff9a6b-dade-46b8-a74a-1ae92e1b483e",
   "metadata": {},
   "source": [
    "To define a function in Python, use the def keyword followed by the function name and parentheses. The function body is indented."
   ]
  },
  {
   "cell_type": "markdown",
   "id": "3c08b0ef-4b07-49c3-aa04-39da9f3300e5",
   "metadata": {},
   "source": [
    "Functions can send back results using the return statement."
   ]
  },
  {
   "cell_type": "code",
   "execution_count": null,
   "id": "d5820d79-797c-4af7-a9ef-c70c9c1a5c5c",
   "metadata": {},
   "outputs": [],
   "source": [
    "def add(a, b):\n",
    "    return a + b\n",
    "\n",
    "result = add(3, 5)\n",
    "print(result)  # Output: 8\n"
   ]
  }
 ],
 "metadata": {
  "kernelspec": {
   "display_name": "Python 3 (ipykernel)",
   "language": "python",
   "name": "python3"
  },
  "language_info": {
   "codemirror_mode": {
    "name": "ipython",
    "version": 3
   },
   "file_extension": ".py",
   "mimetype": "text/x-python",
   "name": "python",
   "nbconvert_exporter": "python",
   "pygments_lexer": "ipython3",
   "version": "3.11.4"
  }
 },
 "nbformat": 4,
 "nbformat_minor": 5
}
