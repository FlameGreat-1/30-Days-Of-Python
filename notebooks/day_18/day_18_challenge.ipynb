{
 "cells": [
  {
   "cell_type": "markdown",
   "id": "52c80fb2",
   "metadata": {},
   "source": [
    "# Day 18 Challenge\n",
    "\n",
    "## Topics:\n",
    "\n",
    "## Exercises:\n",
    "\n",
    "## Notes:"
   ]
  }
 ],
 "metadata": {},
 "nbformat": 4,
 "nbformat_minor": 5
}
