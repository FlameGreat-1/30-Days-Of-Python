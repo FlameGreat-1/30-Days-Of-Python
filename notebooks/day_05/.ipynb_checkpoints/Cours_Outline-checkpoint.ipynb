{
 "cells": [
  {
   "cell_type": "markdown",
   "id": "e8abc428",
   "metadata": {},
   "source": [
    "# Day 5 Challenge: Object-Oriented Programming in Python\n",
    "\n",
    "## Topics:\n",
    "1. Introduction to OOP\n",
    "2. Classes and Objects\n",
    "3. Methods\n",
    "4. Constructors and Destructors\n",
    "5. Encapsulation\n",
    "6. Inheritance\n",
    "7. Polymorphism\n",
    "8. Abstract Base Classes and Interfaces\n",
    "9. Advanced OOP Concepts\n",
    "\n",
    "## Notes:"
   ]
  },
  {
   "cell_type": "markdown",
   "id": "dbf109ce-1dc3-45af-abbd-876d8dd090d0",
   "metadata": {},
   "source": [
    "## 1. Introduction to OOP\n",
    "\n",
    "Object-Oriented Programming (OOP) is a programming paradigm that organizes software design around data, or objects, rather than functions and logic. An object can be defined as a data field that has unique attributes and behavior.\n",
    "\n",
    "Key concepts in OOP:\n",
    "- Objects: Instances of classes that contain data and code\n",
    "- Classes: Blueprints for creating objects\n",
    "- Attributes: Data stored inside an object or class\n",
    "- Methods: Functions defined inside a class that describe the behaviors of an object\n",
    "\n",
    "Benefits of OOP:\n",
    "1. Modularity: Encapsulation allows objects to be self-contained, making troubleshooting and collaborative development easier.\n",
    "2. Reusability: Through inheritance, you can reuse code from existing classes.\n",
    "3. Flexibility and scalability: Polymorphism allows for the same interface to be used for different underlying forms.\n",
    "4. Security: Encapsulation and abstraction provide a level of security by hiding implementation details.\n",
    "\n",
    "OOP vs Procedural Programming:\n",
    "Procedural programming focuses on procedures or routines, while OOP focuses on objects that contain both data and methods. OOP provides better organization for complex programs and is more suitable for large, complex, and actively updated or maintained programs."
   ]
  },
  {
   "cell_type": "markdown",
   "id": "784b628d-fddd-40cc-a5a4-994bfbb876b1",
   "metadata": {},
   "source": [
    "## 2. Classes and Objects\n",
    "\n",
    "A class is a blueprint for creating objects. It defines a set of attributes and methods that characterize any object of the class.\n",
    "\n",
    "Example:"
   ]
  },
  {
   "cell_type": "code",
   "execution_count": null,
   "id": "5ef2db16-2c1b-44a5-baca-a8c68f2e4881",
   "metadata": {},
   "outputs": [],
   "source": [
    "class Car:\n",
    "    def __init__(self, make, model, year):\n",
    "        self.make = make\n",
    "        self.model = model\n",
    "        self.year = year\n",
    "        \n",
    "    def display_info(self):\n",
    "        return f\"{self.year} {self.make} {self.model}\"\n",
    "\n",
    "# Creating an object (instance) of the Car class\n",
    "my_car = Car(\"Toyota\", \"Corolla\", 2022)\n",
    "print(my_car.display_info())  # Output: 2022 Toyota Corolla"
   ]
  },
  {
   "cell_type": "markdown",
   "id": "bd9e2008-d2a0-43b8-b982-a9d089e72824",
   "metadata": {},
   "source": [
    "In this example:\n",
    "- `Car` is a class\n",
    "- `make`, `model`, and `year` are attributes\n",
    "- `display_info()` is a method\n",
    "- `my_car` is an object (instance) of the `Car` class\n",
    "\n",
    "### Class attributes vs instance attributes:\n",
    "- Class attributes are shared by all instances of a class\n",
    "- Instance attributes are unique to each instance\n",
    "\n",
    "Example:"
   ]
  },
  {
   "cell_type": "code",
   "execution_count": null,
   "id": "68e733f7-7ec9-4c9e-9ba9-9b623375e6a4",
   "metadata": {},
   "outputs": [],
   "source": [
    "class Car:\n",
    "    wheels = 4  # Class attribute\n",
    "    \n",
    "    def __init__(self, make, model):\n",
    "        self.make = make  # Instance attribute\n",
    "        self.model = model  # Instance attribute\n",
    "\n",
    "car1 = Car(\"Toyota\", \"Corolla\")\n",
    "car2 = Car(\"Honda\", \"Civic\")\n",
    "\n",
    "print(Car.wheels)  # Output: 4\n",
    "print(car1.wheels)  # Output: 4\n",
    "print(car2.wheels)  # Output: 4\n",
    "\n",
    "Car.wheels = 3\n",
    "print(car1.wheels)  # Output: 3\n",
    "print(car2.wheels)  # Output: 3"
   ]
  },
  {
   "cell_type": "markdown",
   "id": "f1a7b3e9",
   "metadata": {},
   "source": [
    "The `self` parameter:\n",
    "`self` represents the instance of the class. By using the `self` keyword we can access the attributes and methods of the class in Python.\n",
    "\n",
    "## 3. Methods\n",
    "\n",
    "There are three types of methods in Python classes:\n",
    "\n",
    "a. Instance methods:\n",
    "These are the most common type of methods. They can access and modify object state."
   ]
  },
  {
   "cell_type": "code",
   "execution_count": null,
   "id": "b8f7c3e1",
   "metadata": {},
   "outputs": [],
   "source": [
    "class Car:\n",
    "    def __init__(self, make, model):\n",
    "        self.make = make\n",
    "        self.model = model\n",
    "    \n",
    "    def display_info(self):  # Instance method\n",
    "        return f\"{self.make} {self.model}\""
   ]
  },
  {
   "cell_type": "markdown",
   "id": "c7f8d3e2",
   "metadata": {},
   "source": [
    "b. Class methods:\n",
    "These methods are bound to the class and not the instance of the class. They can modify class state that applies across all instances of the class."
   ]
  },
  {
   "cell_type": "code",
   "execution_count": null,
   "id": "d9f7c3e3",
   "metadata": {},
   "outputs": [],
   "source": [
    "class Car:\n",
    "    total_cars = 0\n",
    "    \n",
    "    def __init__(self, make, model):\n",
    "        self.make = make\n",
    "        self.model = model\n",
    "        Car.total_cars += 1\n",
    "    \n",
    "    @classmethod\n",
    "    def get_total_cars(cls):  # Class method\n",
    "        return cls.total_cars"
   ]
  },
  {
   "cell_type": "markdown",
   "id": "e7f8d3e4",
   "metadata": {},
   "source": [
    "c. Static methods:\n",
    "These methods don't have access to `cls` or `self`. They work like regular functions but belong to the class's namespace."
   ]
  },
  {
   "cell_type": "code",
   "execution_count": null,
   "id": "f9f7c3e5",
   "metadata": {},
   "outputs": [],
   "source": [
    "class Car:\n",
    "    @staticmethod\n",
    "    def is_valid_year(year):  # Static method\n",
    "        return 1900 <= year <= 2023"
   ]
  },
  {
   "cell_type": "markdown",
   "id": "g7f8d3e6",
   "metadata": {},
   "source": [
    "## 4. Constructors and Destructors\n",
    "\n",
    "Constructor (`__init__`):\n",
    "The constructor is called when an object is created. It's used to initialize the object's state."
   ]
  },
  {
   "cell_type": "code",
   "execution_count": null,
   "id": "h9f7c3e7",
   "metadata": {},
   "outputs": [],
   "source": [
    "class Car:\n",
    "    def __init__(self, make, model):\n",
    "        self.make = make\n",
    "        self.model = model"
   ]
  },
  {
   "cell_type": "markdown",
   "id": "i7f8d3e8",
   "metadata": {},
   "source": [
    "Destructor (`__del__`):\n",
    "The destructor is called when an object is about to be destroyed. It's used to perform cleanup operations."
   ]
  },
  {
   "cell_type": "code",
   "execution_count": null,
   "id": "j9f7c3e9",
   "metadata": {},
   "outputs": [],
   "source": [
    "class Car:\n",
    "    def __init__(self, make, model):\n",
    "        self.make = make\n",
    "        self.model = model\n",
    "    \n",
    "    def __del__(self):\n",
    "        print(f\"The {self.make} {self.model} is being destroyed\")"
   ]
  },
  {
   "cell_type": "markdown",
   "id": "k7f8d3e0",
   "metadata": {},
   "source": [
    "## 5. Encapsulation\n",
    "\n",
    "Encapsulation is the bundling of data with the methods that operate on that data. It restricts direct access to some of an object's components, which is a means of preventing accidental interference and misuse of the methods and data.\n",
    "\n",
    "In Python, we use single underscore `_` for protected attributes and double underscore `__` for private attributes."
   ]
  },
  {
   "cell_type": "code",
   "execution_count": null,
   "id": "l9f7c3e1",
   "metadata": {},
   "outputs": [],
   "source": [
    "class Car:\n",
    "    def __init__(self, make, model):\n",
    "        self._make = make  # Protected attribute\n",
    "        self.__model = model  # Private attribute\n",
    "    \n",
    "    def get_model(self):  # Getter method\n",
    "        return self.__model\n",
    "    \n",
    "    def set_model(self, model):  # Setter method\n",
    "        self.__model = model\n",
    "    \n",
    "    @property\n",
    "    def make(self):  # Property decorator for getter\n",
    "        return self._make\n",
    "    \n",
    "    @make.setter\n",
    "    def make(self, make):  # Property decorator for setter\n",
    "        self._make = make"
   ]
  },
  {
   "cell_type": "markdown",
   "id": "m7f8d3e2",
   "metadata": {},
   "source": [
    "## 6. Inheritance\n",
    "\n",
    "Inheritance allows us to define a class that inherits all the methods and properties from another class."
   ]
  },
  {
   "cell_type": "code",
   "execution_count": null,
   "id": "n9f7c3e3",
   "metadata": {},
   "outputs": [],
   "source": [
    "class Vehicle:\n",
    "    def __init__(self, make, model):\n",
    "        self.make = make\n",
    "        self.model = model\n",
    "    \n",
    "    def display_info(self):\n",
    "        return f\"{self.make} {self.model}\"\n",
    "\n",
    "class Car(Vehicle):\n",
    "    def __init__(self, make, model, year):\n",
    "        super().__init__(make, model)\n",
    "        self.year = year\n",
    "    \n",
    "    def display_info(self):\n",
    "        return f\"{self.year} {super().display_info()}\"\n",
    "\n",
    "my_car = Car(\"Toyota\", \"Corolla\", 2022)\n",
    "print(my_car.display_info())  # Output: 2022 Toyota Corolla"
   ]
  },
  {
   "cell_type": "markdown",
   "id": "o7f8d3e4",
   "metadata": {},
   "source": [
    "## 7. Polymorphism\n",
    "\n",
    "Polymorphism allows us to define methods in the child class with the same name as defined in their parent class."
   ]
  },
  {
   "cell_type": "code",
   "execution_count": null,
   "id": "p9f7c3e5",
   "metadata": {},
   "outputs": [],
   "source": [
    "class Animal:\n",
    "    def speak(self):\n",
    "        pass\n",
    "\n",
    "class Dog(Animal):\n",
    "    def speak(self):\n",
    "        return \"Woof!\"\n",
    "\n",
    "class Cat(Animal):\n",
    "    def speak(self):\n",
    "        return \"Meow!\"\n",
    "\n",
    "def animal_sound(animal):\n",
    "    return animal.speak()\n",
    "\n",
    "dog = Dog()\n",
    "cat = Cat()\n",
    "\n",
    "print(animal_sound(dog))  # Output: Woof!\n",
    "print(animal_sound(cat))  # Output: Meow!"
   ]
  },
  {
   "cell_type": "markdown",
   "id": "q7f8d3e6",
   "metadata": {},
   "source": [
    "## 8. Abstract Base Classes and Interfaces\n",
    "\n",
    "Abstract base classes are classes that are meant to be inherited from, but not instantiated. They often define a common interface for their subclasses."
   ]
  },
  {
   "cell_type": "code",
   "execution_count": null,
   "id": "r9f7c3e7",
   "metadata": {},
   "outputs": [],
   "source": [
    "from abc import ABC, abstractmethod\n",
    "\n",
    "class Shape(ABC):\n",
    "    @abstractmethod\n",
    "    def area(self):\n",
    "        pass\n",
    "    \n",
    "    @abstractmethod\n",
    "    def perimeter(self):\n",
    "        pass\n",
    "\n",
    "class Rectangle(Shape):\n",
    "    def __init__(self, width, height):\n",
    "        self.width = width\n",
    "        self.height = height\n",
    "    \n",
    "    def area(self):\n",
    "        return self.width * self.height\n",
    "    \n",
    "    def perimeter(self):\n",
    "        return 2 * (self.width + self.height)\n",
    "\n",
    "# shape = Shape()  # This would raise an error\n",
    "rect = Rectangle(5, 3)\n",
    "print(rect.area())  # Output: 15\n",
    "print(rect.perimeter())  # Output: 16"
   ]
  },
  {
   "cell_type": "markdown",
   "id": "s7f8d3e8",
   "metadata": {},
   "source": [
    "## 9. Advanced OOP Concepts\n",
    "\n",
    "a. Composition vs Inheritance:\n",
    "Composition is a \"has-a\" relationship, while inheritance is an \"is-a\" relationship."
   ]
  },
  {
   "cell_type": "code",
   "execution_count": null,
   "id": "t9f7c3e9",
   "metadata": {},
   "outputs": [],
   "source": [
    "class Engine:\n",
    "    def start(self):\n",
    "        return \"Engine started\"\n",
    "\n",
    "class Car:\n",
    "    def __init__(self):\n",
    "        self.engine = Engine()  # Composition\n",
    "    \n",
    "    def start(self):\n",
    "        return self.engine.start()\n",
    "\n",
    "my_car = Car()\n",
    "print(my_car.start())  # Output: Engine started"
   ]
  },
  {
   "cell_type": "markdown",
   "id": "u7f8d3e0",
   "metadata": {},
   "source": [
    "b. Method Resolution Order (MRO):\n",
    "MRO is the order in which Python looks for a method in a hierarchy of classes."
   ]
  },
  {
   "cell_type": "code",
   "execution_count": null,
   "id": "v9f7c3e1",
   "metadata": {},
   "outputs": [],
   "source": [
    "class A:\n",
    "    def method(self):\n",
    "        return \"A\"\n",
    "\n",
    "class B(A):\n",
    "    def method(self):\n",
    "        return \"B\"\n",
    "\n",
    "class C(A):\n",
    "    def method(self):\n",
    "        return \"C\"\n",
    "\n",
    "class D(B, C):\n",
    "    pass\n",
    "\n",
    "d = D()\n",
    "print(d.method())  # Output: B\n",
    "print(D.mro())  # Shows the method resolution order"
   ]
  },
  {
   "cell_type": "markdown",
   "id": "w7f8d3e2",
   "metadata": {},
   "source": [
    "c. Mixins:\n",
    "Mixins are a sort of class that is used to \"mix in\" extra properties and methods into a class."
   ]
  },
  {
   "cell_type": "code",
   "execution_count": null,
   "id": "x9f7c3e3",
   "metadata": {},
   "outputs": [],
   "source": [
    "import json\n",
    "\n",
    "class Serializable:\n",
    "    def serialize(self):\n",
    "        return json.dumps(self.__dict__)\n",
    "\n",
    "class Person(Serializable):\n",
    "    def __init__(self, name, age):\n",
    "        self.name = name\n",
    "        self.age = age\n",
    "\n",
    "person = Person(\"Alice\", 30)\n",
    "print(person.serialize())  # Output: {\"name\": \"Alice\", \"age\": 30}"
   ]
  },
  {
   "cell_type": "markdown",
   "id": "y7f8d3e4",
   "metadata": {},
   "source": [
    "## Exercises:\n",
    "\n",
    "1. Create a `BankAccount` class with methods for deposit, withdrawal, and checking balance. Include proper error handling for insufficient funds.\n",
    "2. Implement a `Shape` hierarchy with classes for `Circle`, `Rectangle`, and `Triangle`. Include methods to calculate area and perimeter for each shape.\n",
        "3. Design an `Employee` management system with classes for `Employee`, `Manager`, and `Executive`. Use inheritance to represent the hierarchy.\n",
    "4. Create a `Library` management system with classes for `Book`, `Library`, and `Member`. Implement methods for checking out books, returning books, and managing library inventory.\n",
    "5. Develop a simple e-commerce system demonstrating the use of classes, inheritance, encapsulation, and polymorphism.\n",
    "\n",
    "Remember to test your code thoroughly and experiment with different scenarios. OOP is a powerful paradigm, and mastering it will significantly enhance your Python programming skills."
   ]
  },
  {
   "cell_type": "markdown",
   "id": "z7f8d3e5",
   "metadata": {},
   "source": [
    "## Additional Resources:\n",
    "\n",
    "1. Python Official Documentation on Classes: https://docs.python.org/3/tutorial/classes.html\n",
    "2. Real Python's OOP in Python 3: https://realpython.com/python3-object-oriented-programming/\n",
    "3. \"Python Object-Oriented Programming\" by Dusty Phillips (book)\n",
    "\n",
    "## Best Practices in OOP:\n",
    "\n",
    "1. Use meaningful class and method names\n",
    "2. Follow the Single Responsibility Principle: Each class should have one primary responsibility\n",
    "3. Use inheritance wisely: Favor composition over inheritance when appropriate\n",
    "4. Encapsulate data: Use private and protected attributes when necessary\n",
    "5. Write docstrings for classes and methods\n",
    "6. Use abstract base classes to define interfaces\n",
    "7. Implement proper error handling\n",
    "8. Keep your classes small and focused\n",
    "9. Use properties instead of direct attribute access when you need to add logic to getters and setters\n",
    "10. Use static methods and class methods appropriately"
   ]
  },
  {
   "cell_type": "markdown",
   "id": "aa7f8d3e6",
   "metadata": {},
   "source": [
    "## Conclusion:\n",
    "\n",
    "Object-Oriented Programming is a powerful paradigm that allows for the creation of complex, scalable, and maintainable software systems. By mastering the concepts of classes, objects, inheritance, polymorphism, and encapsulation, you'll be well-equipped to design and implement sophisticated Python programs.\n",
    "\n",
    "Remember that becoming proficient in OOP takes practice. Work through the exercises, build your own projects, and don't hesitate to explore advanced OOP concepts as you become more comfortable with the basics.\n",
    "\n",
    "Happy coding, and enjoy your journey into the world of Object-Oriented Programming with Python!"
   ]
  }
 ],
 "metadata": {
  "kernelspec": {
   "display_name": "Python 3 (ipykernel)",
   "language": "python",
   "name": "python3"
  },
  "language_info": {
   "codemirror_mode": {
    "name": "ipython",
    "version": 3
   },
   "file_extension": ".py",
   "mimetype": "text/x-python",
   "name": "python",
   "nbconvert_exporter": "python",
   "pygments_lexer": "ipython3",
   "version": "3.11.4"
  }
 },
 "nbformat": 4,
 "nbformat_minor": 5
}
