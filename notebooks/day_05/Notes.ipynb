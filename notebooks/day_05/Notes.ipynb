{
 "cells": [
  {
   "cell_type": "markdown",
   "id": "a1b2c3d4",
   "metadata": {},
   "source": [
    "# Lecture: Object-Oriented Programming in Python\n",
    "\n",
    "## Introduction to OOP\n",
    "\n",
    "Object-Oriented Programming (OOP) is a programming paradigm that organizes software design around data, or objects, rather than functions and logic. An object can be defined as a data field that has unique attributes and behavior.\n",
    "\n",
    "Key concepts in OOP:\n",
    "- Objects: Instances of classes that contain data and code\n",
    "- Classes: Blueprints for creating objects\n",
    "- Attributes: Data stored inside an object or class\n",
    "- Methods: Functions defined inside a class that describe the behaviors of an object\n",
    "\n",
    "Benefits of OOP:\n",
    "1. Modularity: Encapsulation allows objects to be self-contained, making troubleshooting and collaborative development easier.\n",
    "2. Reusability: Through inheritance, you can reuse code from existing classes.\n",
    "3. Flexibility and scalability: Polymorphism allows for the same interface to be used for different underlying forms.\n",
    "4. Security: Encapsulation and abstraction provide a level of security by hiding implementation details.\n",
    "\n",
    "OOP vs Procedural Programming:\n",
    "Procedural programming focuses on procedures or routines, while OOP focuses on objects that contain both data and methods. OOP provides better organization for complex programs and is more suitable for large, complex, and actively updated or maintained programs."
   ]
  },
  {
   "cell_type": "markdown",
   "id": "e5f6g7h8",
   "metadata": {},
   "source": [
    "## Classes and Objects\n",
    "\n",
    "A class is a blueprint for creating objects. It defines a set of attributes and methods that characterize any object of the class.\n",
    "\n",
    "Example:"
   ]
  },
  {
   "cell_type": "code",
   "execution_count": null,
   "id": "i9j0k1l2",
   "metadata": {},
   "outputs": [],
   "source": [
    "class Car:\n",
    "    def __init__(self, make, model, year):\n",
    "        self.make = make\n",
    "        self.model = model\n",
    "        self.year = year\n",
    "        \n",
    "    def display_info(self):\n",
    "        return f\"{self.year} {self.make} {self.model}\"\n",
    "\n",
    "# Creating an object (instance) of the Car class\n",
    "my_car = Car(\"Toyota\", \"Corolla\", 2022)\n",
    "print(my_car.display_info())  # Output: 2022 Toyota Corolla"
   ]
  },
  {
   "cell_type": "markdown",
   "id": "m3n4o5p6",
   "metadata": {},
   "source": [
    "In this example:\n",
    "- `Car` is a class\n",
    "- `make`, `model`, and `year` are attributes\n",
    "- `display_info()` is a method\n",
    "- `my_car` is an object (instance) of the `Car` class\n",
    "\n",
    "### Class attributes vs instance attributes:\n",
    "- Class attributes are shared by all instances of a class\n",
    "- Instance attributes are unique to each instance\n",
    "\n",
    "Example:"
   ]
  },
  {
   "cell_type": "code",
   "execution_count": null,
   "id": "q7r8s9t0",
   "metadata": {},
   "outputs": [],
   "source": [
    "class Car:\n",
    "    wheels = 4  # Class attribute\n",
    "    \n",
    "    def __init__(self, make, model):\n",
    "        self.make = make  # Instance attribute\n",
    "        self.model = model  # Instance attribute\n",
    "\n",
    "car1 = Car(\"Toyota\", \"Corolla\")\n",
    "car2 = Car(\"Honda\", \"Civic\")\n",
    "\n",
    "print(Car.wheels)  # Output: 4\n",
    "print(car1.wheels)  # Output: 4\n",
    "print(car2.wheels)  # Output: 4\n",
    "\n",
    "Car.wheels = 3\n",
    "print(car1.wheels)  # Output: 3\n",
    "print(car2.wheels)  # Output: 3"
   ]
  },
  {
   "cell_type": "markdown",
   "id": "u1v2w3x4",
   "metadata": {},
   "source": [
    "The `self` parameter:\n",
    "`self` represents the instance of the class. By using the `self` keyword we can access the attributes and methods of the class in Python.\n",
    "\n",
    "## Methods\n",
    "\n",
    "There are three types of methods in Python classes:\n",
    "\n",
    "a. Instance methods:\n",
    "These are the most common type of methods. They can access and modify object state."
   ]
  },
  {
   "cell_type": "code",
   "execution_count": null,
   "id": "y5z6a7b8",
   "metadata": {},
   "outputs": [],
   "source": [
    "class Car:\n",
    "    def __init__(self, make, model):\n",
    "        self.make = make\n",
    "        self.model = model\n",
    "    \n",
    "    def display_info(self):  # Instance method\n",
    "        return f\"{self.make} {self.model}\""
   ]
  },
  {
   "cell_type": "markdown",
   "id": "c9d0e1f2",
   "metadata": {},
   "source": [
    "b. Class methods:\n",
    "These methods are bound to the class and not the instance of the class. They can modify class state that applies across all instances of the class."
   ]
  },
  {
   "cell_type": "code",
   "execution_count": null,
   "id": "g3h4i5j6",
   "metadata": {},
   "outputs": [],
   "source": [
    "class Car:\n",
    "    total_cars = 0\n",
    "    \n",
    "    def __init__(self, make, model):\n",
    "        self.make = make\n",
    "        self.model = model\n",
    "        Car.total_cars += 1\n",
    "    \n",
    "    @classmethod\n",
    "    def get_total_cars(cls):  # Class method\n",
    "        return cls.total_cars"
   ]
  },
  {
   "cell_type": "markdown",
   "id": "k7l8m9n0",
   "metadata": {},
   "source": [
    "c. Static methods:\n",
    "These methods don't have access to `cls` or `self`. They work like regular functions but belong to the class's namespace."
   ]
  },
  {
   "cell_type": "code",
   "execution_count": null,
   "id": "o1p2q3r4",
   "metadata": {},
   "outputs": [],
   "source": [
    "class Car:\n",
    "    @staticmethod\n",
    "    def is_valid_year(year):  # Static method\n",
    "        return 1900 <= year <= 2023"
   ]
  },
  {
   "cell_type": "markdown",
   "id": "s5t6u7v8",
   "metadata": {},
   "source": [
    "## Constructors and Destructors\n",
    "\n",
    "Constructor (`__init__`):\n",
    "The constructor is called when an object is created. It's used to initialize the object's state."
   ]
  },
  {
   "cell_type": "code",
   "execution_count": null,
   "id": "w9x0y1z2",
   "metadata": {},
   "outputs": [],
   "source": [
    "class Car:\n",
    "    def __init__(self, make, model):\n",
    "        self.make = make\n",
    "        self.model = model"
   ]
  },
  {
   "cell_type": "markdown",
   "id": "a3b4c5d6",
   "metadata": {},
   "source": [
    "Destructor (`__del__`):\n",
    "The destructor is called when an object is about to be destroyed. It's used to perform cleanup operations."
   ]
  },
  {
   "cell_type": "code",
   "execution_count": null,
   "id": "e7f8g9h0",
   "metadata": {},
   "outputs": [],
   "source": [
    "class Car:\n",
    "    def __init__(self, make, model):\n",
    "        self.make = make\n",
    "        self.model = model\n",
    "    \n",
    "    def __del__(self):\n",
    "        print(f\"The {self.make} {self.model} is being destroyed\")"
   ]
  },
  {
   "cell_type": "markdown",
   "id": "i1j2k3l4",
   "metadata": {},
   "source": [
    "## Encapsulation\n",
    "\n",
    "Encapsulation is the bundling of data with the methods that operate on that data. It restricts direct access to some of an object's components, which is a means of preventing accidental interference and misuse of the methods and data.\n",
    "\n",
    "In Python, we use single underscore `_` for protected attributes and double underscore `__` for private attributes."
   ]
  },
  {
   "cell_type": "code",
   "execution_count": null,
   "id": "m5n6o7p8",
   "metadata": {},
   "outputs": [],
   "source": [
    "class Car:\n",
    "    def __init__(self, make, model):\n",
    "        self._make = make  # Protected attribute\n",
    "        self.__model = model  # Private attribute\n",
    "    \n",
    "    def get_model(self):  # Getter method\n",
    "        return self.__model\n",
    "    \n",
    "    def set_model(self, model):  # Setter method\n",
    "        self.__model = model\n",
    "    \n",
    "    @property\n",
    "    def make(self):  # Property decorator for getter\n",
    "        return self._make\n",
    "    \n",
    "    @make.setter\n",
    "    def make(self, make):  # Property decorator for setter\n",
    "        self._make = make"
   ]
  },
  {
   "cell_type": "markdown",
   "id": "q9r0s1t2",
   "metadata": {},
   "source": [
    "## Inheritance\n",
    "\n",
    "Inheritance allows us to define a class that inherits all the methods and properties from another class."
   ]
  },
  {
   "cell_type": "code",
   "execution_count": null,
   "id": "u3v4w5x6",
   "metadata": {},
   "outputs": [],
   "source": [
    "class Vehicle:\n",
    "    def __init__(self, make, model):\n",
    "        self.make = make\n",
    "        self.model = model\n",
    "    \n",
    "    def display_info(self):\n",
    "        return f\"{self.make} {self.model}\"\n",
    "\n",
    "class Car(Vehicle):\n",
    "    def __init__(self, make, model, year):\n",
    "        super().__init__(make, model)\n",
    "        self.year = year\n",
    "    \n",
    "    def display_info(self):\n",
    "        return f\"{self.year} {super().display_info()}\"\n",
    "\n",
    "my_car = Car(\"Toyota\", \"Corolla\", 2022)\n",
    "print(my_car.display_info())  # Output: 2022 Toyota Corolla"
   ]
  },
  {
   "cell_type": "markdown",
   "id": "y7z8a9b0",
   "metadata": {},
   "source": [
    "## Polymorphism\n",
    "\n",
    "Polymorphism allows us to define methods in the child class with the same name as defined in their parent class."
   ]
  },
  {
   "cell_type": "code",
   "execution_count": null,
   "id": "c1d2e3f4",
   "metadata": {},
   "outputs": [],
   "source": [
    "class Animal:\n",
    "    def speak(self):\n",
    "        pass\n",
    "\n",
    "class Dog(Animal):\n",
    "    def speak(self):\n",
    "        return \"Woof!\"\n",
    "\n",
    "class Cat(Animal):\n",
    "    def speak(self):\n",
    "        return \"Meow!\"\n",
    "\n",
    "def animal_sound(animal):\n",
    "    return animal.speak()\n",
    "\n",
    "dog = Dog()\n",
    "cat = Cat()\n",
    "\n",
    "print(animal_sound(dog))  # Output: Woof!\n",
    "print(animal_sound(cat))  # Output: Meow!"
   ]
  },
  {
   "cell_type": "markdown",
   "id": "g5h6i7j8",
   "metadata": {},
   "source": [
    "## Abstract Base Classes and Interfaces\n",
    "\n",
    "Abstract base classes are classes that are meant to be inherited from, but not instantiated. They often define a common interface for their subclasses."
   ]
  },
  {
   "cell_type": "code",
   "execution_count": null,
   "id": "k9l0m1n2",
   "metadata": {},
   "outputs": [],
   "source": [
    "from abc import ABC, abstractmethod\n",
    "\n",
    "class Shape(ABC):\n",
    "    @abstractmethod\n",
    "    def area(self):\n",
    "        pass\n",
    "    \n",
    "    @abstractmethod\n",
    "    def perimeter(self):\n",
    "        pass\n",
    "\n",
    "class Rectangle(Shape):\n",
    "    def __init__(self, width, height):\n",
    "        self.width = width\n",
    "        self.height = height\n",
    "    \n",
    "    def area(self):\n",
    "        return self.width * self.height\n",
    "    \n",
    "    def perimeter(self):\n",
    "        return 2 * (self.width + self.height)\n",
    "\n",
    "# shape = Shape()  # This would raise an error\n",
    "rect = Rectangle(5, 3)\n",
    "print(rect.area())  # Output: 15\n",
    "print(rect.perimeter())  # Output: 16"
   ]
  },
  {
   "cell_type": "markdown",
   "id": "o3p4q5r6",
   "metadata": {},
   "source": [
    "## Advanced OOP Concepts\n",
    "\n",
    "a. Composition vs Inheritance:\n",
    "Composition is a \"has-a\" relationship, while inheritance is an \"is-a\" relationship."
   ]
  },
  {
   "cell_type": "code",
   "execution_count": null,
   "id": "s7t8u9v0",
   "metadata": {},
   "outputs": [],
   "source": [
    "class Engine:\n",
    "    def start(self):\n",
    "        return \"Engine started\"\n",
    "\n",
    "class Car:\n",
    "    def __init__(self):\n",
    "        self.engine = Engine()  # Composition\n",
    "    \n",
    "    def start(self):\n",
    "        return self.engine.start()\n",
    "\n",
    "my_car = Car()\n",
    "print(my_car.start())  # Output: Engine started"
   ]
  },
  {
   "cell_type": "markdown",
   "id": "w1x2y3z4",
   "metadata": {},
   "source": [
    "b. Method Resolution Order (MRO):\n",
    "MRO is the order in which Python looks for a method in a hierarchy of classes."
   ]
  },
  {
   "cell_type": "code",
   "execution_count": null,
   "id": "a5b6c7d8",
   "metadata": {},
   "outputs": [],
   "source": [
    "class A:\n",
    "    def method(self):\n",
    "        return \"A\"\n",
    "\n",
    "class B(A):\n",
    "    def method(self):\n",
    "        return \"B\"\n",
    "\n",
    "class C(A):\n",
    "    def method(self):\n",
    "        return \"C\"\n",
    "\n",
    "class D(B, C):\n",
    "    pass\n",
    "\n",
    "d = D()\n",
    "print(d.method())  # Output: B\n",
    "print(D.mro())  # Shows the method resolution order"
   ]
  },
  {
   "cell_type": "markdown",
   "id": "e9f0g1h2",
   "metadata": {},
   "source": [
    "c. Mixins:\n",
    "Mixins are a sort of class that is used to \"mix in\" extra properties and methods into a class."
   ]
  },
  {
   "cell_type": "code",
   "execution_count": null,
   "id": "i3j4k5l6",
   "metadata": {},
   "outputs": [],
   "source": [
    "import json\n",
    "\n",
    "class Serializable:\n",
    "    def serialize(self):\n",
    "        return json.dumps(self.__dict__)\n",
    "\n",
    "class Person(Serializable):\n",
    "    def __init__(self, name, age):\n",
    "        self.name = name\n",
    "        self.age = age\n",
    "\n",
    "person = Person(\"Alice\", 30)\n",
    "print(person.serialize())  # Output: {\"name\": \"Alice\", \"age\": 30}"
   ]
  },
  {
   "cell_type": "markdown",
   "id": "m7n8o9p0",
   "metadata": {},
   "source": [
    "This lecture covers the fundamental and advanced concepts of Object-Oriented Programming in Python. Practice these concepts by working on various projects and exercises to reinforce your understanding."
   ]
  }
 ],
 "metadata": {
  "kernelspec": {
   "display_name": "Python 3",
   "language": "python",
   "name": "python3"
  },
  "language_info": {
   "codemirror_mode": {
    "name": "ipython",
    "version": 3
   },
   "file_extension": ".py",
   "mimetype": "text/x-python",
   "name": "python",
   "nbconvert_exporter": "python",
   "pygments_lexer": "ipython3",
   "version": "3.8.8"
  }
 },
 "nbformat": 4,
 "nbformat_minor": 5
}
