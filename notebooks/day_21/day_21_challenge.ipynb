{
 "cells": [
  {
   "cell_type": "markdown",
   "id": "a645ab44",
   "metadata": {},
   "source": [
    "# Day 21 Challenge\n",
    "\n",
    "## Topics:\n",
    "\n",
    "## Exercises:\n",
    "\n",
    "## Notes:"
   ]
  }
 ],
 "metadata": {},
 "nbformat": 4,
 "nbformat_minor": 5
}
